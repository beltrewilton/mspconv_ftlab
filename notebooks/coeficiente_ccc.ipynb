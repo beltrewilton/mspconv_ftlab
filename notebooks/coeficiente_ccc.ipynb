{
  "nbformat": 4,
  "nbformat_minor": 0,
  "metadata": {
    "colab": {
      "provenance": [],
      "authorship_tag": "ABX9TyPjhmWNI6y4W4IAzi9scSz6",
      "include_colab_link": true
    },
    "kernelspec": {
      "name": "python3",
      "display_name": "Python 3"
    },
    "language_info": {
      "name": "python"
    }
  },
  "cells": [
    {
      "cell_type": "markdown",
      "metadata": {
        "id": "view-in-github",
        "colab_type": "text"
      },
      "source": [
        "<a href=\"https://colab.research.google.com/github/beltrewilton/mspconv_ftlab/blob/main/coeficiente_ccc.ipynb\" target=\"_parent\"><img src=\"https://colab.research.google.com/assets/colab-badge.svg\" alt=\"Open In Colab\"/></a>"
      ]
    },
    {
      "cell_type": "code",
      "execution_count": null,
      "metadata": {
        "id": "abRmolhC1qwr"
      },
      "outputs": [],
      "source": [
        "import numpy as np\n",
        "\n",
        "def ccc(gold, pred):\n",
        "    gold = np.squeeze(gold)\n",
        "    pred = np.squeeze(pred)\n",
        "    gold_mean = np.mean(gold, axis=-1, keepdims=True)\n",
        "    pred_mean = np.mean(pred, axis=-1, keepdims=True)\n",
        "    covariance = np.mean((gold - gold_mean) * (pred - pred_mean), axis=-1, keepdims=True)\n",
        "    gold_var = np.mean(np.square(gold - gold_mean), axis=-1, keepdims=True)\n",
        "    pred_var = np.mean(np.square(pred - pred_mean), axis=-1, keepdims=True)\n",
        "    ccc = 2. * covariance / (gold_var + pred_var + np.square(gold_mean - pred_mean) + np.finfo(float).eps)\n",
        "    return ccc"
      ]
    },
    {
      "cell_type": "code",
      "source": [
        "import numpy as np\n",
        "\n",
        "# Generar datos de ejemplo\n",
        "np.random.seed(90)\n",
        "gold_data = np.random.uniform(low=0.0, high=1.0, size=100)\n",
        "pred_data = np.random.uniform(low=0.0, high=1.0, size=100)"
      ],
      "metadata": {
        "id": "5CTwlSDE3Qnj"
      },
      "execution_count": null,
      "outputs": []
    },
    {
      "cell_type": "code",
      "source": [
        "ccc(gold_data, pred_data)"
      ],
      "metadata": {
        "id": "Yan4E0QD-kCO",
        "colab": {
          "base_uri": "https://localhost:8080/"
        },
        "outputId": "d8aafe22-bc43-4a9f-8a38-74855a570802"
      },
      "execution_count": null,
      "outputs": [
        {
          "output_type": "execute_result",
          "data": {
            "text/plain": [
              "array([0.15836184])"
            ]
          },
          "metadata": {},
          "execution_count": 12
        }
      ]
    }
  ]
}