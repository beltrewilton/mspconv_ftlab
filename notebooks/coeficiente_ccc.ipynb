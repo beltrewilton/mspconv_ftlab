{
 "cells": [
  {
   "cell_type": "markdown",
   "metadata": {
    "colab_type": "text",
    "id": "view-in-github"
   },
   "source": [
    "<a href=\"https://colab.research.google.com/github/beltrewilton/mspconv_ftlab/blob/main/coeficiente_ccc.ipynb\" target=\"_parent\"><img src=\"https://colab.research.google.com/assets/colab-badge.svg\" alt=\"Open In Colab\"/></a>"
   ]
  },
  {
   "cell_type": "code",
   "execution_count": null,
   "metadata": {
    "id": "abRmolhC1qwr"
   },
   "outputs": [],
   "source": [
    "import numpy as np\n",
    "\n",
    "def ccc(gold, pred):\n",
    "    gold = np.squeeze(gold)\n",
    "    pred = np.squeeze(pred)\n",
    "    gold_mean = np.mean(gold, axis=-1, keepdims=True)\n",
    "    pred_mean = np.mean(pred, axis=-1, keepdims=True)\n",
    "    covariance = np.mean((gold - gold_mean) * (pred - pred_mean), axis=-1, keepdims=True)\n",
    "    gold_var = np.mean(np.square(gold - gold_mean), axis=-1, keepdims=True)\n",
    "    pred_var = np.mean(np.square(pred - pred_mean), axis=-1, keepdims=True)\n",
    "    ccc = 2. * covariance / (gold_var + pred_var + np.square(gold_mean - pred_mean) + np.finfo(float).eps)\n",
    "    return ccc"
   ]
  },
  {
   "cell_type": "code",
   "execution_count": null,
   "metadata": {
    "id": "5CTwlSDE3Qnj"
   },
   "outputs": [],
   "source": [
    "import numpy as np\n",
    "\n",
    "# Generar datos de ejemplo\n",
    "np.random.seed(90)\n",
    "gold_data = np.random.uniform(low=0.0, high=1.0, size=100)\n",
    "pred_data = np.random.uniform(low=0.0, high=1.0, size=100)"
   ]
  },
  {
   "cell_type": "code",
   "execution_count": null,
   "metadata": {
    "colab": {
     "base_uri": "https://localhost:8080/"
    },
    "id": "Yan4E0QD-kCO",
    "outputId": "d8aafe22-bc43-4a9f-8a38-74855a570802"
   },
   "outputs": [
    {
     "data": {
      "text/plain": [
       "array([0.15836184])"
      ]
     },
     "execution_count": 12,
     "metadata": {},
     "output_type": "execute_result"
    }
   ],
   "source": [
    "ccc(gold_data, pred_data)"
   ]
  }
 ],
 "metadata": {
  "colab": {
   "authorship_tag": "ABX9TyPjhmWNI6y4W4IAzi9scSz6",
   "include_colab_link": true,
   "provenance": []
  },
  "hide_input": false,
  "kernelspec": {
   "display_name": "Python 3 (ipykernel)",
   "language": "python",
   "name": "python3"
  },
  "language_info": {
   "codemirror_mode": {
    "name": "ipython",
    "version": 3
   },
   "file_extension": ".py",
   "mimetype": "text/x-python",
   "name": "python",
   "nbconvert_exporter": "python",
   "pygments_lexer": "ipython3",
   "version": "3.9.12"
  },
  "toc": {
   "base_numbering": 1,
   "nav_menu": {},
   "number_sections": true,
   "sideBar": true,
   "skip_h1_title": false,
   "title_cell": "Table of Contents",
   "title_sidebar": "Contents",
   "toc_cell": false,
   "toc_position": {},
   "toc_section_display": true,
   "toc_window_display": false
  }
 },
 "nbformat": 4,
 "nbformat_minor": 1
}
