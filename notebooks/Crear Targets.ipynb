{
 "cells": [
  {
   "cell_type": "code",
   "execution_count": 1,
   "id": "0c2face7",
   "metadata": {},
   "outputs": [],
   "source": [
    "# Mandatorio al inicio de cada notebook\n",
    "import os\n",
    "import warnings\n",
    "os.chdir(os.path.abspath(\"..\"))\n",
    "warnings.filterwarnings('ignore')"
   ]
  },
  {
   "cell_type": "code",
   "execution_count": 2,
   "id": "7ae9b485",
   "metadata": {},
   "outputs": [],
   "source": [
    "# Imports genéricos\n",
    "import stable_whisper\n",
    "import pandas as pd\n",
    "import soundfile as sf\n",
    "import ast\n",
    "\n",
    "# Archivos y dirs importantes\n",
    "df_annotations = pd.read_excel('data/annotations.xlsx')\n",
    "dir_audios = 'data/MSPCORPUS/Audio'\n",
    "dir_trans = 'data/TRANSCRIPCIONES'"
   ]
  },
  {
   "cell_type": "code",
   "execution_count": 3,
   "id": "47c6ef8d",
   "metadata": {},
   "outputs": [],
   "source": [
    "from src.dataload import audio_select_mean_vote "
   ]
  },
  {
   "cell_type": "code",
   "execution_count": 4,
   "id": "a6dfbea7",
   "metadata": {},
   "outputs": [],
   "source": [
    "# prompt: save a json\n",
    "import json\n",
    "\n",
    "with open(\"data/targets_mean_vote_dict.json\", \"r\") as json_file:\n",
    "    feature_dict = json.load(json_file)"
   ]
  },
  {
   "cell_type": "code",
   "execution_count": 13,
   "id": "3ebcba34",
   "metadata": {
    "scrolled": true
   },
   "outputs": [
    {
     "data": {
      "text/plain": [
       "244"
      ]
     },
     "execution_count": 13,
     "metadata": {},
     "output_type": "execute_result"
    }
   ],
   "source": [
    "len(os.listdir('data/TRANSCRIPCIONES'))"
   ]
  },
  {
   "cell_type": "code",
   "execution_count": 7,
   "id": "c6576ee3",
   "metadata": {},
   "outputs": [
    {
     "data": {
      "text/plain": [
       "60"
      ]
     },
     "execution_count": 7,
     "metadata": {},
     "output_type": "execute_result"
    }
   ],
   "source": [
    "len(feature_dict.keys())"
   ]
  },
  {
   "cell_type": "code",
   "execution_count": 11,
   "id": "52c44bb6",
   "metadata": {},
   "outputs": [
    {
     "data": {
      "text/plain": [
       "205"
      ]
     },
     "execution_count": 11,
     "metadata": {},
     "output_type": "execute_result"
    }
   ],
   "source": [
    "len(df_annotations[df_annotations['Type'] != 'Development']['Audio_Name'].drop_duplicates())"
   ]
  },
  {
   "cell_type": "code",
   "execution_count": 14,
   "id": "02ef39e1",
   "metadata": {},
   "outputs": [
    {
     "data": {
      "text/plain": [
       "244"
      ]
     },
     "execution_count": 14,
     "metadata": {},
     "output_type": "execute_result"
    }
   ],
   "source": [
    "len(df_annotations['Audio_Name'].drop_duplicates())"
   ]
  },
  {
   "cell_type": "code",
   "execution_count": 42,
   "id": "e7488856",
   "metadata": {},
   "outputs": [],
   "source": [
    "df_audios_usables = df_annotations[df_annotations['Type'] != 'Development'][['PC_Num','Part_Num']].drop_duplicates().groupby('PC_Num').count().reset_index()\n",
    "\n",
    "pc_num_list = df_audios_usables['PC_Num'].values\n",
    "\n",
    "iterlist_zip = df_annotations[['Audio_Name','PC_Num']]\n",
    "\n",
    "# zip para iterar\n",
    "df_pc_num_list = iterlist_zip[iterlist_zip['PC_Num'].isin(pc_num_list)].drop_duplicates()"
   ]
  },
  {
   "cell_type": "code",
   "execution_count": 26,
   "id": "7ee60a52",
   "metadata": {},
   "outputs": [
    {
     "name": "stdout",
     "output_type": "stream",
     "text": [
      "Procesando:  MSP-Conversation_0021.wav\n"
     ]
    }
   ],
   "source": [
    "targets_mean_vote = {}\n",
    "\n",
    "for pc_num, audio_name in zip(df_pc_num_list['PC_Num'], df_pc_num_list['Audio_Name']):\n",
    "    \n",
    "    part_max = df_annotations[df_annotations['PC_Num'] == pc_num]['Part_Num'].max()\n",
    "    \n",
    "    try:\n",
    "        feature_dict[audio_name]\n",
    "    except:\n",
    "        feature_dict[audio_name] = {}\n",
    "        \n",
    "    part_sets = {}\n",
    "    \n",
    "    for part in range(part_max):\n",
    "        part_sets[part + 1] = audio_select_mean_vote(df_annotations, part_num = part + 1, pc_num = pc_num)\n",
    "        \n",
    "    print(f'Error en {audio_name}')"
   ]
  },
  {
   "cell_type": "code",
   "execution_count": 33,
   "id": "e04045d9",
   "metadata": {},
   "outputs": [
    {
     "data": {
      "text/plain": [
       "60"
      ]
     },
     "execution_count": 33,
     "metadata": {},
     "output_type": "execute_result"
    }
   ],
   "source": [
    "len(feature_dict.keys())"
   ]
  }
 ],
 "metadata": {
  "hide_input": false,
  "kernelspec": {
   "display_name": "SER",
   "language": "python",
   "name": "myenv"
  },
  "language_info": {
   "codemirror_mode": {
    "name": "ipython",
    "version": 3
   },
   "file_extension": ".py",
   "mimetype": "text/x-python",
   "name": "python",
   "nbconvert_exporter": "python",
   "pygments_lexer": "ipython3",
   "version": "3.9.16"
  },
  "toc": {
   "base_numbering": 1,
   "nav_menu": {},
   "number_sections": true,
   "sideBar": true,
   "skip_h1_title": false,
   "title_cell": "Table of Contents",
   "title_sidebar": "Contents",
   "toc_cell": false,
   "toc_position": {},
   "toc_section_display": true,
   "toc_window_display": false
  }
 },
 "nbformat": 4,
 "nbformat_minor": 5
}
