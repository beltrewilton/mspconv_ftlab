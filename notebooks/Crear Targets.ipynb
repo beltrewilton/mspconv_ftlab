{
 "cells": [
  {
   "cell_type": "code",
   "execution_count": 1,
   "id": "0c2face7",
   "metadata": {},
   "outputs": [],
   "source": [
    "# Mandatorio al inicio de cada notebook\n",
    "import os\n",
    "import warnings\n",
    "os.chdir(os.path.abspath(\"..\"))\n",
    "warnings.filterwarnings('ignore')"
   ]
  },
  {
   "cell_type": "code",
   "execution_count": 2,
   "id": "7ae9b485",
   "metadata": {},
   "outputs": [],
   "source": [
    "# Imports genéricos\n",
    "import stable_whisper\n",
    "import pandas as pd\n",
    "import soundfile as sf\n",
    "import ast\n",
    "\n",
    "# Archivos y dirs importantes\n",
    "df_annotations = pd.read_excel('data/annotations.xlsx')\n",
    "dir_audios = 'data/MSPCORPUS/Audio'\n",
    "dir_trans = 'data/TRANSCRIPCIONES'"
   ]
  },
  {
   "cell_type": "code",
   "execution_count": 4,
   "id": "47c6ef8d",
   "metadata": {},
   "outputs": [],
   "source": [
    "from src.dataload import audio_select_mean_vote "
   ]
  },
  {
   "cell_type": "code",
   "execution_count": 10,
   "id": "a6dfbea7",
   "metadata": {},
   "outputs": [],
   "source": [
    "# prompt: save a json\n",
    "import json\n",
    "\n",
    "with open(\"data/targets_mean_vote_dict.json\", \"r\") as json_file:\n",
    "    feature_dict = json.load(json_file)"
   ]
  },
  {
   "cell_type": "code",
   "execution_count": 28,
   "id": "e7488856",
   "metadata": {},
   "outputs": [],
   "source": [
    "# Obtengo todos los audios con 4 partes que no esen en development\n",
    "df_audios_completos = df_annotations[df_annotations['Type'] != 'Development'][['PC_Num','Part_Num']].drop_duplicates().groupby('PC_Num').count().reset_index()\n",
    "pc_num_list = df_audios_completos['PC_Num'].values"
   ]
  },
  {
   "cell_type": "code",
   "execution_count": 29,
   "id": "b811a12b",
   "metadata": {},
   "outputs": [],
   "source": [
    "iterlist_zip = df_annotations[['Audio_Name','PC_Num']]\n",
    "df_pc_num_list = iterlist_zip[iterlist_zip['PC_Num'].isin(pc_num_list)].drop_duplicates()"
   ]
  },
  {
   "cell_type": "code",
   "execution_count": 42,
   "id": "04da2ecf",
   "metadata": {},
   "outputs": [
    {
     "name": "stdout",
     "output_type": "stream",
     "text": [
      "Procesando:  MSP-Conversation_0021.wav\n"
     ]
    }
   ],
   "source": [
    "targets_mean_vote = {}\n",
    "\n",
    "for pc_num, audio_name in zip(df_pc_num_list['PC_Num'], df_pc_num_list['Audio_Name']):\n",
    "    \n",
    "    part_max = df_annotations[df_annotations['PC_Num'] == 21]['Part_Num'].max()\n",
    "    part_sets = {}\n",
    "    \n",
    "    print('Procesando: ', audio_name)\n",
    "    for part in range(part_max -1):\n",
    "        part_sets[part + 1] = audio_select_mean_vote(df_annotations, part_num = part, pc_num = pc_num)\n",
    "    #df_test_2 = audio_select_mean_vote(df_annotations, part_num = 2, pc_num = pc_num)\n",
    "    #df_test_3 = audio_select_mean_vote(df_annotations, part_num = 3, pc_num = pc_num)\n",
    "    #df_test_4 = audio_select_mean_vote(df_annotations, part_num = 4, pc_num = pc_num)\n",
    "\n",
    "    #df_test_2['Time'] = df_test_1['Time'].max() + df_test_2['Time']\n",
    "    #df_test_3['Time'] = df_test_2['Time'].max() + df_test_3['Time']\n",
    "    #df_test_4['Time'] = df_test_3['Time'].max() + df_test_4['Time']\n",
    "\n",
    "    #df_test = pd.concat([df_test_1, df_test_2, df_test_3, df_test_4], ignore_index = True)\n",
    "    #targets_mean_vote[audio_name] = {}\n",
    "    #targets_mean_vote[audio_name]['tupla_start_end'] = {}\n",
    "    #targets_mean_vote[audio_name]['mean_vote_target'] = {}\n",
    "    #idx = 0\n",
    "\n",
    "    #for segment in feature_dict[audio_name]['tupla_start_end']:\n",
    "    #    beginning = segment[0]\n",
    "    #    end = segment[1]\n",
    "\n",
    "    #    targets_mean_vote[audio_name]['mean_vote_target'][idx] = df_test[(df_test['Time'] >= beginning) & (df_test['Time'] <= end)][['Arousal','Dominance','Valence']].mean().values.tolist()\n",
    "    #    targets_mean_vote[audio_name]['tupla_start_end'][idx] = segment\n",
    "\n",
    "    #    idx += 1\n",
    "    break"
   ]
  },
  {
   "cell_type": "code",
   "execution_count": null,
   "id": "f7e4c17e",
   "metadata": {},
   "outputs": [],
   "source": []
  }
 ],
 "metadata": {
  "hide_input": false,
  "kernelspec": {
   "display_name": "SER",
   "language": "python",
   "name": "myenv"
  },
  "language_info": {
   "codemirror_mode": {
    "name": "ipython",
    "version": 3
   },
   "file_extension": ".py",
   "mimetype": "text/x-python",
   "name": "python",
   "nbconvert_exporter": "python",
   "pygments_lexer": "ipython3",
   "version": "3.9.16"
  },
  "toc": {
   "base_numbering": 1,
   "nav_menu": {},
   "number_sections": true,
   "sideBar": true,
   "skip_h1_title": false,
   "title_cell": "Table of Contents",
   "title_sidebar": "Contents",
   "toc_cell": false,
   "toc_position": {},
   "toc_section_display": true,
   "toc_window_display": false
  }
 },
 "nbformat": 4,
 "nbformat_minor": 5
}
