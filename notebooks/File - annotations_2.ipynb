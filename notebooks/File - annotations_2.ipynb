{
 "cells": [
  {
   "cell_type": "code",
   "execution_count": 1,
   "id": "093d8681",
   "metadata": {},
   "outputs": [],
   "source": [
    "import librosa\n",
    "import os\n",
    "import pandas as pd\n",
    "import numpy as np\n",
    "\n",
    "# Set current working directory to parent folder\n",
    "os.chdir(os.path.abspath(\"..\"))"
   ]
  },
  {
   "cell_type": "code",
   "execution_count": 2,
   "id": "2edc2acc",
   "metadata": {},
   "outputs": [],
   "source": [
    "# Lee el archivo que identifica como los audios estan divididos\n",
    "df_conv = pd.read_csv(f\"data/MSPCORPUS/Time_Labels/conversation_parts.txt\", delimiter=\";\", header=None, names=['Conversation_Part', 'start_time', 'end_time'])\n",
    "\n",
    "# Creamos dos columnas con el podcast number y la parte de ese podcast\n",
    "df_conv['PC_Num'] = df_conv['Conversation_Part'].apply(lambda x: x[17:21]).astype(int)\n",
    "df_conv['Part_Num'] = df_conv['Conversation_Part'].apply(lambda x: x[22:23]).astype(int)\n",
    "\n",
    "mem = {}\n",
    "\n",
    "def add_sync_time_columns(row):\n",
    "    if row.Part_Num == 1:\n",
    "        st = 0\n",
    "        mem[row.PC_Num] = row.start_time\n",
    "    else:\n",
    "        st = row.start_time - mem[row.PC_Num]\n",
    "        \n",
    "    row['m_start_time'] = st\n",
    "    row['m_end_time'] = row.end_time - mem[row.PC_Num]\n",
    "    \n",
    "    return row\n",
    "\n",
    "# Una fila con los audios en formato inicio: 0 y final: final - inicio\n",
    "df_conv = df_conv.apply(lambda row: add_sync_time_columns(row), axis=1)\n",
    "df_conv = df_conv[['Conversation_Part','start_time', 'end_time', 'm_start_time', 'm_end_time', 'PC_Num', 'Part_Num']]\n",
    "df_conv['Audio_Name'] = df_conv['Conversation_Part'].apply(lambda x: x[0:21]) + \".wav\""
   ]
  },
  {
   "cell_type": "code",
   "execution_count": 3,
   "id": "9e4f0629",
   "metadata": {},
   "outputs": [],
   "source": [
    "df_annotations = pd.read_excel(f'data/annotations.xlsx')"
   ]
  },
  {
   "cell_type": "code",
   "execution_count": 4,
   "id": "65e37279",
   "metadata": {},
   "outputs": [],
   "source": [
    "df_annotations_2 = pd.merge(left = df_annotations[['Name','Emotion','Annotator','PC_Num','Part_Num']], \n",
    "                                 right = df_conv[['start_time','end_time','m_start_time','m_end_time','Audio_Name','PC_Num','Part_Num']],\n",
    "                                 how = 'left', \n",
    "                                 on = ['PC_Num','Part_Num'])"
   ]
  },
  {
   "cell_type": "code",
   "execution_count": 5,
   "id": "cf7010ac",
   "metadata": {},
   "outputs": [],
   "source": [
    "df_annotations_2['start_time'] = df_annotations_2['m_start_time']\n",
    "df_annotations_2['end_time'] = df_annotations_2['m_end_time']\n",
    "\n",
    "df_annotations_2.drop(['m_start_time','m_end_time'], axis = 1, inplace = True)"
   ]
  },
  {
   "cell_type": "code",
   "execution_count": 6,
   "id": "6ed1617e",
   "metadata": {},
   "outputs": [],
   "source": [
    "df_annotations_2.to_excel('annotations_2.xlsx', index = False)"
   ]
  }
 ],
 "metadata": {
  "kernelspec": {
   "display_name": "test2",
   "language": "python",
   "name": "test2"
  },
  "language_info": {
   "codemirror_mode": {
    "name": "ipython",
    "version": 3
   },
   "file_extension": ".py",
   "mimetype": "text/x-python",
   "name": "python",
   "nbconvert_exporter": "python",
   "pygments_lexer": "ipython3",
   "version": "3.10.9"
  }
 },
 "nbformat": 4,
 "nbformat_minor": 5
}
