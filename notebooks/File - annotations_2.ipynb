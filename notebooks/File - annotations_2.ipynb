{
 "cells": [
  {
   "cell_type": "code",
   "execution_count": 1,
   "id": "093d8681",
   "metadata": {},
   "outputs": [],
   "source": [
    "import librosa\n",
    "import os\n",
    "import pandas as pd\n",
    "import numpy as np\n",
    "\n",
    "# Set current working directory to parent folder\n",
    "os.chdir(os.path.abspath(\"..\"))"
   ]
  },
  {
   "cell_type": "code",
   "execution_count": 2,
   "id": "2edc2acc",
   "metadata": {},
   "outputs": [],
   "source": [
    "# Lee el archivo que identifica como los audios estan divididos\n",
    "df_conv = pd.read_csv(f\"data/MSPCORPUS/Time_Labels/conversation_parts.txt\", delimiter=\";\", header=None, names=['Conversation_Part', 'start_time', 'end_time'])\n",
    "\n",
    "# Creamos dos columnas con el podcast number y la parte de ese podcast\n",
    "df_conv['PC_Num'] = df_conv['Conversation_Part'].apply(lambda x: x[17:21]).astype(int)\n",
    "df_conv['Part_Num'] = df_conv['Conversation_Part'].apply(lambda x: x[22:23]).astype(int)\n",
    "\n",
    "mem = {}\n",
    "\n",
    "def add_sync_time_columns(row):\n",
    "    if row.Part_Num == 1:\n",
    "        st = 0\n",
    "        mem[row.PC_Num] = row.start_time\n",
    "    else:\n",
    "        st = row.start_time - mem[row.PC_Num]\n",
    "        \n",
    "    row['m_start_time'] = st\n",
    "    row['m_end_time'] = row.end_time - mem[row.PC_Num]\n",
    "    \n",
    "    return row\n",
    "\n",
    "# Una fila con los audios en formato inicio: 0 y final: final - inicio\n",
    "df_conv = df_conv.apply(lambda row: add_sync_time_columns(row), axis=1)\n",
    "df_conv = df_conv[['Conversation_Part','start_time', 'end_time', 'm_start_time', 'm_end_time', 'PC_Num', 'Part_Num']]\n",
    "df_conv['Audio_Name'] = df_conv['Conversation_Part'].apply(lambda x: x[0:21]) + \".wav\""
   ]
  },
  {
   "cell_type": "code",
   "execution_count": 3,
   "id": "9e4f0629",
   "metadata": {},
   "outputs": [],
   "source": [
    "df_annotations = pd.read_excel(f'data/annotations.xlsx')"
   ]
  },
  {
   "cell_type": "code",
   "execution_count": 4,
   "id": "65e37279",
   "metadata": {},
   "outputs": [],
   "source": [
    "df_annotations_2 = pd.merge(left = df_annotations[['Name','Emotion','Annotator','PC_Num','Part_Num']], \n",
    "                                 right = df_conv[['start_time','end_time','m_start_time','m_end_time','Audio_Name','PC_Num','Part_Num']],\n",
    "                                 how = 'left', \n",
    "                                 on = ['PC_Num','Part_Num'])"
   ]
  },
  {
   "cell_type": "code",
   "execution_count": 5,
   "id": "cf7010ac",
   "metadata": {},
   "outputs": [],
   "source": [
    "df_annotations_2['start_time'] = df_annotations_2['m_start_time']\n",
    "df_annotations_2['end_time'] = df_annotations_2['m_end_time']\n",
    "\n",
    "df_annotations_2.drop(['m_start_time','m_end_time'], axis = 1, inplace = True)"
   ]
  },
  {
   "cell_type": "code",
   "execution_count": 6,
   "id": "6ed1617e",
   "metadata": {},
   "outputs": [],
   "source": [
    "df_annotations_2.to_excel('annotations_2.xlsx', index = False)"
   ]
  },
  {
   "cell_type": "markdown",
   "id": "4c031920",
   "metadata": {},
   "source": [
    "Time Fix"
   ]
  },
  {
   "cell_type": "code",
   "execution_count": 9,
   "id": "b23cb0e0",
   "metadata": {},
   "outputs": [],
   "source": [
    "# Carga del archivo directorio con datos necesarios\n",
    "df_annotations = pd.read_excel(\"data/annotations.xlsx\")"
   ]
  },
  {
   "cell_type": "code",
   "execution_count": 2,
   "id": "3cb3a120",
   "metadata": {},
   "outputs": [],
   "source": [
    "with open('data/MSPCORPUS/Time_Labels/conversation_parts.txt') as f:\n",
    "    data_file = f.readlines()"
   ]
  },
  {
   "cell_type": "code",
   "execution_count": 10,
   "id": "2c324f2e",
   "metadata": {},
   "outputs": [],
   "source": [
    "df_data_file = pd.DataFrame(data_file,columns = ['Name'])"
   ]
  },
  {
   "cell_type": "code",
   "execution_count": 27,
   "id": "87fd54fd",
   "metadata": {},
   "outputs": [],
   "source": [
    "df_data_file['start'] = df_data_file['Name'].str.split(';').str[1]\n",
    "df_data_file['end'] = df_data_file['Name'].str.split(';').str[2]\n",
    "df_data_file['Name'] = df_data_file['Name'].str.split(';').str[0]\n",
    "df_data_file['end'] = df_data_file['end'].str.replace('\\n','')"
   ]
  },
  {
   "cell_type": "code",
   "execution_count": 43,
   "id": "eb6c6c21",
   "metadata": {},
   "outputs": [],
   "source": [
    "df_annotations = df_annotations.drop(['start_time','end_time'], axis = 1)"
   ]
  },
  {
   "cell_type": "code",
   "execution_count": 45,
   "id": "ad24f07e",
   "metadata": {},
   "outputs": [],
   "source": [
    "df_annotations = pd.merge(df_annotations,df_data_file, how = 'left' , left_on = df_annotations['Name'].str[:23], right_on = 'Name')"
   ]
  },
  {
   "cell_type": "code",
   "execution_count": 47,
   "id": "5648880c",
   "metadata": {},
   "outputs": [],
   "source": [
    "df_annotations = df_annotations.drop(['Name','Name_y'], axis = 1)"
   ]
  },
  {
   "cell_type": "code",
   "execution_count": 50,
   "id": "eb603c13",
   "metadata": {},
   "outputs": [],
   "source": [
    "df_annotations = df_annotations.rename({'Name_x':'Name'}, axis = 1)"
   ]
  },
  {
   "cell_type": "code",
   "execution_count": 53,
   "id": "a7ca2fb3",
   "metadata": {},
   "outputs": [],
   "source": [
    "df_annotations = df_annotations.rename({'start':'start_time','end':'end_time'}, axis = 1)"
   ]
  },
  {
   "cell_type": "code",
   "execution_count": 54,
   "id": "a9f1a566",
   "metadata": {},
   "outputs": [],
   "source": [
    "df_annotations.to_excel('data/annotations.xlsx')"
   ]
  },
  {
   "cell_type": "code",
   "execution_count": null,
   "id": "eb5e6f3c",
   "metadata": {},
   "outputs": [],
   "source": []
  }
 ],
 "metadata": {
  "hide_input": false,
  "kernelspec": {
   "display_name": "SER",
   "language": "python",
   "name": "myenv"
  },
  "language_info": {
   "codemirror_mode": {
    "name": "ipython",
    "version": 3
   },
   "file_extension": ".py",
   "mimetype": "text/x-python",
   "name": "python",
   "nbconvert_exporter": "python",
   "pygments_lexer": "ipython3",
   "version": "3.9.16"
  },
  "toc": {
   "base_numbering": 1,
   "nav_menu": {},
   "number_sections": true,
   "sideBar": true,
   "skip_h1_title": false,
   "title_cell": "Table of Contents",
   "title_sidebar": "Contents",
   "toc_cell": false,
   "toc_position": {},
   "toc_section_display": true,
   "toc_window_display": false
  }
 },
 "nbformat": 4,
 "nbformat_minor": 5
}
