{
 "cells": [
  {
   "cell_type": "markdown",
   "id": "e9a05d77",
   "metadata": {},
   "source": [
    "Este archivo no esta del todo completo y no debe ser corrido, el viejo archivo que creo al original annotations.xlsx ya no existe y no lo pude encontrar en el repo"
   ]
  },
  {
   "cell_type": "code",
   "execution_count": 1,
   "id": "093d8681",
   "metadata": {},
   "outputs": [],
   "source": [
    "import librosa\n",
    "import os\n",
    "import pandas as pd\n",
    "import numpy as np\n",
    "\n",
    "# Set current working directory to parent folder\n",
    "os.chdir(os.path.abspath(\"..\"))"
   ]
  },
  {
   "cell_type": "code",
   "execution_count": 2,
   "id": "2edc2acc",
   "metadata": {},
   "outputs": [],
   "source": [
    "# Lee el archivo que identifica como los audios estan divididos\n",
    "df_conv = pd.read_csv(f\"data/MSPCORPUS/Time_Labels/conversation_parts.txt\", delimiter=\";\", header=None, names=['Conversation_Part', 'start_time', 'end_time'])\n",
    "\n",
    "# Creamos dos columnas con el podcast number y la parte de ese podcast\n",
    "df_conv['PC_Num'] = df_conv['Conversation_Part'].apply(lambda x: x[17:21]).astype(int)\n",
    "df_conv['Part_Num'] = df_conv['Conversation_Part'].apply(lambda x: x[22:23]).astype(int)\n",
    "\n",
    "mem = {}\n",
    "\n",
    "def add_sync_time_columns(row):\n",
    "    if row.Part_Num == 1:\n",
    "        st = 0\n",
    "        mem[row.PC_Num] = row.start_time\n",
    "    else:\n",
    "        st = row.start_time - mem[row.PC_Num]\n",
    "        \n",
    "    row['m_start_time'] = st\n",
    "    row['m_end_time'] = row.end_time - mem[row.PC_Num]\n",
    "    \n",
    "    return row\n",
    "\n",
    "# Una fila con los audios en formato inicio: 0 y final: final - inicio\n",
    "df_conv = df_conv.apply(lambda row: add_sync_time_columns(row), axis=1)\n",
    "df_conv = df_conv[['Conversation_Part','start_time', 'end_time', 'm_start_time', 'm_end_time', 'PC_Num', 'Part_Num']]\n",
    "df_conv['Audio_Name'] = df_conv['Conversation_Part'].apply(lambda x: x[0:21]) + \".wav\""
   ]
  },
  {
   "cell_type": "code",
   "execution_count": 3,
   "id": "739a60e3",
   "metadata": {},
   "outputs": [
    {
     "data": {
      "text/html": [
       "<div>\n",
       "<style scoped>\n",
       "    .dataframe tbody tr th:only-of-type {\n",
       "        vertical-align: middle;\n",
       "    }\n",
       "\n",
       "    .dataframe tbody tr th {\n",
       "        vertical-align: top;\n",
       "    }\n",
       "\n",
       "    .dataframe thead th {\n",
       "        text-align: right;\n",
       "    }\n",
       "</style>\n",
       "<table border=\"1\" class=\"dataframe\">\n",
       "  <thead>\n",
       "    <tr style=\"text-align: right;\">\n",
       "      <th></th>\n",
       "      <th>Conversation_Part</th>\n",
       "      <th>start_time</th>\n",
       "      <th>end_time</th>\n",
       "      <th>m_start_time</th>\n",
       "      <th>m_end_time</th>\n",
       "      <th>PC_Num</th>\n",
       "      <th>Part_Num</th>\n",
       "      <th>Audio_Name</th>\n",
       "    </tr>\n",
       "  </thead>\n",
       "  <tbody>\n",
       "    <tr>\n",
       "      <th>0</th>\n",
       "      <td>MSP-Conversation_0021_1</td>\n",
       "      <td>10.0000</td>\n",
       "      <td>316.0304</td>\n",
       "      <td>0.0000</td>\n",
       "      <td>306.0304</td>\n",
       "      <td>21</td>\n",
       "      <td>1</td>\n",
       "      <td>MSP-Conversation_0021.wav</td>\n",
       "    </tr>\n",
       "    <tr>\n",
       "      <th>1</th>\n",
       "      <td>MSP-Conversation_0021_2</td>\n",
       "      <td>316.0304</td>\n",
       "      <td>612.2578</td>\n",
       "      <td>306.0304</td>\n",
       "      <td>602.2578</td>\n",
       "      <td>21</td>\n",
       "      <td>2</td>\n",
       "      <td>MSP-Conversation_0021.wav</td>\n",
       "    </tr>\n",
       "    <tr>\n",
       "      <th>2</th>\n",
       "      <td>MSP-Conversation_0021_3</td>\n",
       "      <td>612.2578</td>\n",
       "      <td>915.2362</td>\n",
       "      <td>602.2578</td>\n",
       "      <td>905.2362</td>\n",
       "      <td>21</td>\n",
       "      <td>3</td>\n",
       "      <td>MSP-Conversation_0021.wav</td>\n",
       "    </tr>\n",
       "    <tr>\n",
       "      <th>3</th>\n",
       "      <td>MSP-Conversation_0021_4</td>\n",
       "      <td>915.2362</td>\n",
       "      <td>1148.0000</td>\n",
       "      <td>905.2362</td>\n",
       "      <td>1138.0000</td>\n",
       "      <td>21</td>\n",
       "      <td>4</td>\n",
       "      <td>MSP-Conversation_0021.wav</td>\n",
       "    </tr>\n",
       "    <tr>\n",
       "      <th>4</th>\n",
       "      <td>MSP-Conversation_0023_1</td>\n",
       "      <td>2998.0000</td>\n",
       "      <td>3341.9248</td>\n",
       "      <td>0.0000</td>\n",
       "      <td>343.9248</td>\n",
       "      <td>23</td>\n",
       "      <td>1</td>\n",
       "      <td>MSP-Conversation_0023.wav</td>\n",
       "    </tr>\n",
       "    <tr>\n",
       "      <th>...</th>\n",
       "      <td>...</td>\n",
       "      <td>...</td>\n",
       "      <td>...</td>\n",
       "      <td>...</td>\n",
       "      <td>...</td>\n",
       "      <td>...</td>\n",
       "      <td>...</td>\n",
       "      <td>...</td>\n",
       "    </tr>\n",
       "    <tr>\n",
       "      <th>690</th>\n",
       "      <td>MSP-Conversation_1523_4</td>\n",
       "      <td>3373.3633</td>\n",
       "      <td>3608.8569</td>\n",
       "      <td>845.8913</td>\n",
       "      <td>1081.3849</td>\n",
       "      <td>1523</td>\n",
       "      <td>4</td>\n",
       "      <td>MSP-Conversation_1523.wav</td>\n",
       "    </tr>\n",
       "    <tr>\n",
       "      <th>691</th>\n",
       "      <td>MSP-Conversation_1560_1</td>\n",
       "      <td>574.4970</td>\n",
       "      <td>850.6519</td>\n",
       "      <td>0.0000</td>\n",
       "      <td>276.1549</td>\n",
       "      <td>1560</td>\n",
       "      <td>1</td>\n",
       "      <td>MSP-Conversation_1560.wav</td>\n",
       "    </tr>\n",
       "    <tr>\n",
       "      <th>692</th>\n",
       "      <td>MSP-Conversation_1560_2</td>\n",
       "      <td>850.6519</td>\n",
       "      <td>1229.0000</td>\n",
       "      <td>276.1549</td>\n",
       "      <td>654.5030</td>\n",
       "      <td>1560</td>\n",
       "      <td>2</td>\n",
       "      <td>MSP-Conversation_1560.wav</td>\n",
       "    </tr>\n",
       "    <tr>\n",
       "      <th>693</th>\n",
       "      <td>MSP-Conversation_1568_1</td>\n",
       "      <td>0.0000</td>\n",
       "      <td>390.1417</td>\n",
       "      <td>0.0000</td>\n",
       "      <td>390.1417</td>\n",
       "      <td>1568</td>\n",
       "      <td>1</td>\n",
       "      <td>MSP-Conversation_1568.wav</td>\n",
       "    </tr>\n",
       "    <tr>\n",
       "      <th>694</th>\n",
       "      <td>MSP-Conversation_1568_2</td>\n",
       "      <td>390.1417</td>\n",
       "      <td>655.8070</td>\n",
       "      <td>390.1417</td>\n",
       "      <td>655.8070</td>\n",
       "      <td>1568</td>\n",
       "      <td>2</td>\n",
       "      <td>MSP-Conversation_1568.wav</td>\n",
       "    </tr>\n",
       "  </tbody>\n",
       "</table>\n",
       "<p>695 rows × 8 columns</p>\n",
       "</div>"
      ],
      "text/plain": [
       "           Conversation_Part  start_time   end_time  m_start_time  m_end_time  \\\n",
       "0    MSP-Conversation_0021_1     10.0000   316.0304        0.0000    306.0304   \n",
       "1    MSP-Conversation_0021_2    316.0304   612.2578      306.0304    602.2578   \n",
       "2    MSP-Conversation_0021_3    612.2578   915.2362      602.2578    905.2362   \n",
       "3    MSP-Conversation_0021_4    915.2362  1148.0000      905.2362   1138.0000   \n",
       "4    MSP-Conversation_0023_1   2998.0000  3341.9248        0.0000    343.9248   \n",
       "..                       ...         ...        ...           ...         ...   \n",
       "690  MSP-Conversation_1523_4   3373.3633  3608.8569      845.8913   1081.3849   \n",
       "691  MSP-Conversation_1560_1    574.4970   850.6519        0.0000    276.1549   \n",
       "692  MSP-Conversation_1560_2    850.6519  1229.0000      276.1549    654.5030   \n",
       "693  MSP-Conversation_1568_1      0.0000   390.1417        0.0000    390.1417   \n",
       "694  MSP-Conversation_1568_2    390.1417   655.8070      390.1417    655.8070   \n",
       "\n",
       "     PC_Num  Part_Num                 Audio_Name  \n",
       "0        21         1  MSP-Conversation_0021.wav  \n",
       "1        21         2  MSP-Conversation_0021.wav  \n",
       "2        21         3  MSP-Conversation_0021.wav  \n",
       "3        21         4  MSP-Conversation_0021.wav  \n",
       "4        23         1  MSP-Conversation_0023.wav  \n",
       "..      ...       ...                        ...  \n",
       "690    1523         4  MSP-Conversation_1523.wav  \n",
       "691    1560         1  MSP-Conversation_1560.wav  \n",
       "692    1560         2  MSP-Conversation_1560.wav  \n",
       "693    1568         1  MSP-Conversation_1568.wav  \n",
       "694    1568         2  MSP-Conversation_1568.wav  \n",
       "\n",
       "[695 rows x 8 columns]"
      ]
     },
     "execution_count": 3,
     "metadata": {},
     "output_type": "execute_result"
    }
   ],
   "source": [
    "df_conv.drop"
   ]
  },
  {
   "cell_type": "code",
   "execution_count": 3,
   "id": "9e4f0629",
   "metadata": {},
   "outputs": [],
   "source": [
    "df_annotations = pd.read_excel(f'data/annotations.xlsx')"
   ]
  },
  {
   "cell_type": "code",
   "execution_count": 4,
   "id": "65e37279",
   "metadata": {},
   "outputs": [],
   "source": [
    "df_annotations_2 = pd.merge(left = df_annotations[['Name','Emotion','Annotator','PC_Num','Part_Num']], \n",
    "                                 right = df_conv[['start_time','end_time','m_start_time','m_end_time','Audio_Name','PC_Num','Part_Num']],\n",
    "                                 how = 'left', \n",
    "                                 on = ['PC_Num','Part_Num'])"
   ]
  },
  {
   "cell_type": "code",
   "execution_count": 5,
   "id": "cf7010ac",
   "metadata": {},
   "outputs": [],
   "source": [
    "df_annotations_2['start_time'] = df_annotations_2['m_start_time']\n",
    "df_annotations_2['end_time'] = df_annotations_2['m_end_time']\n",
    "\n",
    "df_annotations_2.drop(['m_start_time','m_end_time'], axis = 1, inplace = True)"
   ]
  },
  {
   "cell_type": "code",
   "execution_count": 6,
   "id": "6ed1617e",
   "metadata": {},
   "outputs": [],
   "source": [
    "df_annotations_2.to_excel('annotations_2.xlsx', index = False)"
   ]
  },
  {
   "cell_type": "markdown",
   "id": "4c031920",
   "metadata": {},
   "source": [
    "Time Fix"
   ]
  },
  {
   "cell_type": "code",
   "execution_count": 9,
   "id": "b23cb0e0",
   "metadata": {},
   "outputs": [],
   "source": [
    "# Carga del archivo directorio con datos necesarios\n",
    "df_annotations = pd.read_excel(\"data/annotations.xlsx\")"
   ]
  },
  {
   "cell_type": "code",
   "execution_count": 2,
   "id": "3cb3a120",
   "metadata": {},
   "outputs": [],
   "source": [
    "with open('data/MSPCORPUS/Time_Labels/conversation_parts.txt') as f:\n",
    "    data_file = f.readlines()"
   ]
  },
  {
   "cell_type": "code",
   "execution_count": 10,
   "id": "2c324f2e",
   "metadata": {},
   "outputs": [],
   "source": [
    "df_data_file = pd.DataFrame(data_file,columns = ['Name'])"
   ]
  },
  {
   "cell_type": "code",
   "execution_count": 27,
   "id": "87fd54fd",
   "metadata": {},
   "outputs": [],
   "source": [
    "df_data_file['start'] = df_data_file['Name'].str.split(';').str[1]\n",
    "df_data_file['end'] = df_data_file['Name'].str.split(';').str[2]\n",
    "df_data_file['Name'] = df_data_file['Name'].str.split(';').str[0]\n",
    "df_data_file['end'] = df_data_file['end'].str.replace('\\n','')"
   ]
  },
  {
   "cell_type": "code",
   "execution_count": 43,
   "id": "eb6c6c21",
   "metadata": {},
   "outputs": [],
   "source": [
    "df_annotations = df_annotations.drop(['start_time','end_time'], axis = 1)"
   ]
  },
  {
   "cell_type": "code",
   "execution_count": 45,
   "id": "ad24f07e",
   "metadata": {},
   "outputs": [],
   "source": [
    "df_annotations = pd.merge(df_annotations,df_data_file, how = 'left' , left_on = df_annotations['Name'].str[:23], right_on = 'Name')"
   ]
  },
  {
   "cell_type": "code",
   "execution_count": 47,
   "id": "5648880c",
   "metadata": {},
   "outputs": [],
   "source": [
    "df_annotations = df_annotations.drop(['Name','Name_y'], axis = 1)"
   ]
  },
  {
   "cell_type": "code",
   "execution_count": 50,
   "id": "eb603c13",
   "metadata": {},
   "outputs": [],
   "source": [
    "df_annotations = df_annotations.rename({'Name_x':'Name'}, axis = 1)"
   ]
  },
  {
   "cell_type": "code",
   "execution_count": 53,
   "id": "a7ca2fb3",
   "metadata": {},
   "outputs": [],
   "source": [
    "df_annotations = df_annotations.rename({'start':'start_time','end':'end_time'}, axis = 1)"
   ]
  },
  {
   "cell_type": "code",
   "execution_count": 54,
   "id": "a9f1a566",
   "metadata": {},
   "outputs": [],
   "source": [
    "# No correr\n",
    "#df_annotations.to_excel('data/annotations.xlsx')"
   ]
  },
  {
   "cell_type": "code",
   "execution_count": null,
   "id": "eb5e6f3c",
   "metadata": {},
   "outputs": [],
   "source": []
  }
 ],
 "metadata": {
  "hide_input": false,
  "kernelspec": {
   "display_name": "SER",
   "language": "python",
   "name": "myenv"
  },
  "language_info": {
   "codemirror_mode": {
    "name": "ipython",
    "version": 3
   },
   "file_extension": ".py",
   "mimetype": "text/x-python",
   "name": "python",
   "nbconvert_exporter": "python",
   "pygments_lexer": "ipython3",
   "version": "3.9.16"
  },
  "toc": {
   "base_numbering": 1,
   "nav_menu": {},
   "number_sections": true,
   "sideBar": true,
   "skip_h1_title": false,
   "title_cell": "Table of Contents",
   "title_sidebar": "Contents",
   "toc_cell": false,
   "toc_position": {},
   "toc_section_display": true,
   "toc_window_display": false
  }
 },
 "nbformat": 4,
 "nbformat_minor": 5
}
