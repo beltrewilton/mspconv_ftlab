{
 "cells": [
  {
   "cell_type": "code",
   "execution_count": 21,
   "id": "3d0f8016",
   "metadata": {},
   "outputs": [],
   "source": [
    "import os\n",
    "import pandas as pd\n",
    "import numpy as np"
   ]
  },
  {
   "cell_type": "code",
   "execution_count": 22,
   "id": "56aaedb6",
   "metadata": {},
   "outputs": [],
   "source": [
    "df_annotations = pd.read_excel(f'{os.path.abspath(\"..\")}/data/annotations.xlsx')"
   ]
  },
  {
   "cell_type": "code",
   "execution_count": 24,
   "id": "232a2f0b",
   "metadata": {},
   "outputs": [],
   "source": [
    "dfannotation_vale = df_annotations[df_annotations['Emotion'] == 'Valence']"
   ]
  },
  {
   "cell_type": "code",
   "execution_count": 26,
   "id": "467b9e66",
   "metadata": {},
   "outputs": [],
   "source": [
    "EMO_Valence = 'Valence'\n",
    "EMO_Arousal = 'Arousal'\n",
    "EMO_Dominance = 'Dominance'\n",
    "\n",
    "PC_Num, Part_Num = 401, 2"
   ]
  },
  {
   "cell_type": "code",
   "execution_count": 32,
   "id": "693e5787",
   "metadata": {
    "scrolled": false
   },
   "outputs": [
    {
     "name": "stdout",
     "output_type": "stream",
     "text": [
      "MSP-Conversation_0401_2_007.csv 7 Valence\n",
      "MSP-Conversation_0401_2_009.csv 9 Valence\n",
      "MSP-Conversation_0401_2_010.csv 10 Valence\n",
      "MSP-Conversation_0401_2_013.csv 13 Valence\n",
      "MSP-Conversation_0401_2_017.csv 17 Valence\n",
      "MSP-Conversation_0401_2_019.csv 19 Valence\n"
     ]
    }
   ],
   "source": [
    "all_annot = [] \n",
    "\n",
    "df_copy = dfannotation_vale[(dfannotation_vale.PC_Num == PC_Num) & (dfannotation_vale.Part_Num == Part_Num)]\n",
    "\n",
    "# Leo cada audio, para cada anotador para le emoción especificada{}\n",
    "for name, annotator, emot in zip(df_copy['Name'], df_copy['Annotator'], df_copy['Emotion']):\n",
    "    \n",
    "    print(name,annotator,emot)\n",
    "    temp_df = pd.read_csv(f\"{root_path}/Annotations/{emot}/{name}\", skiprows=9, header=None, names=['Time', 'Annotation'])\n",
    "    all_annot.append(temp_df)"
   ]
  },
  {
   "cell_type": "code",
   "execution_count": null,
   "id": "b0c5b483",
   "metadata": {},
   "outputs": [],
   "source": []
  }
 ],
 "metadata": {
  "kernelspec": {
   "display_name": "Python 3 (ipykernel)",
   "language": "python",
   "name": "python3"
  },
  "language_info": {
   "codemirror_mode": {
    "name": "ipython",
    "version": 3
   },
   "file_extension": ".py",
   "mimetype": "text/x-python",
   "name": "python",
   "nbconvert_exporter": "python",
   "pygments_lexer": "ipython3",
   "version": "3.10.9"
  }
 },
 "nbformat": 4,
 "nbformat_minor": 5
}
