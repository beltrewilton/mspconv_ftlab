{
 "cells": [
  {
   "cell_type": "markdown",
   "id": "2823a412",
   "metadata": {},
   "source": [
    "Esta notebook toma audio del microfono y realiza predicciones en tiempo real "
   ]
  },
  {
   "cell_type": "code",
   "execution_count": 1,
   "id": "53fdc24f",
   "metadata": {},
   "outputs": [],
   "source": [
    "import os\n",
    "\n",
    "# Set current working directory to parent folder\n",
    "os.chdir(os.path.abspath(\"..\"))"
   ]
  },
  {
   "cell_type": "code",
   "execution_count": 38,
   "id": "ad899682",
   "metadata": {},
   "outputs": [],
   "source": [
    "import numpy as np\n",
    "import pandas as pd\n",
    "import pyaudio\n",
    "import time\n",
    "import librosa\n",
    "import pickle\n",
    "from src.metricas import classical_features\n",
    "\n",
    "import keras\n",
    "from keras.models import load_model"
   ]
  },
  {
   "cell_type": "code",
   "execution_count": 3,
   "id": "441a5850",
   "metadata": {},
   "outputs": [],
   "source": [
    "with open('./data/MODELS/scaler','rb') as f:\n",
    "    scaler = pickle.load(f)\n",
    "\n",
    "with open('./data/MODELS/encoder','rb') as f:\n",
    "    encoder = pickle.load(f)"
   ]
  },
  {
   "cell_type": "code",
   "execution_count": 36,
   "id": "a720dcbb",
   "metadata": {
    "scrolled": true
   },
   "outputs": [
    {
     "name": "stdout",
     "output_type": "stream",
     "text": [
      "WARNING:tensorflow:From C:\\Users\\emanu\\Anaconda3\\envs\\SER\\lib\\site-packages\\keras\\src\\backend.py:1398: The name tf.executing_eagerly_outside_functions is deprecated. Please use tf.compat.v1.executing_eagerly_outside_functions instead.\n",
      "\n",
      "WARNING:tensorflow:From C:\\Users\\emanu\\Anaconda3\\envs\\SER\\lib\\site-packages\\keras\\src\\backend.py:6642: The name tf.nn.max_pool is deprecated. Please use tf.nn.max_pool2d instead.\n",
      "\n",
      "WARNING:tensorflow:From C:\\Users\\emanu\\Anaconda3\\envs\\SER\\lib\\site-packages\\keras\\src\\optimizers\\__init__.py:309: The name tf.train.Optimizer is deprecated. Please use tf.compat.v1.train.Optimizer instead.\n",
      "\n"
     ]
    }
   ],
   "source": [
    "model = load_model('./data/MODELS/model.keras')"
   ]
  },
  {
   "cell_type": "code",
   "execution_count": 48,
   "id": "5e268641",
   "metadata": {
    "scrolled": false
   },
   "outputs": [
    {
     "name": "stdout",
     "output_type": "stream",
     "text": [
      "1/1 [==============================] - 0s 17ms/step\n",
      "['sadness']\n",
      "1/1 [==============================] - 0s 16ms/step\n",
      "['sadness']\n"
     ]
    }
   ],
   "source": [
    "class AudioHandler(object):\n",
    "    def __init__(self):\n",
    "        self.FORMAT = pyaudio.paFloat32\n",
    "        self.CHANNELS = 1\n",
    "        self.RATE = 44100\n",
    "        self.CHUNK = 1024 * 2\n",
    "        self.p = None\n",
    "        self.stream = None\n",
    "        self.X = []\n",
    "        self.features = []\n",
    "\n",
    "    def start(self):\n",
    "        self.p = pyaudio.PyAudio()\n",
    "        self.stream = self.p.open(format=self.FORMAT,\n",
    "                                  channels=self.CHANNELS,\n",
    "                                  rate=self.RATE,\n",
    "                                  input=True,\n",
    "                                  output=False,\n",
    "                                  stream_callback = self.callback,\n",
    "                                  frames_per_buffer = self.CHUNK)\n",
    "\n",
    "    def stop(self):\n",
    "        self.stream.close()\n",
    "        self.p.terminate()\n",
    "\n",
    "    def callback(self, in_data, frame_count, time_info, flag):\n",
    "        numpy_array = np.frombuffer(in_data, dtype=np.float32)\n",
    "        self.X.append(numpy_array)\n",
    "        return None, pyaudio.paContinue\n",
    "\n",
    "    def mainloop(self):\n",
    "        i = 0\n",
    "        while i < 2:\n",
    "            time.sleep(2.5)\n",
    "            f = classical_features(np.array(self.X).ravel(), sample_rate = self.RATE)\n",
    "            \n",
    "            X = scaler.transform(f.reshape(1, -1))\n",
    "            X = np.expand_dims(X, axis=2)\n",
    "            \n",
    "            pred_test = model.predict(X)\n",
    "            y_pred = encoder.inverse_transform(pred_test)\n",
    "            print(y_pred.flatten())\n",
    "            self.X = []\n",
    "            i += 1\n",
    "\n",
    "\n",
    "audio = AudioHandler()\n",
    "audio.start()     # open the the stream\n",
    "audio.mainloop()  # main operations with librosa\n",
    "audio.stop()"
   ]
  }
 ],
 "metadata": {
  "hide_input": false,
  "kernelspec": {
   "display_name": "SER",
   "language": "python",
   "name": "myenv"
  },
  "language_info": {
   "codemirror_mode": {
    "name": "ipython",
    "version": 3
   },
   "file_extension": ".py",
   "mimetype": "text/x-python",
   "name": "python",
   "nbconvert_exporter": "python",
   "pygments_lexer": "ipython3",
   "version": "3.9.16"
  },
  "toc": {
   "base_numbering": 1,
   "nav_menu": {},
   "number_sections": true,
   "sideBar": true,
   "skip_h1_title": false,
   "title_cell": "Table of Contents",
   "title_sidebar": "Contents",
   "toc_cell": false,
   "toc_position": {},
   "toc_section_display": true,
   "toc_window_display": false
  }
 },
 "nbformat": 4,
 "nbformat_minor": 5
}
