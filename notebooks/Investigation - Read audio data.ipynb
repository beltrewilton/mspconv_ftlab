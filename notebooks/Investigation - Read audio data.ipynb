{
 "cells": [
  {
   "cell_type": "markdown",
   "id": "8c64e739",
   "metadata": {},
   "source": [
    "# Read Audio data\n",
    "\n",
    "This notebook sets an example of how to read an audio and it's data"
   ]
  },
  {
   "cell_type": "code",
   "execution_count": 1,
   "id": "bad3d442",
   "metadata": {},
   "outputs": [],
   "source": [
    "import os\n",
    "import librosa\n",
    "import pandas as pd"
   ]
  },
  {
   "cell_type": "code",
   "execution_count": 2,
   "id": "3216a684",
   "metadata": {},
   "outputs": [],
   "source": [
    "os.chdir(os.path.abspath(\"..\"))"
   ]
  },
  {
   "cell_type": "code",
   "execution_count": 3,
   "id": "34737ecd",
   "metadata": {},
   "outputs": [],
   "source": [
    "PC_Num, Part_Num = 1540, 1"
   ]
  },
  {
   "cell_type": "code",
   "execution_count": 4,
   "id": "024cfc69",
   "metadata": {},
   "outputs": [],
   "source": [
    "df_annotations = pd.read_excel(\"data/annotations_2.xlsx\")"
   ]
  },
  {
   "cell_type": "markdown",
   "id": "16a54dcd",
   "metadata": {},
   "source": [
    "### Librosa"
   ]
  },
  {
   "cell_type": "code",
   "execution_count": 5,
   "id": "ae9df144",
   "metadata": {},
   "outputs": [],
   "source": [
    "from src.dataload import load_audio_data\n",
    "\n",
    "data, sr = load_audio_data(df_annotations, 1540, 1)"
   ]
  },
  {
   "cell_type": "code",
   "execution_count": 11,
   "id": "ed49acd7",
   "metadata": {},
   "outputs": [
    {
     "data": {
      "text/plain": [
       "268.4365625"
      ]
     },
     "execution_count": 11,
     "metadata": {},
     "output_type": "execute_result"
    }
   ],
   "source": [
    "len(data) / sr"
   ]
  }
 ],
 "metadata": {
  "kernelspec": {
   "display_name": "test2",
   "language": "python",
   "name": "test2"
  },
  "language_info": {
   "codemirror_mode": {
    "name": "ipython",
    "version": 3
   },
   "file_extension": ".py",
   "mimetype": "text/x-python",
   "name": "python",
   "nbconvert_exporter": "python",
   "pygments_lexer": "ipython3",
   "version": "3.10.9"
  }
 },
 "nbformat": 4,
 "nbformat_minor": 5
}
