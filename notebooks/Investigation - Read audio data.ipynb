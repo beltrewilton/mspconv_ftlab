{
 "cells": [
  {
   "cell_type": "markdown",
   "id": "8c64e739",
   "metadata": {},
   "source": [
    "# Read Audio data\n",
    "\n",
    "This notebook sets an example of how to read an audio and it's data"
   ]
  },
  {
   "cell_type": "code",
   "execution_count": 1,
   "id": "bad3d442",
   "metadata": {},
   "outputs": [],
   "source": [
    "import os\n",
    "import librosa\n",
    "import pandas as pd\n",
    "import numpy as np"
   ]
  },
  {
   "cell_type": "code",
   "execution_count": 2,
   "id": "3216a684",
   "metadata": {},
   "outputs": [],
   "source": [
    "os.chdir(os.path.abspath(\"..\"))"
   ]
  },
  {
   "cell_type": "code",
   "execution_count": 3,
   "id": "34737ecd",
   "metadata": {},
   "outputs": [],
   "source": [
    "PC_Num, Part_Num = 1540, 1"
   ]
  },
  {
   "cell_type": "code",
   "execution_count": 4,
   "id": "024cfc69",
   "metadata": {},
   "outputs": [],
   "source": [
    "df_annotations = pd.read_excel(\"data/annotations_2.xlsx\")"
   ]
  },
  {
   "cell_type": "markdown",
   "id": "16a54dcd",
   "metadata": {},
   "source": [
    "### Librosa"
   ]
  },
  {
   "cell_type": "code",
   "execution_count": 5,
   "id": "ae9df144",
   "metadata": {},
   "outputs": [],
   "source": [
    "from src.dataload import load_audio_data\n",
    "\n",
    "data, time = load_audio_data(df_annotations, 1540, 1)"
   ]
  },
  {
   "cell_type": "markdown",
   "id": "04145a61",
   "metadata": {},
   "source": [
    "### Wave"
   ]
  },
  {
   "cell_type": "code",
   "execution_count": 9,
   "id": "763c554f",
   "metadata": {},
   "outputs": [],
   "source": [
    "import wave"
   ]
  },
  {
   "cell_type": "code",
   "execution_count": 29,
   "id": "c71b6f12",
   "metadata": {},
   "outputs": [],
   "source": [
    "audio_path = \"data/MSPCORPUS/Audio/\" + df_annotations[(df_annotations['PC_Num'] == PC_Num) & (df_annotations['Part_Num'] == Part_Num)].reset_index()['Audio_Name'][0]"
   ]
  },
  {
   "cell_type": "code",
   "execution_count": 42,
   "id": "ea58f51a",
   "metadata": {},
   "outputs": [],
   "source": [
    "file = wave.open(audio_path,'r')\n",
    "params = file.getparams()\n",
    "nchannels, sampwidth, framerate, wav_length = params[:4]\n",
    "wavedata = np.frombuffer(file.readframes(wav_length), dtype = np.short)\n",
    "time = np.arange(0,wav_length) * (1.0/framerate)"
   ]
  }
 ],
 "metadata": {
  "hide_input": false,
  "kernelspec": {
   "display_name": "SER",
   "language": "python",
   "name": "ser"
  },
  "language_info": {
   "codemirror_mode": {
    "name": "ipython",
    "version": 3
   },
   "file_extension": ".py",
   "mimetype": "text/x-python",
   "name": "python",
   "nbconvert_exporter": "python",
   "pygments_lexer": "ipython3",
   "version": "3.9.12"
  },
  "toc": {
   "base_numbering": 1,
   "nav_menu": {},
   "number_sections": true,
   "sideBar": true,
   "skip_h1_title": false,
   "title_cell": "Table of Contents",
   "title_sidebar": "Contents",
   "toc_cell": false,
   "toc_position": {},
   "toc_section_display": true,
   "toc_window_display": false
  }
 },
 "nbformat": 4,
 "nbformat_minor": 5
}
