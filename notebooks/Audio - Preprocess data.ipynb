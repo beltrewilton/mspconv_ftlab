{
 "cells": [
  {
   "cell_type": "code",
   "execution_count": 1,
   "id": "965eead8",
   "metadata": {},
   "outputs": [],
   "source": [
    "import os\n",
    "os.chdir(os.path.abspath(\"..\"))\n",
    "\n",
    "\n",
    "import librosa\n",
    "import pandas as pd\n",
    "import numpy as np\n",
    "import warnings\n",
    "warnings.filterwarnings('ignore')\n",
    "\n",
    "from src.dataload import load_audio_data, audio_select_mean_vote\n",
    "from src.emotion_translation import ekman_emotion"
   ]
  },
  {
   "cell_type": "code",
   "execution_count": 5,
   "id": "97154742",
   "metadata": {},
   "outputs": [],
   "source": [
    "df_annotations = pd.read_excel(\"data/annotations_2.xlsx\")\n",
    "df_training_audios = df_annotations[df_annotations['Type'] == 'Train'][['Audio_Name','Part_Num']].drop_duplicates()"
   ]
  },
  {
   "cell_type": "code",
   "execution_count": 9,
   "id": "db6e5d44",
   "metadata": {
    "scrolled": true
   },
   "outputs": [],
   "source": [
    "# Main loop for audio data\n",
    "for index, row in df_training_audios.iterrows():\n",
    "    \n",
    "    # Input\n",
    "    data, time, sr = load_audio_data(df_annotations, part_num = row['Part_Num'], audio_name = row['Audio_Name'])\n",
    "    df_input = pd.DataFrame(data = np.stack([time, data]).T, columns = ['Time','Data'])\n",
    "    \n",
    "    # Labels\n",
    "    df_label = audio_select_mean_vote(df_annotations,  part_num = row['Part_Num'], audio_name = row['Audio_Name'])\n",
    "    df_label['Emotion'] = df_label.apply(lambda row : ekman_emotion(row['Valence'], row['Arousal'], row['Dominance']), axis = 1)\n",
    "    \n",
    "    time_index = pd.concat([df_label['Time'],df_input['Time']], ignore_index = True).drop_duplicates().sort_values().reset_index(drop = True)\n",
    "    df_train = pd.merge(time_index, df_input, how = 'left', on = 'Time')\n",
    "    df_train = pd.merge(df_train, df, how = 'left', on = 'Time')\n",
    "    \n",
    "    df_train = df_train.fillna(method='ffill').fillna(method='bfill')\n",
    "    break"
   ]
  }
 ],
 "metadata": {
  "hide_input": false,
  "kernelspec": {
   "display_name": "SER",
   "language": "python",
   "name": "myenv"
  },
  "language_info": {
   "codemirror_mode": {
    "name": "ipython",
    "version": 3
   },
   "file_extension": ".py",
   "mimetype": "text/x-python",
   "name": "python",
   "nbconvert_exporter": "python",
   "pygments_lexer": "ipython3",
   "version": "3.9.16"
  },
  "toc": {
   "base_numbering": 1,
   "nav_menu": {},
   "number_sections": true,
   "sideBar": true,
   "skip_h1_title": false,
   "title_cell": "Table of Contents",
   "title_sidebar": "Contents",
   "toc_cell": false,
   "toc_position": {},
   "toc_section_display": true,
   "toc_window_display": false
  }
 },
 "nbformat": 4,
 "nbformat_minor": 5
}
