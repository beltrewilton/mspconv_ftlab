{
 "cells": [
  {
   "cell_type": "code",
   "execution_count": null,
   "id": "32872a41",
   "metadata": {},
   "outputs": [],
   "source": [
    "from pydub import AudioSegment\n",
    "from pydub.playback import play\n",
    "\n",
    "\n",
    "df_part_data = df_annotations[(df_annotations['PC_Num'] == PC_Num) & (df_annotations['Part_Num'] == Part_Num)].reset_index()\n",
    "\n",
    "audio_path = \"data/MSPCORPUS/Audio/\" + df_part_data.loc[0]['Audio_Name']\n",
    "\n",
    "\n",
    "AudioSegment.converter = \"ffmpeg.exe\"\n",
    "\n",
    "sound = AudioSegment.from_file(audio_path, format=\"wav\")\n",
    "play(sound)\n",
    "\n",
    "\n",
    "from pydub import AudioSegment\n",
    "from pydub.playback import play\n",
    "\n",
    "audio = AudioSegment.from_file(audio_path)\n",
    "\n",
    "start_time = df_part_data.loc[0]['start_time'] * 1000 # 10 seconds\n",
    "end_time = df_part_data.loc[0]['end_time'] * 1000 # 3 seconds after the start\n",
    "\n",
    "segment = audio[start_time:end_time]\n",
    "\n",
    "play(segment)\n"
   ]
  }
 ],
 "metadata": {
  "kernelspec": {
   "display_name": "test2",
   "language": "python",
   "name": "test2"
  },
  "language_info": {
   "codemirror_mode": {
    "name": "ipython",
    "version": 3
   },
   "file_extension": ".py",
   "mimetype": "text/x-python",
   "name": "python",
   "nbconvert_exporter": "python",
   "pygments_lexer": "ipython3",
   "version": "3.10.9"
  }
 },
 "nbformat": 4,
 "nbformat_minor": 5
}
