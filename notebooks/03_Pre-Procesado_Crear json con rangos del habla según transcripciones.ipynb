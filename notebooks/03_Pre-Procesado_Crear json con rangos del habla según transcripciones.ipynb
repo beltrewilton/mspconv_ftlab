{
 "cells": [
  {
   "cell_type": "code",
   "execution_count": 2,
   "id": "21d6ab98",
   "metadata": {},
   "outputs": [],
   "source": [
    "# Imports\n",
    "import os\n",
    "import json\n",
    "import numpy as np\n",
    "import pandas as pd\n",
    "import stable_whisper\n",
    "\n",
    "# Nuestro path de inicio siempre debe ser el home dir\n",
    "os.chdir(os.path.abspath(\"..\"))"
   ]
  },
  {
   "cell_type": "code",
   "execution_count": 3,
   "id": "addfad66",
   "metadata": {
    "scrolled": true
   },
   "outputs": [],
   "source": [
    "# Archivos importantes y paths\n",
    "df_annotations = pd.read_excel('data/annotations.xlsx')\n",
    "dir_trans = 'data/TRANSCRIPCIONES'"
   ]
  },
  {
   "cell_type": "code",
   "execution_count": 4,
   "id": "615c108f",
   "metadata": {},
   "outputs": [],
   "source": [
    "# Obtengo todos los audios diferents y defino un diccionario vacío\n",
    "audios_name = df_annotations['Audio_Name'].unique()\n",
    "trans_dict = {}\n",
    "\n",
    "# Loop para optener todas las tuplas de inicio fin de todas las transcripciones y guardarlas en el diccionario trans_dict\n",
    "for audio_name in audios_name:\n",
    "    audio_name_json = audio_name + '.json'\n",
    "    audio_json = stable_whisper.WhisperResult(f'{dir_trans}/{audio_name_json}')\n",
    "\n",
    "    x = []\n",
    "    for segment in audio_json:\n",
    "        x.append((segment.start, segment.end))\n",
    "\n",
    "    trans_dict[audio_name] = x"
   ]
  },
  {
   "cell_type": "code",
   "execution_count": 5,
   "id": "1d54c064",
   "metadata": {
    "scrolled": true
   },
   "outputs": [
    {
     "name": "stdout",
     "output_type": "stream",
     "text": [
      "244\n",
      "dict_keys(['MSP-Conversation_0002.wav', 'MSP-Conversation_0021.wav', 'MSP-Conversation_0023.wav', 'MSP-Conversation_0035.wav', 'MSP-Conversation_0043.wav', 'MSP-Conversation_0046.wav', 'MSP-Conversation_0047.wav', 'MSP-Conversation_0053.wav', 'MSP-Conversation_0054.wav', 'MSP-Conversation_0055.wav', 'MSP-Conversation_0061.wav', 'MSP-Conversation_0067.wav', 'MSP-Conversation_0079.wav', 'MSP-Conversation_0081.wav', 'MSP-Conversation_0083.wav', 'MSP-Conversation_0087.wav', 'MSP-Conversation_0088.wav', 'MSP-Conversation_0094.wav', 'MSP-Conversation_0101.wav', 'MSP-Conversation_0103.wav', 'MSP-Conversation_0110.wav', 'MSP-Conversation_0114.wav', 'MSP-Conversation_0125.wav', 'MSP-Conversation_0130.wav', 'MSP-Conversation_0135.wav', 'MSP-Conversation_0140.wav', 'MSP-Conversation_0147.wav', 'MSP-Conversation_0153.wav', 'MSP-Conversation_0156.wav', 'MSP-Conversation_0157.wav', 'MSP-Conversation_0160.wav', 'MSP-Conversation_0166.wav', 'MSP-Conversation_0167.wav', 'MSP-Conversation_0172.wav', 'MSP-Conversation_0180.wav', 'MSP-Conversation_0183.wav', 'MSP-Conversation_0184.wav', 'MSP-Conversation_0190.wav', 'MSP-Conversation_0197.wav', 'MSP-Conversation_0201.wav', 'MSP-Conversation_0202.wav', 'MSP-Conversation_0207.wav', 'MSP-Conversation_0218.wav', 'MSP-Conversation_0227.wav', 'MSP-Conversation_0228.wav', 'MSP-Conversation_0231.wav', 'MSP-Conversation_0235.wav', 'MSP-Conversation_0251.wav', 'MSP-Conversation_0257.wav', 'MSP-Conversation_0260.wav', 'MSP-Conversation_0261.wav', 'MSP-Conversation_0269.wav', 'MSP-Conversation_0278.wav', 'MSP-Conversation_0281.wav', 'MSP-Conversation_0289.wav', 'MSP-Conversation_0295.wav', 'MSP-Conversation_0297.wav', 'MSP-Conversation_0300.wav', 'MSP-Conversation_0319.wav', 'MSP-Conversation_0325.wav', 'MSP-Conversation_0338.wav', 'MSP-Conversation_0340.wav', 'MSP-Conversation_0344.wav', 'MSP-Conversation_0361.wav', 'MSP-Conversation_0372.wav', 'MSP-Conversation_0380.wav', 'MSP-Conversation_0381.wav', 'MSP-Conversation_0396.wav', 'MSP-Conversation_0397.wav', 'MSP-Conversation_0401.wav', 'MSP-Conversation_0417.wav', 'MSP-Conversation_0418.wav', 'MSP-Conversation_0420.wav', 'MSP-Conversation_0422.wav', 'MSP-Conversation_0436.wav', 'MSP-Conversation_0437.wav', 'MSP-Conversation_0456.wav', 'MSP-Conversation_0475.wav', 'MSP-Conversation_0489.wav', 'MSP-Conversation_0498.wav', 'MSP-Conversation_0504.wav', 'MSP-Conversation_0522.wav', 'MSP-Conversation_0538.wav', 'MSP-Conversation_0541.wav', 'MSP-Conversation_0544.wav', 'MSP-Conversation_0552.wav', 'MSP-Conversation_0563.wav', 'MSP-Conversation_0566.wav', 'MSP-Conversation_0569.wav', 'MSP-Conversation_0575.wav', 'MSP-Conversation_0584.wav', 'MSP-Conversation_0590.wav', 'MSP-Conversation_0593.wav', 'MSP-Conversation_0597.wav', 'MSP-Conversation_0600.wav', 'MSP-Conversation_0611.wav', 'MSP-Conversation_0627.wav', 'MSP-Conversation_0637.wav', 'MSP-Conversation_0642.wav', 'MSP-Conversation_0646.wav', 'MSP-Conversation_0653.wav', 'MSP-Conversation_0654.wav', 'MSP-Conversation_0657.wav', 'MSP-Conversation_0672.wav', 'MSP-Conversation_0675.wav', 'MSP-Conversation_0678.wav', 'MSP-Conversation_0681.wav', 'MSP-Conversation_0683.wav', 'MSP-Conversation_0686.wav', 'MSP-Conversation_0690.wav', 'MSP-Conversation_0692.wav', 'MSP-Conversation_0700.wav', 'MSP-Conversation_0706.wav', 'MSP-Conversation_0709.wav', 'MSP-Conversation_0714.wav', 'MSP-Conversation_0715.wav', 'MSP-Conversation_0722.wav', 'MSP-Conversation_0726.wav', 'MSP-Conversation_0727.wav', 'MSP-Conversation_0735.wav', 'MSP-Conversation_0744.wav', 'MSP-Conversation_0746.wav', 'MSP-Conversation_0748.wav', 'MSP-Conversation_0760.wav', 'MSP-Conversation_0765.wav', 'MSP-Conversation_0770.wav', 'MSP-Conversation_0772.wav', 'MSP-Conversation_0782.wav', 'MSP-Conversation_0791.wav', 'MSP-Conversation_0792.wav', 'MSP-Conversation_0796.wav', 'MSP-Conversation_0802.wav', 'MSP-Conversation_0821.wav', 'MSP-Conversation_0823.wav', 'MSP-Conversation_0830.wav', 'MSP-Conversation_0835.wav', 'MSP-Conversation_0841.wav', 'MSP-Conversation_0858.wav', 'MSP-Conversation_0869.wav', 'MSP-Conversation_0878.wav', 'MSP-Conversation_0883.wav', 'MSP-Conversation_0893.wav', 'MSP-Conversation_0900.wav', 'MSP-Conversation_0905.wav', 'MSP-Conversation_0912.wav', 'MSP-Conversation_0942.wav', 'MSP-Conversation_0943.wav', 'MSP-Conversation_0952.wav', 'MSP-Conversation_0962.wav', 'MSP-Conversation_0993.wav', 'MSP-Conversation_0996.wav', 'MSP-Conversation_1009.wav', 'MSP-Conversation_1021.wav', 'MSP-Conversation_1040.wav', 'MSP-Conversation_1116.wav', 'MSP-Conversation_1124.wav', 'MSP-Conversation_1130.wav', 'MSP-Conversation_1140.wav', 'MSP-Conversation_1151.wav', 'MSP-Conversation_1154.wav', 'MSP-Conversation_1159.wav', 'MSP-Conversation_1167.wav', 'MSP-Conversation_1170.wav', 'MSP-Conversation_1173.wav', 'MSP-Conversation_1180.wav', 'MSP-Conversation_1183.wav', 'MSP-Conversation_1184.wav', 'MSP-Conversation_1185.wav', 'MSP-Conversation_1186.wav', 'MSP-Conversation_1187.wav', 'MSP-Conversation_1188.wav', 'MSP-Conversation_1189.wav', 'MSP-Conversation_1190.wav', 'MSP-Conversation_1191.wav', 'MSP-Conversation_1198.wav', 'MSP-Conversation_1200.wav', 'MSP-Conversation_1219.wav', 'MSP-Conversation_1258.wav', 'MSP-Conversation_1277.wav', 'MSP-Conversation_1339.wav', 'MSP-Conversation_1353.wav', 'MSP-Conversation_1356.wav', 'MSP-Conversation_1358.wav', 'MSP-Conversation_1369.wav', 'MSP-Conversation_1406.wav', 'MSP-Conversation_1413.wav', 'MSP-Conversation_1421.wav', 'MSP-Conversation_1424.wav', 'MSP-Conversation_1452.wav', 'MSP-Conversation_1464.wav', 'MSP-Conversation_1486.wav', 'MSP-Conversation_1512.wav', 'MSP-Conversation_1523.wav', 'MSP-Conversation_1536.wav', 'MSP-Conversation_1540.wav', 'MSP-Conversation_1545.wav', 'MSP-Conversation_1560.wav', 'MSP-Conversation_1568.wav', 'MSP-Conversation_1599.wav', 'MSP-Conversation_1609.wav', 'MSP-Conversation_1621.wav', 'MSP-Conversation_1630.wav', 'MSP-Conversation_1637.wav', 'MSP-Conversation_1642.wav', 'MSP-Conversation_1657.wav', 'MSP-Conversation_1669.wav', 'MSP-Conversation_1684.wav', 'MSP-Conversation_1701.wav', 'MSP-Conversation_1710.wav', 'MSP-Conversation_1752.wav', 'MSP-Conversation_1870.wav', 'MSP-Conversation_1884.wav', 'MSP-Conversation_1890.wav', 'MSP-Conversation_1892.wav', 'MSP-Conversation_1896.wav', 'MSP-Conversation_1917.wav', 'MSP-Conversation_1922.wav', 'MSP-Conversation_1925.wav', 'MSP-Conversation_1926.wav', 'MSP-Conversation_1931.wav', 'MSP-Conversation_1940.wav', 'MSP-Conversation_1960.wav', 'MSP-Conversation_1968.wav', 'MSP-Conversation_1992.wav', 'MSP-Conversation_2007.wav', 'MSP-Conversation_2008.wav', 'MSP-Conversation_2058.wav', 'MSP-Conversation_2100.wav', 'MSP-Conversation_2193.wav', 'MSP-Conversation_2197.wav', 'MSP-Conversation_2198.wav', 'MSP-Conversation_2199.wav', 'MSP-Conversation_2214.wav', 'MSP-Conversation_2215.wav', 'MSP-Conversation_2241.wav', 'MSP-Conversation_2245.wav', 'MSP-Conversation_2248.wav', 'MSP-Conversation_2249.wav', 'MSP-Conversation_2250.wav', 'MSP-Conversation_2252.wav', 'MSP-Conversation_2253.wav', 'MSP-Conversation_2277.wav', 'MSP-Conversation_2279.wav', 'MSP-Conversation_2281.wav'])\n"
     ]
    }
   ],
   "source": [
    "# Verificado estan los 244 audios\n",
    "print(len(trans_dict.keys()))\n",
    "print(trans_dict.keys())"
   ]
  },
  {
   "cell_type": "code",
   "execution_count": 6,
   "id": "a2841a7e",
   "metadata": {},
   "outputs": [],
   "source": [
    "# Guardo el diccionario en archivo json\n",
    "with open('data/intervalos_transcripciones.json', 'w') as f:\n",
    "    json.dump(trans_dict, f)"
   ]
  },
  {
   "cell_type": "markdown",
   "id": "7c5f8c04",
   "metadata": {},
   "source": [
    "Estadísticas sobre los segmentos"
   ]
  },
  {
   "cell_type": "code",
   "execution_count": 19,
   "id": "2299bf02",
   "metadata": {},
   "outputs": [
    {
     "name": "stdout",
     "output_type": "stream",
     "text": [
      "Segmentos por audio: 401.87295081967216\n",
      "Duración promedio de segmento: 1.7100524184912855\n"
     ]
    }
   ],
   "source": [
    "x = []\n",
    "segmentos = []\n",
    "\n",
    "for key in trans_dict:\n",
    "    \n",
    "    segmentos.append(len(trans_dict[key]))\n",
    "    \n",
    "    for segmento in trans_dict[key]:\n",
    "        fin = segmento[1]\n",
    "        inicio = segmento[0]\n",
    "        \n",
    "        x.append(fin - inicio)\n",
    "        \n",
    "print('Segmentos por audio:', np.mean(segmentos))\n",
    "print('Duración promedio de segmento:', np.mean(x))"
   ]
  }
 ],
 "metadata": {
  "hide_input": false,
  "kernelspec": {
   "display_name": "SER",
   "language": "python",
   "name": "myenv"
  },
  "language_info": {
   "codemirror_mode": {
    "name": "ipython",
    "version": 3
   },
   "file_extension": ".py",
   "mimetype": "text/x-python",
   "name": "python",
   "nbconvert_exporter": "python",
   "pygments_lexer": "ipython3",
   "version": "3.9.16"
  },
  "toc": {
   "base_numbering": 1,
   "nav_menu": {},
   "number_sections": true,
   "sideBar": true,
   "skip_h1_title": false,
   "title_cell": "Table of Contents",
   "title_sidebar": "Contents",
   "toc_cell": false,
   "toc_position": {},
   "toc_section_display": true,
   "toc_window_display": false
  }
 },
 "nbformat": 4,
 "nbformat_minor": 5
}
