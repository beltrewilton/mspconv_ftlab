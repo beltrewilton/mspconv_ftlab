{
 "cells": [
  {
   "cell_type": "markdown",
   "metadata": {},
   "source": [
    "Notebook de colab para crear archivos de transcripciones\n",
    "\n",
    "https://colab.research.google.com/drive/12B03etLDzTdxlrdflE_vB0aDTwipY0cw#scrollTo=h_xop886B9QN"
   ]
  },
  {
   "cell_type": "markdown",
   "metadata": {},
   "source": [
    "Este es el paso 1 ya que para nuestra metodología, solo vamos a detectar emociones en segmento determinados por whisper"
   ]
  },
  {
   "cell_type": "code",
   "execution_count": null,
   "metadata": {
    "colab": {
     "base_uri": "https://localhost:8080/"
    },
    "collapsed": true,
    "id": "MWFuhAY_Buw7",
    "outputId": "7ef71b08-cdd7-4ead-e681-9751a6c41673"
   },
   "outputs": [
    {
     "name": "stdout",
     "output_type": "stream",
     "text": [
      "Collecting stable-ts\n",
      "  Downloading stable-ts-2.15.8.tar.gz (142 kB)\n",
      "\u001b[?25l     \u001b[90m━━━━━━━━━━━━━━━━━━━━━━━━━━━━━━━━━━━━━━━━\u001b[0m \u001b[32m0.0/142.9 kB\u001b[0m \u001b[31m?\u001b[0m eta \u001b[36m-:--:--\u001b[0m\r",
      "\u001b[2K     \u001b[90m━━━━━━━━━━━━━━━━━━━━━━━━━━━━━━━━━━━━━━━━\u001b[0m \u001b[32m142.9/142.9 kB\u001b[0m \u001b[31m4.8 MB/s\u001b[0m eta \u001b[36m0:00:00\u001b[0m\n",
      "\u001b[?25h  Preparing metadata (setup.py) ... \u001b[?25l\u001b[?25hdone\n",
      "Requirement already satisfied: numpy in /usr/local/lib/python3.10/dist-packages (from stable-ts) (1.25.2)\n",
      "Requirement already satisfied: torch in /usr/local/lib/python3.10/dist-packages (from stable-ts) (2.1.0+cu121)\n",
      "Requirement already satisfied: torchaudio in /usr/local/lib/python3.10/dist-packages (from stable-ts) (2.1.0+cu121)\n",
      "Requirement already satisfied: tqdm in /usr/local/lib/python3.10/dist-packages (from stable-ts) (4.66.2)\n",
      "Collecting openai-whisper==20231117 (from stable-ts)\n",
      "  Downloading openai-whisper-20231117.tar.gz (798 kB)\n",
      "\u001b[2K     \u001b[90m━━━━━━━━━━━━━━━━━━━━━━━━━━━━━━━━━━━━━━━━\u001b[0m \u001b[32m798.6/798.6 kB\u001b[0m \u001b[31m15.6 MB/s\u001b[0m eta \u001b[36m0:00:00\u001b[0m\n",
      "\u001b[?25h  Installing build dependencies ... \u001b[?25l\u001b[?25hdone\n",
      "  Getting requirements to build wheel ... \u001b[?25l\u001b[?25hdone\n",
      "  Preparing metadata (pyproject.toml) ... \u001b[?25l\u001b[?25hdone\n",
      "Requirement already satisfied: triton<3,>=2.0.0 in /usr/local/lib/python3.10/dist-packages (from openai-whisper==20231117->stable-ts) (2.1.0)\n",
      "Requirement already satisfied: numba in /usr/local/lib/python3.10/dist-packages (from openai-whisper==20231117->stable-ts) (0.58.1)\n",
      "Requirement already satisfied: more-itertools in /usr/local/lib/python3.10/dist-packages (from openai-whisper==20231117->stable-ts) (10.1.0)\n",
      "Collecting tiktoken (from openai-whisper==20231117->stable-ts)\n",
      "  Downloading tiktoken-0.6.0-cp310-cp310-manylinux_2_17_x86_64.manylinux2014_x86_64.whl (1.8 MB)\n",
      "\u001b[2K     \u001b[90m━━━━━━━━━━━━━━━━━━━━━━━━━━━━━━━━━━━━━━━━\u001b[0m \u001b[32m1.8/1.8 MB\u001b[0m \u001b[31m27.8 MB/s\u001b[0m eta \u001b[36m0:00:00\u001b[0m\n",
      "\u001b[?25hRequirement already satisfied: filelock in /usr/local/lib/python3.10/dist-packages (from torch->stable-ts) (3.13.1)\n",
      "Requirement already satisfied: typing-extensions in /usr/local/lib/python3.10/dist-packages (from torch->stable-ts) (4.10.0)\n",
      "Requirement already satisfied: sympy in /usr/local/lib/python3.10/dist-packages (from torch->stable-ts) (1.12)\n",
      "Requirement already satisfied: networkx in /usr/local/lib/python3.10/dist-packages (from torch->stable-ts) (3.2.1)\n",
      "Requirement already satisfied: jinja2 in /usr/local/lib/python3.10/dist-packages (from torch->stable-ts) (3.1.3)\n",
      "Requirement already satisfied: fsspec in /usr/local/lib/python3.10/dist-packages (from torch->stable-ts) (2023.6.0)\n",
      "Requirement already satisfied: MarkupSafe>=2.0 in /usr/local/lib/python3.10/dist-packages (from jinja2->torch->stable-ts) (2.1.5)\n",
      "Requirement already satisfied: llvmlite<0.42,>=0.41.0dev0 in /usr/local/lib/python3.10/dist-packages (from numba->openai-whisper==20231117->stable-ts) (0.41.1)\n",
      "Requirement already satisfied: mpmath>=0.19 in /usr/local/lib/python3.10/dist-packages (from sympy->torch->stable-ts) (1.3.0)\n",
      "Requirement already satisfied: regex>=2022.1.18 in /usr/local/lib/python3.10/dist-packages (from tiktoken->openai-whisper==20231117->stable-ts) (2023.12.25)\n",
      "Requirement already satisfied: requests>=2.26.0 in /usr/local/lib/python3.10/dist-packages (from tiktoken->openai-whisper==20231117->stable-ts) (2.31.0)\n",
      "Requirement already satisfied: charset-normalizer<4,>=2 in /usr/local/lib/python3.10/dist-packages (from requests>=2.26.0->tiktoken->openai-whisper==20231117->stable-ts) (3.3.2)\n",
      "Requirement already satisfied: idna<4,>=2.5 in /usr/local/lib/python3.10/dist-packages (from requests>=2.26.0->tiktoken->openai-whisper==20231117->stable-ts) (3.6)\n",
      "Requirement already satisfied: urllib3<3,>=1.21.1 in /usr/local/lib/python3.10/dist-packages (from requests>=2.26.0->tiktoken->openai-whisper==20231117->stable-ts) (2.0.7)\n",
      "Requirement already satisfied: certifi>=2017.4.17 in /usr/local/lib/python3.10/dist-packages (from requests>=2.26.0->tiktoken->openai-whisper==20231117->stable-ts) (2024.2.2)\n",
      "Building wheels for collected packages: stable-ts, openai-whisper\n",
      "  Building wheel for stable-ts (setup.py) ... \u001b[?25l\u001b[?25hdone\n",
      "  Created wheel for stable-ts: filename=stable_ts-2.15.8-py3-none-any.whl size=126453 sha256=9d7252bb5e438312ff61a52b992ab5347228532a68413ba80f4d7e0f313f621c\n",
      "  Stored in directory: /root/.cache/pip/wheels/e6/52/07/a4b718ea1a96830446c9fd694e98ce95375572a0a39c0135ac\n",
      "  Building wheel for openai-whisper (pyproject.toml) ... \u001b[?25l\u001b[?25hdone\n",
      "  Created wheel for openai-whisper: filename=openai_whisper-20231117-py3-none-any.whl size=801356 sha256=3ec7b23ee6a4b60c9edecdf8fe444fda7250ac6a793e9ac23f97f055f70ca132\n",
      "  Stored in directory: /root/.cache/pip/wheels/d0/85/e1/9361b4cbea7dd4b7f6702fa4c3afc94877952eeb2b62f45f56\n",
      "Successfully built stable-ts openai-whisper\n",
      "Installing collected packages: tiktoken, openai-whisper, stable-ts\n",
      "Successfully installed openai-whisper-20231117 stable-ts-2.15.8 tiktoken-0.6.0\n"
     ]
    }
   ],
   "source": [
    "!pip install -U stable-ts"
   ]
  },
  {
   "cell_type": "code",
   "execution_count": null,
   "metadata": {
    "colab": {
     "base_uri": "https://localhost:8080/"
    },
    "collapsed": true,
    "id": "gbo-ZhxrB2ih",
    "outputId": "18ec27bb-98bf-4ac2-eb9e-2b62b74dcb52"
   },
   "outputs": [
    {
     "name": "stdout",
     "output_type": "stream",
     "text": [
      "/sbin/ldconfig.real: /usr/local/lib/libtbbmalloc_proxy.so.2 is not a symbolic link\n",
      "\n",
      "/sbin/ldconfig.real: /usr/local/lib/libtbbbind.so.3 is not a symbolic link\n",
      "\n",
      "/sbin/ldconfig.real: /usr/local/lib/libtbbbind_2_5.so.3 is not a symbolic link\n",
      "\n",
      "/sbin/ldconfig.real: /usr/local/lib/libtbbbind_2_0.so.3 is not a symbolic link\n",
      "\n",
      "/sbin/ldconfig.real: /usr/local/lib/libtbbmalloc.so.2 is not a symbolic link\n",
      "\n",
      "/sbin/ldconfig.real: /usr/local/lib/libtbb.so.12 is not a symbolic link\n",
      "\n"
     ]
    }
   ],
   "source": [
    "!export LC_ALL=\"en_US.UTF-8\"\n",
    "!export LD_LIBRARY_PATH=\"/usr/lib64-nvidia\"\n",
    "!export LIBRARY_PATH=\"/usr/local/cuda/lib64/stubs\"\n",
    "!ldconfig /usr/lib64-nvidia"
   ]
  },
  {
   "cell_type": "code",
   "execution_count": null,
   "metadata": {
    "colab": {
     "base_uri": "https://localhost:8080/"
    },
    "id": "JVSj8-MZB3oo",
    "outputId": "c15e07de-0b51-405d-e743-6097d411053b"
   },
   "outputs": [
    {
     "name": "stdout",
     "output_type": "stream",
     "text": [
      "Mounted at /content/drive\n"
     ]
    }
   ],
   "source": [
    "from google.colab import drive\n",
    "drive.mount('/content/drive')"
   ]
  },
  {
   "cell_type": "code",
   "execution_count": null,
   "metadata": {
    "colab": {
     "base_uri": "https://localhost:8080/"
    },
    "id": "alh5v8H5B4gg",
    "outputId": "2080f8cf-c72c-4f01-b9e7-fdf67de6abfb"
   },
   "outputs": [
    {
     "name": "stderr",
     "output_type": "stream",
     "text": [
      "100%|█████████████████████████████████████| 2.88G/2.88G [00:42<00:00, 72.8MiB/s]\n"
     ]
    }
   ],
   "source": [
    "import stable_whisper\n",
    "model = stable_whisper.load_model('large')"
   ]
  },
  {
   "cell_type": "code",
   "execution_count": null,
   "metadata": {
    "id": "Q64V7xeLB61q"
   },
   "outputs": [],
   "source": [
    "import os\n",
    "\n",
    "directory_path = '/content/drive/MyDrive/MSPCORPUS/Audios'\n",
    "directory_files = os.listdir(directory_path)"
   ]
  },
  {
   "cell_type": "code",
   "execution_count": null,
   "metadata": {
    "id": "u84ogHjdB7sj"
   },
   "outputs": [],
   "source": [
    "destination_files = os.listdir('/content/drive/MyDrive/MSPCORPUS/Transcripciones')"
   ]
  },
  {
   "cell_type": "code",
   "execution_count": null,
   "metadata": {
    "colab": {
     "base_uri": "https://localhost:8080/"
    },
    "collapsed": true,
    "id": "h_xop886B9QN",
    "outputId": "12d17b0c-af97-4979-8af2-a44f1a248f7a"
   },
   "outputs": [
    {
     "name": "stdout",
     "output_type": "stream",
     "text": [
      "/content/drive/MyDrive/MSPCORPUS/Audios/MSP-Conversation_0436.wav\n",
      "SKIPPED\n",
      "/content/drive/MyDrive/MSPCORPUS/Audios/MSP-Conversation_1183.wav\n"
     ]
    },
    {
     "name": "stderr",
     "output_type": "stream",
     "text": [
      "Transcribe:   0%|          | 0/599.14 [00:03<?, ?sec/s]"
     ]
    },
    {
     "name": "stdout",
     "output_type": "stream",
     "text": [
      "Detected language: english\n"
     ]
    },
    {
     "name": "stderr",
     "output_type": "stream",
     "text": [
      "Transcribe: 100%|█████████▉| 599.0/599.14 [02:46<00:00,  3.59sec/s]\n"
     ]
    },
    {
     "name": "stdout",
     "output_type": "stream",
     "text": [
      "Saved: /content/drive/MyDrive/MSPCORPUS/Transcripciones/MSP-Conversation_1183.wav.json\n",
      "/content/drive/MyDrive/MSPCORPUS/Audios/MSP-Conversation_1968.wav\n"
     ]
    },
    {
     "name": "stderr",
     "output_type": "stream",
     "text": [
      "Transcribe:   0%|          | 0/914.83 [00:00<?, ?sec/s]"
     ]
    },
    {
     "name": "stdout",
     "output_type": "stream",
     "text": [
      "Detected language: english\n"
     ]
    },
    {
     "name": "stderr",
     "output_type": "stream",
     "text": [
      "Transcribe: 100%|██████████| 914.83/914.83 [03:12<00:00,  4.75sec/s]\n"
     ]
    },
    {
     "name": "stdout",
     "output_type": "stream",
     "text": [
      "Saved: /content/drive/MyDrive/MSPCORPUS/Transcripciones/MSP-Conversation_1968.wav.json\n",
      "/content/drive/MyDrive/MSPCORPUS/Audios/MSP-Conversation_0381.wav\n",
      "SKIPPED\n",
      "/content/drive/MyDrive/MSPCORPUS/Audios/MSP-Conversation_1167.wav\n"
     ]
    },
    {
     "name": "stderr",
     "output_type": "stream",
     "text": [
      "Transcribe:   0%|          | 0/900.0 [00:00<?, ?sec/s]"
     ]
    },
    {
     "name": "stdout",
     "output_type": "stream",
     "text": [
      "Detected language: english\n"
     ]
    },
    {
     "name": "stderr",
     "output_type": "stream",
     "text": [
      "Transcribe: 100%|██████████| 900.0/900.0 [03:09<00:00,  4.74sec/s]\n"
     ]
    },
    {
     "name": "stdout",
     "output_type": "stream",
     "text": [
      "Saved: /content/drive/MyDrive/MSPCORPUS/Transcripciones/MSP-Conversation_1167.wav.json\n",
      "/content/drive/MyDrive/MSPCORPUS/Audios/MSP-Conversation_1464.wav\n"
     ]
    },
    {
     "name": "stderr",
     "output_type": "stream",
     "text": [
      "Transcribe:   0%|          | 0/1199.62 [00:00<?, ?sec/s]"
     ]
    },
    {
     "name": "stdout",
     "output_type": "stream",
     "text": [
      "Detected language: english\n"
     ]
    },
    {
     "name": "stderr",
     "output_type": "stream",
     "text": [
      "Transcribe: 100%|██████████| 1199.62/1199.62 [04:34<00:00,  4.37sec/s]\n"
     ]
    },
    {
     "name": "stdout",
     "output_type": "stream",
     "text": [
      "Saved: /content/drive/MyDrive/MSPCORPUS/Transcripciones/MSP-Conversation_1464.wav.json\n",
      "/content/drive/MyDrive/MSPCORPUS/Audios/MSP-Conversation_0261.wav\n",
      "SKIPPED\n",
      "/content/drive/MyDrive/MSPCORPUS/Audios/MSP-Conversation_0700.wav\n"
     ]
    },
    {
     "name": "stderr",
     "output_type": "stream",
     "text": [
      "Transcribe:   0%|          | 0/1175.9 [00:00<?, ?sec/s]"
     ]
    },
    {
     "name": "stdout",
     "output_type": "stream",
     "text": [
      "Detected language: english\n"
     ]
    },
    {
     "name": "stderr",
     "output_type": "stream",
     "text": [
      "Transcribe: 100%|██████████| 1175.9/1175.9 [03:47<00:00,  5.17sec/s]\n"
     ]
    },
    {
     "name": "stdout",
     "output_type": "stream",
     "text": [
      "Saved: /content/drive/MyDrive/MSPCORPUS/Transcripciones/MSP-Conversation_0700.wav.json\n",
      "/content/drive/MyDrive/MSPCORPUS/Audios/MSP-Conversation_1358.wav\n"
     ]
    },
    {
     "name": "stderr",
     "output_type": "stream",
     "text": [
      "Transcribe:   0%|          | 0/901.14 [00:00<?, ?sec/s]"
     ]
    },
    {
     "name": "stdout",
     "output_type": "stream",
     "text": [
      "Detected language: english\n"
     ]
    },
    {
     "name": "stderr",
     "output_type": "stream",
     "text": [
      "Transcribe: 100%|██████████| 901.14/901.14 [02:51<00:00,  5.24sec/s]\n"
     ]
    },
    {
     "name": "stdout",
     "output_type": "stream",
     "text": [
      "Saved: /content/drive/MyDrive/MSPCORPUS/Transcripciones/MSP-Conversation_1358.wav.json\n",
      "/content/drive/MyDrive/MSPCORPUS/Audios/MSP-Conversation_0002.wav\n",
      "SKIPPED\n",
      "/content/drive/MyDrive/MSPCORPUS/Audios/MSP-Conversation_0709.wav\n"
     ]
    },
    {
     "name": "stderr",
     "output_type": "stream",
     "text": [
      "Transcribe:   0%|          | 0/715.45 [00:00<?, ?sec/s]"
     ]
    },
    {
     "name": "stdout",
     "output_type": "stream",
     "text": [
      "Detected language: english\n"
     ]
    },
    {
     "name": "stderr",
     "output_type": "stream",
     "text": [
      "Transcribe: 100%|██████████| 715.45/715.45 [02:11<00:00,  5.42sec/s]\n"
     ]
    },
    {
     "name": "stdout",
     "output_type": "stream",
     "text": [
      "Saved: /content/drive/MyDrive/MSPCORPUS/Transcripciones/MSP-Conversation_0709.wav.json\n",
      "/content/drive/MyDrive/MSPCORPUS/Audios/MSP-Conversation_1486.wav\n"
     ]
    },
    {
     "name": "stderr",
     "output_type": "stream",
     "text": [
      "Transcribe:   0%|          | 0/884.92 [00:00<?, ?sec/s]"
     ]
    },
    {
     "name": "stdout",
     "output_type": "stream",
     "text": [
      "Detected language: english\n"
     ]
    },
    {
     "name": "stderr",
     "output_type": "stream",
     "text": [
      "Transcribe: 100%|█████████▉| 883.82/884.92 [02:39<00:00,  5.54sec/s]\n"
     ]
    },
    {
     "name": "stdout",
     "output_type": "stream",
     "text": [
      "Saved: /content/drive/MyDrive/MSPCORPUS/Transcripciones/MSP-Conversation_1486.wav.json\n",
      "/content/drive/MyDrive/MSPCORPUS/Audios/MSP-Conversation_0541.wav\n",
      "SKIPPED\n",
      "/content/drive/MyDrive/MSPCORPUS/Audios/MSP-Conversation_0401.wav\n",
      "SKIPPED\n",
      "/content/drive/MyDrive/MSPCORPUS/Audios/MSP-Conversation_0727.wav\n"
     ]
    },
    {
     "name": "stderr",
     "output_type": "stream",
     "text": [
      "Transcribe:   0%|          | 0/945.53 [00:00<?, ?sec/s]"
     ]
    },
    {
     "name": "stdout",
     "output_type": "stream",
     "text": [
      "Detected language: english\n"
     ]
    },
    {
     "name": "stderr",
     "output_type": "stream",
     "text": [
      "Transcribe: 100%|██████████| 945.53/945.53 [03:39<00:00,  4.30sec/s]\n"
     ]
    },
    {
     "name": "stdout",
     "output_type": "stream",
     "text": [
      "Saved: /content/drive/MyDrive/MSPCORPUS/Transcripciones/MSP-Conversation_0727.wav.json\n",
      "/content/drive/MyDrive/MSPCORPUS/Audios/MSP-Conversation_0197.wav\n",
      "SKIPPED\n",
      "/content/drive/MyDrive/MSPCORPUS/Audios/MSP-Conversation_1130.wav\n"
     ]
    },
    {
     "name": "stderr",
     "output_type": "stream",
     "text": [
      "Transcribe:   0%|          | 0/638.79 [00:00<?, ?sec/s]"
     ]
    },
    {
     "name": "stdout",
     "output_type": "stream",
     "text": [
      "Detected language: english\n"
     ]
    },
    {
     "name": "stderr",
     "output_type": "stream",
     "text": [
      "Transcribe: 100%|██████████| 638.79/638.79 [01:57<00:00,  5.44sec/s]\n"
     ]
    },
    {
     "name": "stdout",
     "output_type": "stream",
     "text": [
      "Saved: /content/drive/MyDrive/MSPCORPUS/Transcripciones/MSP-Conversation_1130.wav.json\n",
      "/content/drive/MyDrive/MSPCORPUS/Audios/MSP-Conversation_2199.wav\n"
     ]
    },
    {
     "name": "stderr",
     "output_type": "stream",
     "text": [
      "Transcribe:   0%|          | 0/962.22 [00:00<?, ?sec/s]"
     ]
    },
    {
     "name": "stdout",
     "output_type": "stream",
     "text": [
      "Detected language: english\n"
     ]
    },
    {
     "name": "stderr",
     "output_type": "stream",
     "text": [
      "Transcribe: 100%|██████████| 962.22/962.22 [02:48<00:00,  5.72sec/s]\n"
     ]
    },
    {
     "name": "stdout",
     "output_type": "stream",
     "text": [
      "Saved: /content/drive/MyDrive/MSPCORPUS/Transcripciones/MSP-Conversation_2199.wav.json\n",
      "/content/drive/MyDrive/MSPCORPUS/Audios/MSP-Conversation_0257.wav\n",
      "SKIPPED\n",
      "/content/drive/MyDrive/MSPCORPUS/Audios/MSP-Conversation_0835.wav\n"
     ]
    },
    {
     "name": "stderr",
     "output_type": "stream",
     "text": [
      "Transcribe:   0%|          | 0/878.2 [00:00<?, ?sec/s]"
     ]
    },
    {
     "name": "stdout",
     "output_type": "stream",
     "text": [
      "Detected language: english\n"
     ]
    },
    {
     "name": "stderr",
     "output_type": "stream",
     "text": [
      "Transcribe: 100%|██████████| 878.2/878.2 [03:42<00:00,  3.94sec/s]\n"
     ]
    },
    {
     "name": "stdout",
     "output_type": "stream",
     "text": [
      "Saved: /content/drive/MyDrive/MSPCORPUS/Transcripciones/MSP-Conversation_0835.wav.json\n",
      "/content/drive/MyDrive/MSPCORPUS/Audios/MSP-Conversation_0841.wav\n"
     ]
    },
    {
     "name": "stderr",
     "output_type": "stream",
     "text": [
      "Transcribe:   0%|          | 0/649.28 [00:00<?, ?sec/s]"
     ]
    },
    {
     "name": "stdout",
     "output_type": "stream",
     "text": [
      "Detected language: english\n"
     ]
    },
    {
     "name": "stderr",
     "output_type": "stream",
     "text": [
      "Transcribe: 100%|██████████| 649.28/649.28 [01:44<00:00,  6.24sec/s]\n"
     ]
    },
    {
     "name": "stdout",
     "output_type": "stream",
     "text": [
      "Saved: /content/drive/MyDrive/MSPCORPUS/Transcripciones/MSP-Conversation_0841.wav.json\n",
      "/content/drive/MyDrive/MSPCORPUS/Audios/MSP-Conversation_0569.wav\n",
      "SKIPPED\n",
      "/content/drive/MyDrive/MSPCORPUS/Audios/MSP-Conversation_1752.wav\n"
     ]
    },
    {
     "name": "stderr",
     "output_type": "stream",
     "text": [
      "Transcribe:   0%|          | 0/1152.66 [00:00<?, ?sec/s]"
     ]
    },
    {
     "name": "stdout",
     "output_type": "stream",
     "text": [
      "Detected language: english\n"
     ]
    },
    {
     "name": "stderr",
     "output_type": "stream",
     "text": [
      "Transcribe: 100%|██████████| 1152.66/1152.66 [04:00<00:00,  4.79sec/s]\n"
     ]
    },
    {
     "name": "stdout",
     "output_type": "stream",
     "text": [
      "Saved: /content/drive/MyDrive/MSPCORPUS/Transcripciones/MSP-Conversation_1752.wav.json\n",
      "/content/drive/MyDrive/MSPCORPUS/Audios/MSP-Conversation_1424.wav\n"
     ]
    },
    {
     "name": "stderr",
     "output_type": "stream",
     "text": [
      "Transcribe:   0%|          | 0/1188.03 [00:00<?, ?sec/s]"
     ]
    },
    {
     "name": "stdout",
     "output_type": "stream",
     "text": [
      "Detected language: english\n"
     ]
    },
    {
     "name": "stderr",
     "output_type": "stream",
     "text": [
      "Transcribe: 100%|██████████| 1188.03/1188.03 [04:29<00:00,  4.41sec/s]\n"
     ]
    },
    {
     "name": "stdout",
     "output_type": "stream",
     "text": [
      "Saved: /content/drive/MyDrive/MSPCORPUS/Transcripciones/MSP-Conversation_1424.wav.json\n",
      "/content/drive/MyDrive/MSPCORPUS/Audios/MSP-Conversation_0153.wav\n",
      "SKIPPED\n",
      "/content/drive/MyDrive/MSPCORPUS/Audios/MSP-Conversation_0993.wav\n"
     ]
    },
    {
     "name": "stderr",
     "output_type": "stream",
     "text": [
      "Transcribe:   0%|          | 0/1173.93 [00:00<?, ?sec/s]"
     ]
    },
    {
     "name": "stdout",
     "output_type": "stream",
     "text": [
      "Detected language: welsh\n"
     ]
    },
    {
     "name": "stderr",
     "output_type": "stream",
     "text": [
      "Transcribe: 100%|██████████| 1173.93/1173.93 [10:14<00:00,  1.91sec/s]\n"
     ]
    },
    {
     "name": "stdout",
     "output_type": "stream",
     "text": [
      "Saved: /content/drive/MyDrive/MSPCORPUS/Transcripciones/MSP-Conversation_0993.wav.json\n",
      "/content/drive/MyDrive/MSPCORPUS/Audios/MSP-Conversation_1452.wav\n"
     ]
    },
    {
     "name": "stderr",
     "output_type": "stream",
     "text": [
      "Transcribe:   0%|          | 0/624.29 [00:00<?, ?sec/s]"
     ]
    },
    {
     "name": "stdout",
     "output_type": "stream",
     "text": [
      "Detected language: english\n"
     ]
    },
    {
     "name": "stderr",
     "output_type": "stream",
     "text": [
      "Transcribe: 100%|██████████| 624.29/624.29 [02:58<00:00,  3.50sec/s]\n"
     ]
    },
    {
     "name": "stdout",
     "output_type": "stream",
     "text": [
      "Saved: /content/drive/MyDrive/MSPCORPUS/Transcripciones/MSP-Conversation_1452.wav.json\n",
      "/content/drive/MyDrive/MSPCORPUS/Audios/MSP-Conversation_0140.wav\n",
      "SKIPPED\n",
      "/content/drive/MyDrive/MSPCORPUS/Audios/MSP-Conversation_0456.wav\n",
      "SKIPPED\n",
      "/content/drive/MyDrive/MSPCORPUS/Audios/MSP-Conversation_1188.wav\n"
     ]
    },
    {
     "name": "stderr",
     "output_type": "stream",
     "text": [
      "Transcribe:   0%|          | 0/749.62 [00:00<?, ?sec/s]"
     ]
    },
    {
     "name": "stdout",
     "output_type": "stream",
     "text": [
      "Detected language: english\n"
     ]
    },
    {
     "name": "stderr",
     "output_type": "stream",
     "text": [
      "Transcribe: 100%|██████████| 749.62/749.62 [02:55<00:00,  4.28sec/s]\n"
     ]
    },
    {
     "name": "stdout",
     "output_type": "stream",
     "text": [
      "Saved: /content/drive/MyDrive/MSPCORPUS/Transcripciones/MSP-Conversation_1188.wav.json\n",
      "/content/drive/MyDrive/MSPCORPUS/Audios/MSP-Conversation_0228.wav\n",
      "SKIPPED\n",
      "/content/drive/MyDrive/MSPCORPUS/Audios/MSP-Conversation_1630.wav\n"
     ]
    },
    {
     "name": "stderr",
     "output_type": "stream",
     "text": [
      "Transcribe:   0%|          | 0/921.96 [00:00<?, ?sec/s]"
     ]
    },
    {
     "name": "stdout",
     "output_type": "stream",
     "text": [
      "Detected language: english\n"
     ]
    },
    {
     "name": "stderr",
     "output_type": "stream",
     "text": [
      "Transcribe: 100%|█████████▉| 921.92/921.96 [02:51<00:00,  5.37sec/s]\n"
     ]
    },
    {
     "name": "stdout",
     "output_type": "stream",
     "text": [
      "Saved: /content/drive/MyDrive/MSPCORPUS/Transcripciones/MSP-Conversation_1630.wav.json\n",
      "/content/drive/MyDrive/MSPCORPUS/Audios/MSP-Conversation_0325.wav\n",
      "SKIPPED\n",
      "/content/drive/MyDrive/MSPCORPUS/Audios/MSP-Conversation_0692.wav\n"
     ]
    },
    {
     "name": "stderr",
     "output_type": "stream",
     "text": [
      "Transcribe:   0%|          | 0/948.7 [00:00<?, ?sec/s]"
     ]
    },
    {
     "name": "stdout",
     "output_type": "stream",
     "text": [
      "Detected language: english\n"
     ]
    },
    {
     "name": "stderr",
     "output_type": "stream",
     "text": [
      "Transcribe: 100%|██████████| 948.7/948.7 [03:54<00:00,  4.05sec/s]\n"
     ]
    },
    {
     "name": "stdout",
     "output_type": "stream",
     "text": [
      "Saved: /content/drive/MyDrive/MSPCORPUS/Transcripciones/MSP-Conversation_0692.wav.json\n",
      "/content/drive/MyDrive/MSPCORPUS/Audios/MSP-Conversation_0858.wav\n"
     ]
    },
    {
     "name": "stderr",
     "output_type": "stream",
     "text": [
      "Transcribe:   0%|          | 0/696.67 [00:00<?, ?sec/s]"
     ]
    },
    {
     "name": "stdout",
     "output_type": "stream",
     "text": [
      "Detected language: english\n"
     ]
    },
    {
     "name": "stderr",
     "output_type": "stream",
     "text": [
      "Transcribe: 100%|██████████| 696.67/696.67 [02:41<00:00,  4.32sec/s]\n"
     ]
    },
    {
     "name": "stdout",
     "output_type": "stream",
     "text": [
      "Saved: /content/drive/MyDrive/MSPCORPUS/Transcripciones/MSP-Conversation_0858.wav.json\n",
      "/content/drive/MyDrive/MSPCORPUS/Audios/MSP-Conversation_0135.wav\n",
      "SKIPPED\n",
      "/content/drive/MyDrive/MSPCORPUS/Audios/MSP-Conversation_1277.wav\n"
     ]
    },
    {
     "name": "stderr",
     "output_type": "stream",
     "text": [
      "Transcribe:   0%|          | 0/927.04 [00:00<?, ?sec/s]"
     ]
    },
    {
     "name": "stdout",
     "output_type": "stream",
     "text": [
      "Detected language: english\n"
     ]
    },
    {
     "name": "stderr",
     "output_type": "stream",
     "text": [
      "Transcribe: 100%|██████████| 927.04/927.04 [02:58<00:00,  5.18sec/s]\n"
     ]
    },
    {
     "name": "stdout",
     "output_type": "stream",
     "text": [
      "Saved: /content/drive/MyDrive/MSPCORPUS/Transcripciones/MSP-Conversation_1277.wav.json\n",
      "/content/drive/MyDrive/MSPCORPUS/Audios/MSP-Conversation_1922.wav\n"
     ]
    },
    {
     "name": "stderr",
     "output_type": "stream",
     "text": [
      "Transcribe:   0%|          | 0/960.74 [00:00<?, ?sec/s]"
     ]
    },
    {
     "name": "stdout",
     "output_type": "stream",
     "text": [
      "Detected language: english\n"
     ]
    },
    {
     "name": "stderr",
     "output_type": "stream",
     "text": [
      "Transcribe: 100%|██████████| 960.74/960.74 [03:12<00:00,  5.00sec/s]\n"
     ]
    },
    {
     "name": "stdout",
     "output_type": "stream",
     "text": [
      "Saved: /content/drive/MyDrive/MSPCORPUS/Transcripciones/MSP-Conversation_1922.wav.json\n",
      "/content/drive/MyDrive/MSPCORPUS/Audios/MSP-Conversation_0055.wav\n",
      "SKIPPED\n",
      "/content/drive/MyDrive/MSPCORPUS/Audios/MSP-Conversation_0686.wav\n"
     ]
    },
    {
     "name": "stderr",
     "output_type": "stream",
     "text": [
      "Transcribe:   0%|          | 0/1189.13 [00:00<?, ?sec/s]"
     ]
    },
    {
     "name": "stdout",
     "output_type": "stream",
     "text": [
      "Detected language: english\n"
     ]
    },
    {
     "name": "stderr",
     "output_type": "stream",
     "text": [
      "Transcribe: 100%|██████████| 1189.13/1189.13 [04:43<00:00,  4.19sec/s]\n"
     ]
    },
    {
     "name": "stdout",
     "output_type": "stream",
     "text": [
      "Saved: /content/drive/MyDrive/MSPCORPUS/Transcripciones/MSP-Conversation_0686.wav.json\n",
      "/content/drive/MyDrive/MSPCORPUS/Audios/MSP-Conversation_0796.wav\n"
     ]
    },
    {
     "name": "stderr",
     "output_type": "stream",
     "text": [
      "Transcribe:   0%|          | 0/672.78 [00:00<?, ?sec/s]"
     ]
    },
    {
     "name": "stdout",
     "output_type": "stream",
     "text": [
      "Detected language: english\n"
     ]
    },
    {
     "name": "stderr",
     "output_type": "stream",
     "text": [
      "Transcribe: 100%|██████████| 672.78/672.78 [02:02<00:00,  5.51sec/s]\n"
     ]
    },
    {
     "name": "stdout",
     "output_type": "stream",
     "text": [
      "Saved: /content/drive/MyDrive/MSPCORPUS/Transcripciones/MSP-Conversation_0796.wav.json\n",
      "/content/drive/MyDrive/MSPCORPUS/Audios/MSP-Conversation_1191.wav\n"
     ]
    },
    {
     "name": "stderr",
     "output_type": "stream",
     "text": [
      "Transcribe:   0%|          | 0/601.94 [00:00<?, ?sec/s]"
     ]
    },
    {
     "name": "stdout",
     "output_type": "stream",
     "text": [
      "Detected language: english\n"
     ]
    },
    {
     "name": "stderr",
     "output_type": "stream",
     "text": [
      "Transcribe: 100%|██████████| 601.94/601.94 [02:11<00:00,  4.58sec/s]\n"
     ]
    },
    {
     "name": "stdout",
     "output_type": "stream",
     "text": [
      "Saved: /content/drive/MyDrive/MSPCORPUS/Transcripciones/MSP-Conversation_1191.wav.json\n",
      "/content/drive/MyDrive/MSPCORPUS/Audios/MSP-Conversation_0593.wav\n",
      "SKIPPED\n",
      "/content/drive/MyDrive/MSPCORPUS/Audios/MSP-Conversation_2241.wav\n"
     ]
    },
    {
     "name": "stderr",
     "output_type": "stream",
     "text": [
      "Transcribe:   0%|          | 0/889.84 [00:00<?, ?sec/s]"
     ]
    },
    {
     "name": "stdout",
     "output_type": "stream",
     "text": [
      "Detected language: english\n"
     ]
    },
    {
     "name": "stderr",
     "output_type": "stream",
     "text": [
      "Transcribe: 100%|██████████| 889.84/889.84 [04:27<00:00,  3.33sec/s]\n"
     ]
    },
    {
     "name": "stdout",
     "output_type": "stream",
     "text": [
      "Saved: /content/drive/MyDrive/MSPCORPUS/Transcripciones/MSP-Conversation_2241.wav.json\n",
      "/content/drive/MyDrive/MSPCORPUS/Audios/MSP-Conversation_0361.wav\n",
      "SKIPPED\n",
      "/content/drive/MyDrive/MSPCORPUS/Audios/MSP-Conversation_0160.wav\n",
      "SKIPPED\n",
      "/content/drive/MyDrive/MSPCORPUS/Audios/MSP-Conversation_1413.wav\n"
     ]
    },
    {
     "name": "stderr",
     "output_type": "stream",
     "text": [
      "Transcribe:   0%|          | 0/712.71 [00:00<?, ?sec/s]"
     ]
    },
    {
     "name": "stdout",
     "output_type": "stream",
     "text": [
      "Detected language: english\n"
     ]
    },
    {
     "name": "stderr",
     "output_type": "stream",
     "text": [
      "Transcribe: 100%|██████████| 712.71/712.71 [02:00<00:00,  5.90sec/s]\n"
     ]
    },
    {
     "name": "stdout",
     "output_type": "stream",
     "text": [
      "Saved: /content/drive/MyDrive/MSPCORPUS/Transcripciones/MSP-Conversation_1413.wav.json\n",
      "/content/drive/MyDrive/MSPCORPUS/Audios/MSP-Conversation_0584.wav\n",
      "SKIPPED\n",
      "/content/drive/MyDrive/MSPCORPUS/Audios/MSP-Conversation_1173.wav\n"
     ]
    },
    {
     "name": "stderr",
     "output_type": "stream",
     "text": [
      "Transcribe:   0%|          | 0/1190.1 [00:00<?, ?sec/s]"
     ]
    },
    {
     "name": "stdout",
     "output_type": "stream",
     "text": [
      "Detected language: english\n"
     ]
    },
    {
     "name": "stderr",
     "output_type": "stream",
     "text": [
      "Transcribe: 100%|██████████| 1190.1/1190.1 [03:21<00:00,  5.91sec/s]\n"
     ]
    },
    {
     "name": "stdout",
     "output_type": "stream",
     "text": [
      "Saved: /content/drive/MyDrive/MSPCORPUS/Transcripciones/MSP-Conversation_1173.wav.json\n",
      "/content/drive/MyDrive/MSPCORPUS/Audios/MSP-Conversation_1917.wav\n"
     ]
    },
    {
     "name": "stderr",
     "output_type": "stream",
     "text": [
      "Transcribe:   0%|          | 0/1135.51 [00:00<?, ?sec/s]"
     ]
    },
    {
     "name": "stdout",
     "output_type": "stream",
     "text": [
      "Detected language: english\n"
     ]
    },
    {
     "name": "stderr",
     "output_type": "stream",
     "text": [
      "Transcribe: 100%|██████████| 1135.51/1135.51 [04:02<00:00,  4.68sec/s]\n"
     ]
    },
    {
     "name": "stdout",
     "output_type": "stream",
     "text": [
      "Saved: /content/drive/MyDrive/MSPCORPUS/Transcripciones/MSP-Conversation_1917.wav.json\n",
      "/content/drive/MyDrive/MSPCORPUS/Audios/MSP-Conversation_1637.wav\n"
     ]
    },
    {
     "name": "stderr",
     "output_type": "stream",
     "text": [
      "Transcribe:   0%|          | 0/1188.05 [00:00<?, ?sec/s]"
     ]
    },
    {
     "name": "stdout",
     "output_type": "stream",
     "text": [
      "Detected language: english\n"
     ]
    },
    {
     "name": "stderr",
     "output_type": "stream",
     "text": [
      "Transcribe: 100%|██████████| 1188.05/1188.05 [03:39<00:00,  5.41sec/s]\n"
     ]
    },
    {
     "name": "stdout",
     "output_type": "stream",
     "text": [
      "Saved: /content/drive/MyDrive/MSPCORPUS/Transcripciones/MSP-Conversation_1637.wav.json\n",
      "/content/drive/MyDrive/MSPCORPUS/Audios/MSP-Conversation_0083.wav\n",
      "SKIPPED\n",
      "/content/drive/MyDrive/MSPCORPUS/Audios/MSP-Conversation_0675.wav\n"
     ]
    },
    {
     "name": "stderr",
     "output_type": "stream",
     "text": [
      "Transcribe:   0%|          | 0/929.14 [00:00<?, ?sec/s]"
     ]
    },
    {
     "name": "stdout",
     "output_type": "stream",
     "text": [
      "Detected language: english\n"
     ]
    },
    {
     "name": "stderr",
     "output_type": "stream",
     "text": [
      "Transcribe: 100%|██████████| 929.14/929.14 [03:22<00:00,  4.60sec/s]\n"
     ]
    },
    {
     "name": "stdout",
     "output_type": "stream",
     "text": [
      "Saved: /content/drive/MyDrive/MSPCORPUS/Transcripciones/MSP-Conversation_0675.wav.json\n",
      "/content/drive/MyDrive/MSPCORPUS/Audios/MSP-Conversation_2007.wav\n"
     ]
    },
    {
     "name": "stderr",
     "output_type": "stream",
     "text": [
      "Transcribe:   0%|          | 0/920.8 [00:00<?, ?sec/s]"
     ]
    },
    {
     "name": "stdout",
     "output_type": "stream",
     "text": [
      "Detected language: english\n"
     ]
    },
    {
     "name": "stderr",
     "output_type": "stream",
     "text": [
      "Transcribe: 100%|██████████| 920.8/920.8 [04:12<00:00,  3.65sec/s]\n"
     ]
    },
    {
     "name": "stdout",
     "output_type": "stream",
     "text": [
      "Saved: /content/drive/MyDrive/MSPCORPUS/Transcripciones/MSP-Conversation_2007.wav.json\n",
      "/content/drive/MyDrive/MSPCORPUS/Audios/MSP-Conversation_0295.wav\n",
      "SKIPPED\n",
      "/content/drive/MyDrive/MSPCORPUS/Audios/MSP-Conversation_0190.wav\n",
      "SKIPPED\n",
      "/content/drive/MyDrive/MSPCORPUS/Audios/MSP-Conversation_0156.wav\n",
      "SKIPPED\n",
      "/content/drive/MyDrive/MSPCORPUS/Audios/MSP-Conversation_0023.wav\n",
      "SKIPPED\n",
      "/content/drive/MyDrive/MSPCORPUS/Audios/MSP-Conversation_0878.wav\n"
     ]
    },
    {
     "name": "stderr",
     "output_type": "stream",
     "text": [
      "Transcribe:   0%|          | 0/597.33 [00:00<?, ?sec/s]"
     ]
    },
    {
     "name": "stdout",
     "output_type": "stream",
     "text": [
      "Detected language: english\n"
     ]
    },
    {
     "name": "stderr",
     "output_type": "stream",
     "text": [
      "Transcribe: 100%|██████████| 597.33/597.33 [01:33<00:00,  6.36sec/s]\n"
     ]
    },
    {
     "name": "stdout",
     "output_type": "stream",
     "text": [
      "Saved: /content/drive/MyDrive/MSPCORPUS/Transcripciones/MSP-Conversation_0878.wav.json\n",
      "/content/drive/MyDrive/MSPCORPUS/Audios/MSP-Conversation_0654.wav\n"
     ]
    },
    {
     "name": "stderr",
     "output_type": "stream",
     "text": [
      "Transcribe:   0%|          | 0/899.96 [00:00<?, ?sec/s]"
     ]
    },
    {
     "name": "stdout",
     "output_type": "stream",
     "text": [
      "Detected language: english\n"
     ]
    },
    {
     "name": "stderr",
     "output_type": "stream",
     "text": [
      "Transcribe: 100%|█████████▉| 898.14/899.96 [02:54<00:00,  5.13sec/s]\n"
     ]
    },
    {
     "name": "stdout",
     "output_type": "stream",
     "text": [
      "Saved: /content/drive/MyDrive/MSPCORPUS/Transcripciones/MSP-Conversation_0654.wav.json\n",
      "/content/drive/MyDrive/MSPCORPUS/Audios/MSP-Conversation_0883.wav\n"
     ]
    },
    {
     "name": "stderr",
     "output_type": "stream",
     "text": [
      "Transcribe:   0%|          | 0/598.41 [00:00<?, ?sec/s]"
     ]
    },
    {
     "name": "stdout",
     "output_type": "stream",
     "text": [
      "Detected language: english\n"
     ]
    },
    {
     "name": "stderr",
     "output_type": "stream",
     "text": [
      "Transcribe: 100%|██████████| 598.41/598.41 [02:43<00:00,  3.65sec/s]\n"
     ]
    },
    {
     "name": "stdout",
     "output_type": "stream",
     "text": [
      "Saved: /content/drive/MyDrive/MSPCORPUS/Transcripciones/MSP-Conversation_0883.wav.json\n",
      "/content/drive/MyDrive/MSPCORPUS/Audios/MSP-Conversation_1621.wav\n"
     ]
    },
    {
     "name": "stderr",
     "output_type": "stream",
     "text": [
      "Transcribe:   0%|          | 0/950.52 [00:00<?, ?sec/s]"
     ]
    },
    {
     "name": "stdout",
     "output_type": "stream",
     "text": [
      "Detected language: english\n"
     ]
    },
    {
     "name": "stderr",
     "output_type": "stream",
     "text": [
      "Transcribe: 100%|██████████| 950.52/950.52 [03:14<00:00,  4.88sec/s]\n"
     ]
    },
    {
     "name": "stdout",
     "output_type": "stream",
     "text": [
      "Saved: /content/drive/MyDrive/MSPCORPUS/Transcripciones/MSP-Conversation_1621.wav.json\n",
      "/content/drive/MyDrive/MSPCORPUS/Audios/MSP-Conversation_0552.wav\n",
      "SKIPPED\n",
      "/content/drive/MyDrive/MSPCORPUS/Audios/MSP-Conversation_2279.wav\n"
     ]
    },
    {
     "name": "stderr",
     "output_type": "stream",
     "text": [
      "Transcribe:   0%|          | 0/1187.26 [00:00<?, ?sec/s]"
     ]
    },
    {
     "name": "stdout",
     "output_type": "stream",
     "text": [
      "Detected language: english\n"
     ]
    },
    {
     "name": "stderr",
     "output_type": "stream",
     "text": [
      "Transcribe: 100%|██████████| 1187.26/1187.26 [06:03<00:00,  3.26sec/s]\n"
     ]
    },
    {
     "name": "stdout",
     "output_type": "stream",
     "text": [
      "Saved: /content/drive/MyDrive/MSPCORPUS/Transcripciones/MSP-Conversation_2279.wav.json\n",
      "/content/drive/MyDrive/MSPCORPUS/Audios/MSP-Conversation_0611.wav\n"
     ]
    },
    {
     "name": "stderr",
     "output_type": "stream",
     "text": [
      "Transcribe:   0%|          | 0/913.57 [00:00<?, ?sec/s]"
     ]
    },
    {
     "name": "stdout",
     "output_type": "stream",
     "text": [
      "Detected language: english\n"
     ]
    },
    {
     "name": "stderr",
     "output_type": "stream",
     "text": [
      "Transcribe: 100%|██████████| 913.57/913.57 [02:44<00:00,  5.54sec/s]\n"
     ]
    },
    {
     "name": "stdout",
     "output_type": "stream",
     "text": [
      "Saved: /content/drive/MyDrive/MSPCORPUS/Transcripciones/MSP-Conversation_0611.wav.json\n",
      "/content/drive/MyDrive/MSPCORPUS/Audios/MSP-Conversation_0289.wav\n",
      "SKIPPED\n",
      "/content/drive/MyDrive/MSPCORPUS/Audios/MSP-Conversation_0110.wav\n",
      "SKIPPED\n",
      "/content/drive/MyDrive/MSPCORPUS/Audios/MSP-Conversation_0130.wav\n",
      "SKIPPED\n",
      "/content/drive/MyDrive/MSPCORPUS/Audios/MSP-Conversation_1200.wav\n"
     ]
    },
    {
     "name": "stderr",
     "output_type": "stream",
     "text": [
      "Transcribe:   0%|          | 0/1193.38 [00:00<?, ?sec/s]"
     ]
    },
    {
     "name": "stdout",
     "output_type": "stream",
     "text": [
      "Detected language: english\n"
     ]
    },
    {
     "name": "stderr",
     "output_type": "stream",
     "text": [
      "Transcribe: 100%|██████████| 1193.38/1193.38 [04:37<00:00,  4.30sec/s]\n"
     ]
    },
    {
     "name": "stdout",
     "output_type": "stream",
     "text": [
      "Saved: /content/drive/MyDrive/MSPCORPUS/Transcripciones/MSP-Conversation_1200.wav.json\n",
      "/content/drive/MyDrive/MSPCORPUS/Audios/MSP-Conversation_0167.wav\n",
      "SKIPPED\n",
      "/content/drive/MyDrive/MSPCORPUS/Audios/MSP-Conversation_1931.wav\n"
     ]
    },
    {
     "name": "stderr",
     "output_type": "stream",
     "text": [
      "Transcribe:   0%|          | 0/881.93 [00:00<?, ?sec/s]"
     ]
    },
    {
     "name": "stdout",
     "output_type": "stream",
     "text": [
      "Detected language: english\n"
     ]
    },
    {
     "name": "stderr",
     "output_type": "stream",
     "text": [
      "Transcribe: 100%|██████████| 881.93/881.93 [02:58<00:00,  4.95sec/s]\n"
     ]
    },
    {
     "name": "stdout",
     "output_type": "stream",
     "text": [
      "Saved: /content/drive/MyDrive/MSPCORPUS/Transcripciones/MSP-Conversation_1931.wav.json\n",
      "/content/drive/MyDrive/MSPCORPUS/Audios/MSP-Conversation_0157.wav\n",
      "SKIPPED\n",
      "/content/drive/MyDrive/MSPCORPUS/Audios/MSP-Conversation_1187.wav\n"
     ]
    },
    {
     "name": "stderr",
     "output_type": "stream",
     "text": [
      "Transcribe:   0%|          | 0/869.94 [00:00<?, ?sec/s]"
     ]
    },
    {
     "name": "stdout",
     "output_type": "stream",
     "text": [
      "Detected language: english\n"
     ]
    },
    {
     "name": "stderr",
     "output_type": "stream",
     "text": [
      "Transcribe: 100%|██████████| 869.94/869.94 [03:34<00:00,  4.06sec/s]\n"
     ]
    },
    {
     "name": "stdout",
     "output_type": "stream",
     "text": [
      "Saved: /content/drive/MyDrive/MSPCORPUS/Transcripciones/MSP-Conversation_1187.wav.json\n",
      "/content/drive/MyDrive/MSPCORPUS/Audios/MSP-Conversation_0046.wav\n",
      "SKIPPED\n",
      "/content/drive/MyDrive/MSPCORPUS/Audios/MSP-Conversation_2197.wav\n"
     ]
    },
    {
     "name": "stderr",
     "output_type": "stream",
     "text": [
      "Transcribe:   0%|          | 0/621.69 [00:00<?, ?sec/s]"
     ]
    },
    {
     "name": "stdout",
     "output_type": "stream",
     "text": [
      "Detected language: english\n"
     ]
    },
    {
     "name": "stderr",
     "output_type": "stream",
     "text": [
      "Transcribe: 100%|██████████| 621.69/621.69 [02:18<00:00,  4.50sec/s]\n"
     ]
    },
    {
     "name": "stdout",
     "output_type": "stream",
     "text": [
      "Saved: /content/drive/MyDrive/MSPCORPUS/Transcripciones/MSP-Conversation_2197.wav.json\n",
      "/content/drive/MyDrive/MSPCORPUS/Audios/MSP-Conversation_2058.wav\n"
     ]
    },
    {
     "name": "stderr",
     "output_type": "stream",
     "text": [
      "Transcribe:   0%|          | 0/951.3 [00:00<?, ?sec/s]"
     ]
    },
    {
     "name": "stdout",
     "output_type": "stream",
     "text": [
      "Detected language: english\n"
     ]
    },
    {
     "name": "stderr",
     "output_type": "stream",
     "text": [
      "Transcribe: 100%|██████████| 951.3/951.3 [03:05<00:00,  5.12sec/s]\n"
     ]
    },
    {
     "name": "stdout",
     "output_type": "stream",
     "text": [
      "Saved: /content/drive/MyDrive/MSPCORPUS/Transcripciones/MSP-Conversation_2058.wav.json\n",
      "/content/drive/MyDrive/MSPCORPUS/Audios/MSP-Conversation_1884.wav\n"
     ]
    },
    {
     "name": "stderr",
     "output_type": "stream",
     "text": [
      "Transcribe:   0%|          | 0/627.23 [00:00<?, ?sec/s]"
     ]
    },
    {
     "name": "stdout",
     "output_type": "stream",
     "text": [
      "Detected language: english\n"
     ]
    },
    {
     "name": "stderr",
     "output_type": "stream",
     "text": [
      "Transcribe: 100%|██████████| 627.23/627.23 [01:59<00:00,  5.23sec/s]\n"
     ]
    },
    {
     "name": "stdout",
     "output_type": "stream",
     "text": [
      "Saved: /content/drive/MyDrive/MSPCORPUS/Transcripciones/MSP-Conversation_1884.wav.json\n",
      "/content/drive/MyDrive/MSPCORPUS/Audios/MSP-Conversation_1185.wav\n"
     ]
    },
    {
     "name": "stderr",
     "output_type": "stream",
     "text": [
      "Transcribe:   0%|          | 0/774.72 [00:00<?, ?sec/s]"
     ]
    },
    {
     "name": "stdout",
     "output_type": "stream",
     "text": [
      "Detected language: english\n"
     ]
    },
    {
     "name": "stderr",
     "output_type": "stream",
     "text": [
      "Transcribe: 100%|██████████| 774.72/774.72 [02:27<00:00,  5.25sec/s]\n"
     ]
    },
    {
     "name": "stdout",
     "output_type": "stream",
     "text": [
      "Saved: /content/drive/MyDrive/MSPCORPUS/Transcripciones/MSP-Conversation_1185.wav.json\n",
      "/content/drive/MyDrive/MSPCORPUS/Audios/MSP-Conversation_0396.wav\n",
      "SKIPPED\n",
      "/content/drive/MyDrive/MSPCORPUS/Audios/MSP-Conversation_2248.wav\n"
     ]
    },
    {
     "name": "stderr",
     "output_type": "stream",
     "text": [
      "Transcribe:   0%|          | 0/639.98 [00:00<?, ?sec/s]"
     ]
    },
    {
     "name": "stdout",
     "output_type": "stream",
     "text": [
      "Detected language: english\n"
     ]
    },
    {
     "name": "stderr",
     "output_type": "stream",
     "text": [
      "Transcribe: 100%|██████████| 639.98/639.98 [02:37<00:00,  4.05sec/s]\n"
     ]
    },
    {
     "name": "stdout",
     "output_type": "stream",
     "text": [
      "Saved: /content/drive/MyDrive/MSPCORPUS/Transcripciones/MSP-Conversation_2248.wav.json\n",
      "/content/drive/MyDrive/MSPCORPUS/Audios/MSP-Conversation_0418.wav\n",
      "SKIPPED\n",
      "/content/drive/MyDrive/MSPCORPUS/Audios/MSP-Conversation_0678.wav\n"
     ]
    },
    {
     "name": "stderr",
     "output_type": "stream",
     "text": [
      "Transcribe:   0%|          | 0/1195.82 [00:00<?, ?sec/s]"
     ]
    },
    {
     "name": "stdout",
     "output_type": "stream",
     "text": [
      "Detected language: english\n"
     ]
    },
    {
     "name": "stderr",
     "output_type": "stream",
     "text": [
      "Transcribe: 100%|██████████| 1195.82/1195.82 [04:48<00:00,  4.15sec/s]\n"
     ]
    },
    {
     "name": "stdout",
     "output_type": "stream",
     "text": [
      "Saved: /content/drive/MyDrive/MSPCORPUS/Transcripciones/MSP-Conversation_0678.wav.json\n",
      "/content/drive/MyDrive/MSPCORPUS/Audios/MSP-Conversation_0437.wav\n"
     ]
    },
    {
     "name": "stderr",
     "output_type": "stream",
     "text": [
      "Transcribe:   0%|          | 0/925.48 [00:00<?, ?sec/s]"
     ]
    },
    {
     "name": "stdout",
     "output_type": "stream",
     "text": [
      "Detected language: english\n"
     ]
    },
    {
     "name": "stderr",
     "output_type": "stream",
     "text": [
      "Transcribe: 100%|██████████| 925.48/925.48 [03:14<00:00,  4.75sec/s]\n"
     ]
    },
    {
     "name": "stdout",
     "output_type": "stream",
     "text": [
      "Saved: /content/drive/MyDrive/MSPCORPUS/Transcripciones/MSP-Conversation_0437.wav.json\n",
      "/content/drive/MyDrive/MSPCORPUS/Audios/MSP-Conversation_0726.wav\n"
     ]
    },
    {
     "name": "stderr",
     "output_type": "stream",
     "text": [
      "Transcribe:   0%|          | 0/640.0 [00:00<?, ?sec/s]"
     ]
    },
    {
     "name": "stdout",
     "output_type": "stream",
     "text": [
      "Detected language: english\n"
     ]
    },
    {
     "name": "stderr",
     "output_type": "stream",
     "text": [
      "Transcribe: 100%|██████████| 640.0/640.0 [02:29<00:00,  4.28sec/s]\n"
     ]
    },
    {
     "name": "stdout",
     "output_type": "stream",
     "text": [
      "Saved: /content/drive/MyDrive/MSPCORPUS/Transcripciones/MSP-Conversation_0726.wav.json\n",
      "/content/drive/MyDrive/MSPCORPUS/Audios/MSP-Conversation_1669.wav\n"
     ]
    },
    {
     "name": "stderr",
     "output_type": "stream",
     "text": [
      "Transcribe:   0%|          | 0/1152.84 [00:00<?, ?sec/s]"
     ]
    },
    {
     "name": "stdout",
     "output_type": "stream",
     "text": [
      "Detected language: english\n"
     ]
    },
    {
     "name": "stderr",
     "output_type": "stream",
     "text": [
      "Transcribe: 100%|██████████| 1152.84/1152.84 [04:32<00:00,  4.23sec/s]\n"
     ]
    },
    {
     "name": "stdout",
     "output_type": "stream",
     "text": [
      "Saved: /content/drive/MyDrive/MSPCORPUS/Transcripciones/MSP-Conversation_1669.wav.json\n",
      "/content/drive/MyDrive/MSPCORPUS/Audios/MSP-Conversation_0372.wav\n"
     ]
    },
    {
     "name": "stderr",
     "output_type": "stream",
     "text": [
      "Transcribe:   0%|          | 0/1193.1 [00:00<?, ?sec/s]"
     ]
    },
    {
     "name": "stdout",
     "output_type": "stream",
     "text": [
      "Detected language: english\n"
     ]
    },
    {
     "name": "stderr",
     "output_type": "stream",
     "text": [
      "Transcribe: 100%|██████████| 1193.1/1193.1 [04:40<00:00,  4.26sec/s]\n"
     ]
    },
    {
     "name": "stdout",
     "output_type": "stream",
     "text": [
      "Saved: /content/drive/MyDrive/MSPCORPUS/Transcripciones/MSP-Conversation_0372.wav.json\n",
      "/content/drive/MyDrive/MSPCORPUS/Audios/MSP-Conversation_0235.wav\n"
     ]
    },
    {
     "name": "stderr",
     "output_type": "stream",
     "text": [
      "Transcribe:   0%|          | 0/808.49 [00:00<?, ?sec/s]"
     ]
    },
    {
     "name": "stdout",
     "output_type": "stream",
     "text": [
      "Detected language: english\n"
     ]
    },
    {
     "name": "stderr",
     "output_type": "stream",
     "text": [
      "Transcribe: 100%|██████████| 808.49/808.49 [02:54<00:00,  4.63sec/s]\n"
     ]
    },
    {
     "name": "stdout",
     "output_type": "stream",
     "text": [
      "Saved: /content/drive/MyDrive/MSPCORPUS/Transcripciones/MSP-Conversation_0235.wav.json\n",
      "/content/drive/MyDrive/MSPCORPUS/Audios/MSP-Conversation_1540.wav\n"
     ]
    },
    {
     "name": "stderr",
     "output_type": "stream",
     "text": [
      "Transcribe:   0%|          | 0/935.32 [00:00<?, ?sec/s]"
     ]
    },
    {
     "name": "stdout",
     "output_type": "stream",
     "text": [
      "Detected language: english\n"
     ]
    },
    {
     "name": "stderr",
     "output_type": "stream",
     "text": [
      "Transcribe: 100%|██████████| 935.32/935.32 [03:33<00:00,  4.38sec/s]\n"
     ]
    },
    {
     "name": "stdout",
     "output_type": "stream",
     "text": [
      "Saved: /content/drive/MyDrive/MSPCORPUS/Transcripciones/MSP-Conversation_1540.wav.json\n",
      "/content/drive/MyDrive/MSPCORPUS/Audios/MSP-Conversation_1369.wav\n"
     ]
    },
    {
     "name": "stderr",
     "output_type": "stream",
     "text": [
      "Transcribe:   0%|          | 0/633.24 [00:00<?, ?sec/s]"
     ]
    },
    {
     "name": "stdout",
     "output_type": "stream",
     "text": [
      "Detected language: english\n"
     ]
    },
    {
     "name": "stderr",
     "output_type": "stream",
     "text": [
      "Transcribe: 100%|██████████| 633.24/633.24 [02:08<00:00,  4.92sec/s]\n"
     ]
    },
    {
     "name": "stdout",
     "output_type": "stream",
     "text": [
      "Saved: /content/drive/MyDrive/MSPCORPUS/Transcripciones/MSP-Conversation_1369.wav.json\n",
      "/content/drive/MyDrive/MSPCORPUS/Audios/MSP-Conversation_0627.wav\n"
     ]
    },
    {
     "name": "stderr",
     "output_type": "stream",
     "text": [
      "Transcribe:   0%|          | 0/625.78 [00:00<?, ?sec/s]"
     ]
    },
    {
     "name": "stdout",
     "output_type": "stream",
     "text": [
      "Detected language: english\n"
     ]
    },
    {
     "name": "stderr",
     "output_type": "stream",
     "text": [
      "Transcribe: 100%|██████████| 625.78/625.78 [01:49<00:00,  5.72sec/s]\n"
     ]
    },
    {
     "name": "stdout",
     "output_type": "stream",
     "text": [
      "Saved: /content/drive/MyDrive/MSPCORPUS/Transcripciones/MSP-Conversation_0627.wav.json\n",
      "/content/drive/MyDrive/MSPCORPUS/Audios/MSP-Conversation_1609.wav\n"
     ]
    },
    {
     "name": "stderr",
     "output_type": "stream",
     "text": [
      "Transcribe:   0%|          | 0/903.69 [00:00<?, ?sec/s]"
     ]
    },
    {
     "name": "stdout",
     "output_type": "stream",
     "text": [
      "Detected language: english\n"
     ]
    },
    {
     "name": "stderr",
     "output_type": "stream",
     "text": [
      "Transcribe: 100%|██████████| 903.69/903.69 [02:53<00:00,  5.21sec/s]\n"
     ]
    },
    {
     "name": "stdout",
     "output_type": "stream",
     "text": [
      "Saved: /content/drive/MyDrive/MSPCORPUS/Transcripciones/MSP-Conversation_1609.wav.json\n",
      "/content/drive/MyDrive/MSPCORPUS/Audios/MSP-Conversation_2252.wav\n",
      "SKIPPED\n",
      "/content/drive/MyDrive/MSPCORPUS/Audios/MSP-Conversation_1684.wav\n"
     ]
    },
    {
     "name": "stderr",
     "output_type": "stream",
     "text": [
      "Transcribe:   0%|          | 0/1171.09 [00:00<?, ?sec/s]"
     ]
    },
    {
     "name": "stdout",
     "output_type": "stream",
     "text": [
      "Detected language: english\n"
     ]
    },
    {
     "name": "stderr",
     "output_type": "stream",
     "text": [
      "Transcribe: 100%|██████████| 1171.09/1171.09 [04:20<00:00,  4.50sec/s]\n"
     ]
    },
    {
     "name": "stdout",
     "output_type": "stream",
     "text": [
      "Saved: /content/drive/MyDrive/MSPCORPUS/Transcripciones/MSP-Conversation_1684.wav.json\n",
      "/content/drive/MyDrive/MSPCORPUS/Audios/MSP-Conversation_1009.wav\n"
     ]
    },
    {
     "name": "stderr",
     "output_type": "stream",
     "text": [
      "Transcribe:   0%|          | 0/686.42 [00:00<?, ?sec/s]"
     ]
    },
    {
     "name": "stdout",
     "output_type": "stream",
     "text": [
      "Detected language: english\n"
     ]
    },
    {
     "name": "stderr",
     "output_type": "stream",
     "text": [
      "Transcribe: 100%|██████████| 686.42/686.42 [02:09<00:00,  5.29sec/s]\n"
     ]
    },
    {
     "name": "stdout",
     "output_type": "stream",
     "text": [
      "Saved: /content/drive/MyDrive/MSPCORPUS/Transcripciones/MSP-Conversation_1009.wav.json\n",
      "/content/drive/MyDrive/MSPCORPUS/Audios/MSP-Conversation_1940.wav\n"
     ]
    },
    {
     "name": "stderr",
     "output_type": "stream",
     "text": [
      "Transcribe:   0%|          | 0/926.24 [00:00<?, ?sec/s]"
     ]
    },
    {
     "name": "stdout",
     "output_type": "stream",
     "text": [
      "Detected language: english\n"
     ]
    },
    {
     "name": "stderr",
     "output_type": "stream",
     "text": [
      "Transcribe: 100%|██████████| 926.24/926.24 [03:01<00:00,  5.10sec/s]\n"
     ]
    },
    {
     "name": "stdout",
     "output_type": "stream",
     "text": [
      "Saved: /content/drive/MyDrive/MSPCORPUS/Transcripciones/MSP-Conversation_1940.wav.json\n",
      "/content/drive/MyDrive/MSPCORPUS/Audios/MSP-Conversation_1339.wav\n"
     ]
    },
    {
     "name": "stderr",
     "output_type": "stream",
     "text": [
      "Transcribe:   0%|          | 0/930.15 [00:00<?, ?sec/s]"
     ]
    },
    {
     "name": "stdout",
     "output_type": "stream",
     "text": [
      "Detected language: english\n"
     ]
    },
    {
     "name": "stderr",
     "output_type": "stream",
     "text": [
      "Transcribe: 100%|██████████| 930.15/930.15 [03:07<00:00,  4.97sec/s]\n"
     ]
    },
    {
     "name": "stdout",
     "output_type": "stream",
     "text": [
      "Saved: /content/drive/MyDrive/MSPCORPUS/Transcripciones/MSP-Conversation_1339.wav.json\n",
      "/content/drive/MyDrive/MSPCORPUS/Audios/MSP-Conversation_0380.wav\n"
     ]
    },
    {
     "name": "stderr",
     "output_type": "stream",
     "text": [
      "Transcribe:   0%|          | 0/635.73 [00:00<?, ?sec/s]"
     ]
    },
    {
     "name": "stdout",
     "output_type": "stream",
     "text": [
      "Detected language: english\n"
     ]
    },
    {
     "name": "stderr",
     "output_type": "stream",
     "text": [
      "Transcribe: 100%|██████████| 635.73/635.73 [02:09<00:00,  4.92sec/s]\n"
     ]
    },
    {
     "name": "stdout",
     "output_type": "stream",
     "text": [
      "Saved: /content/drive/MyDrive/MSPCORPUS/Transcripciones/MSP-Conversation_0380.wav.json\n",
      "/content/drive/MyDrive/MSPCORPUS/Audios/MSP-Conversation_1870.wav\n"
     ]
    },
    {
     "name": "stderr",
     "output_type": "stream",
     "text": [
      "Transcribe:   0%|          | 0/907.94 [00:00<?, ?sec/s]"
     ]
    },
    {
     "name": "stdout",
     "output_type": "stream",
     "text": [
      "Detected language: english\n"
     ]
    },
    {
     "name": "stderr",
     "output_type": "stream",
     "text": [
      "Transcribe: 100%|██████████| 907.94/907.94 [03:01<00:00,  5.00sec/s]\n"
     ]
    },
    {
     "name": "stdout",
     "output_type": "stream",
     "text": [
      "Saved: /content/drive/MyDrive/MSPCORPUS/Transcripciones/MSP-Conversation_1870.wav.json\n",
      "/content/drive/MyDrive/MSPCORPUS/Audios/MSP-Conversation_1926.wav\n"
     ]
    },
    {
     "name": "stderr",
     "output_type": "stream",
     "text": [
      "Transcribe:   0%|          | 0/623.0 [00:00<?, ?sec/s]"
     ]
    },
    {
     "name": "stdout",
     "output_type": "stream",
     "text": [
      "Detected language: english\n"
     ]
    },
    {
     "name": "stderr",
     "output_type": "stream",
     "text": [
      "Transcribe: 100%|██████████| 623.0/623.0 [02:18<00:00,  4.51sec/s]\n"
     ]
    },
    {
     "name": "stdout",
     "output_type": "stream",
     "text": [
      "Saved: /content/drive/MyDrive/MSPCORPUS/Transcripciones/MSP-Conversation_1926.wav.json\n",
      "/content/drive/MyDrive/MSPCORPUS/Audios/MSP-Conversation_1568.wav\n"
     ]
    },
    {
     "name": "stderr",
     "output_type": "stream",
     "text": [
      "Transcribe:   0%|          | 0/655.81 [00:00<?, ?sec/s]"
     ]
    },
    {
     "name": "stdout",
     "output_type": "stream",
     "text": [
      "Detected language: english\n"
     ]
    },
    {
     "name": "stderr",
     "output_type": "stream",
     "text": [
      "Transcribe: 100%|██████████| 655.81/655.81 [03:05<00:00,  3.53sec/s]\n"
     ]
    },
    {
     "name": "stdout",
     "output_type": "stream",
     "text": [
      "Saved: /content/drive/MyDrive/MSPCORPUS/Transcripciones/MSP-Conversation_1568.wav.json\n",
      "/content/drive/MyDrive/MSPCORPUS/Audios/MSP-Conversation_0180.wav\n"
     ]
    },
    {
     "name": "stderr",
     "output_type": "stream",
     "text": [
      "Transcribe:   0%|          | 0/644.64 [00:00<?, ?sec/s]"
     ]
    },
    {
     "name": "stdout",
     "output_type": "stream",
     "text": [
      "Detected language: english\n"
     ]
    },
    {
     "name": "stderr",
     "output_type": "stream",
     "text": [
      "Transcribe: 100%|██████████| 644.64/644.64 [02:03<00:00,  5.22sec/s]\n"
     ]
    },
    {
     "name": "stdout",
     "output_type": "stream",
     "text": [
      "Saved: /content/drive/MyDrive/MSPCORPUS/Transcripciones/MSP-Conversation_0180.wav.json\n",
      "/content/drive/MyDrive/MSPCORPUS/Audios/MSP-Conversation_2215.wav\n"
     ]
    },
    {
     "name": "stderr",
     "output_type": "stream",
     "text": [
      "Transcribe:   0%|          | 0/1199.31 [00:00<?, ?sec/s]"
     ]
    },
    {
     "name": "stdout",
     "output_type": "stream",
     "text": [
      "Detected language: english\n"
     ]
    },
    {
     "name": "stderr",
     "output_type": "stream",
     "text": [
      "Transcribe: 100%|██████████| 1199.31/1199.31 [04:58<00:00,  4.02sec/s]\n"
     ]
    },
    {
     "name": "stdout",
     "output_type": "stream",
     "text": [
      "Saved: /content/drive/MyDrive/MSPCORPUS/Transcripciones/MSP-Conversation_2215.wav.json\n",
      "/content/drive/MyDrive/MSPCORPUS/Audios/MSP-Conversation_0125.wav\n"
     ]
    },
    {
     "name": "stderr",
     "output_type": "stream",
     "text": [
      "Transcribe:   0%|          | 0/1130.33 [00:00<?, ?sec/s]"
     ]
    },
    {
     "name": "stdout",
     "output_type": "stream",
     "text": [
      "Detected language: english\n"
     ]
    },
    {
     "name": "stderr",
     "output_type": "stream",
     "text": [
      "Transcribe: 100%|██████████| 1130.33/1130.33 [04:38<00:00,  4.06sec/s]\n"
     ]
    },
    {
     "name": "stdout",
     "output_type": "stream",
     "text": [
      "Saved: /content/drive/MyDrive/MSPCORPUS/Transcripciones/MSP-Conversation_0125.wav.json\n",
      "/content/drive/MyDrive/MSPCORPUS/Audios/MSP-Conversation_0061.wav\n"
     ]
    },
    {
     "name": "stderr",
     "output_type": "stream",
     "text": [
      "Transcribe:   0%|          | 0/762.45 [00:00<?, ?sec/s]"
     ]
    },
    {
     "name": "stdout",
     "output_type": "stream",
     "text": [
      "Detected language: english\n"
     ]
    },
    {
     "name": "stderr",
     "output_type": "stream",
     "text": [
      "Transcribe: 100%|██████████| 762.45/762.45 [02:27<00:00,  5.17sec/s]\n"
     ]
    },
    {
     "name": "stdout",
     "output_type": "stream",
     "text": [
      "Saved: /content/drive/MyDrive/MSPCORPUS/Transcripciones/MSP-Conversation_0061.wav.json\n",
      "/content/drive/MyDrive/MSPCORPUS/Audios/MSP-Conversation_2253.wav\n",
      "SKIPPED\n",
      "/content/drive/MyDrive/MSPCORPUS/Audios/MSP-Conversation_1219.wav\n"
     ]
    },
    {
     "name": "stderr",
     "output_type": "stream",
     "text": [
      "Transcribe:   0%|          | 0/966.99 [00:00<?, ?sec/s]"
     ]
    },
    {
     "name": "stdout",
     "output_type": "stream",
     "text": [
      "Detected language: english\n"
     ]
    },
    {
     "name": "stderr",
     "output_type": "stream",
     "text": [
      "Transcribe: 100%|██████████| 966.99/966.99 [03:54<00:00,  4.13sec/s]\n"
     ]
    },
    {
     "name": "stdout",
     "output_type": "stream",
     "text": [
      "Saved: /content/drive/MyDrive/MSPCORPUS/Transcripciones/MSP-Conversation_1219.wav.json\n",
      "/content/drive/MyDrive/MSPCORPUS/Audios/MSP-Conversation_0417.wav\n"
     ]
    },
    {
     "name": "stderr",
     "output_type": "stream",
     "text": [
      "Transcribe:   0%|          | 0/1175.86 [00:00<?, ?sec/s]"
     ]
    },
    {
     "name": "stdout",
     "output_type": "stream",
     "text": [
      "Detected language: english\n"
     ]
    },
    {
     "name": "stderr",
     "output_type": "stream",
     "text": [
      "Transcribe: 100%|██████████| 1175.86/1175.86 [04:09<00:00,  4.71sec/s]\n"
     ]
    },
    {
     "name": "stdout",
     "output_type": "stream",
     "text": [
      "Saved: /content/drive/MyDrive/MSPCORPUS/Transcripciones/MSP-Conversation_0417.wav.json\n",
      "/content/drive/MyDrive/MSPCORPUS/Audios/MSP-Conversation_0053.wav\n"
     ]
    },
    {
     "name": "stderr",
     "output_type": "stream",
     "text": [
      "Transcribe:   0%|          | 0/906.43 [00:00<?, ?sec/s]"
     ]
    },
    {
     "name": "stdout",
     "output_type": "stream",
     "text": [
      "Detected language: english\n"
     ]
    },
    {
     "name": "stderr",
     "output_type": "stream",
     "text": [
      "Transcribe: 100%|██████████| 906.43/906.43 [03:26<00:00,  4.39sec/s]\n"
     ]
    },
    {
     "name": "stdout",
     "output_type": "stream",
     "text": [
      "Saved: /content/drive/MyDrive/MSPCORPUS/Transcripciones/MSP-Conversation_0053.wav.json\n",
      "/content/drive/MyDrive/MSPCORPUS/Audios/MSP-Conversation_1890.wav\n"
     ]
    },
    {
     "name": "stderr",
     "output_type": "stream",
     "text": [
      "Transcribe:   0%|          | 0/715.05 [00:00<?, ?sec/s]"
     ]
    },
    {
     "name": "stdout",
     "output_type": "stream",
     "text": [
      "Detected language: english\n"
     ]
    },
    {
     "name": "stderr",
     "output_type": "stream",
     "text": [
      "Transcribe: 100%|██████████| 715.05/715.05 [02:26<00:00,  4.88sec/s]\n"
     ]
    },
    {
     "name": "stdout",
     "output_type": "stream",
     "text": [
      "Saved: /content/drive/MyDrive/MSPCORPUS/Transcripciones/MSP-Conversation_1890.wav.json\n",
      "/content/drive/MyDrive/MSPCORPUS/Audios/MSP-Conversation_0744.wav\n"
     ]
    },
    {
     "name": "stderr",
     "output_type": "stream",
     "text": [
      "Transcribe:   0%|          | 0/665.42 [00:00<?, ?sec/s]"
     ]
    },
    {
     "name": "stdout",
     "output_type": "stream",
     "text": [
      "Detected language: english\n"
     ]
    },
    {
     "name": "stderr",
     "output_type": "stream",
     "text": [
      "Transcribe: 100%|██████████| 665.42/665.42 [02:35<00:00,  4.28sec/s]\n"
     ]
    },
    {
     "name": "stdout",
     "output_type": "stream",
     "text": [
      "Saved: /content/drive/MyDrive/MSPCORPUS/Transcripciones/MSP-Conversation_0744.wav.json\n",
      "/content/drive/MyDrive/MSPCORPUS/Audios/MSP-Conversation_0047.wav\n"
     ]
    },
    {
     "name": "stderr",
     "output_type": "stream",
     "text": [
      "Transcribe:   0%|          | 0/617.18 [00:00<?, ?sec/s]"
     ]
    },
    {
     "name": "stdout",
     "output_type": "stream",
     "text": [
      "Detected language: english\n"
     ]
    },
    {
     "name": "stderr",
     "output_type": "stream",
     "text": [
      "Transcribe: 100%|██████████| 617.18/617.18 [02:08<00:00,  4.79sec/s]\n"
     ]
    },
    {
     "name": "stdout",
     "output_type": "stream",
     "text": [
      "Saved: /content/drive/MyDrive/MSPCORPUS/Transcripciones/MSP-Conversation_0047.wav.json\n",
      "/content/drive/MyDrive/MSPCORPUS/Audios/MSP-Conversation_0943.wav\n"
     ]
    },
    {
     "name": "stderr",
     "output_type": "stream",
     "text": [
      "Transcribe:   0%|          | 0/906.5 [00:00<?, ?sec/s]"
     ]
    },
    {
     "name": "stdout",
     "output_type": "stream",
     "text": [
      "Detected language: english\n"
     ]
    },
    {
     "name": "stderr",
     "output_type": "stream",
     "text": [
      "Transcribe: 100%|█████████▉| 905.28/906.5 [02:32<00:00,  5.95sec/s]\n"
     ]
    },
    {
     "name": "stdout",
     "output_type": "stream",
     "text": [
      "Saved: /content/drive/MyDrive/MSPCORPUS/Transcripciones/MSP-Conversation_0943.wav.json\n",
      "/content/drive/MyDrive/MSPCORPUS/Audios/MSP-Conversation_0566.wav\n"
     ]
    },
    {
     "name": "stderr",
     "output_type": "stream",
     "text": [
      "Transcribe:   0%|          | 0/1239.15 [00:00<?, ?sec/s]"
     ]
    },
    {
     "name": "stdout",
     "output_type": "stream",
     "text": [
      "Detected language: english\n"
     ]
    },
    {
     "name": "stderr",
     "output_type": "stream",
     "text": [
      "Transcribe: 100%|██████████| 1239.15/1239.15 [05:01<00:00,  4.10sec/s]\n"
     ]
    },
    {
     "name": "stdout",
     "output_type": "stream",
     "text": [
      "Saved: /content/drive/MyDrive/MSPCORPUS/Transcripciones/MSP-Conversation_0566.wav.json\n",
      "/content/drive/MyDrive/MSPCORPUS/Audios/MSP-Conversation_1124.wav\n"
     ]
    },
    {
     "name": "stderr",
     "output_type": "stream",
     "text": [
      "Transcribe:   0%|          | 0/1187.34 [00:00<?, ?sec/s]"
     ]
    },
    {
     "name": "stdout",
     "output_type": "stream",
     "text": [
      "Detected language: english\n"
     ]
    },
    {
     "name": "stderr",
     "output_type": "stream",
     "text": [
      "Transcribe: 100%|██████████| 1187.34/1187.34 [04:32<00:00,  4.36sec/s]\n"
     ]
    },
    {
     "name": "stdout",
     "output_type": "stream",
     "text": [
      "Saved: /content/drive/MyDrive/MSPCORPUS/Transcripciones/MSP-Conversation_1124.wav.json\n",
      "/content/drive/MyDrive/MSPCORPUS/Audios/MSP-Conversation_0218.wav\n"
     ]
    },
    {
     "name": "stderr",
     "output_type": "stream",
     "text": [
      "Transcribe:   0%|          | 0/616.33 [00:00<?, ?sec/s]"
     ]
    },
    {
     "name": "stdout",
     "output_type": "stream",
     "text": [
      "Detected language: english\n"
     ]
    },
    {
     "name": "stderr",
     "output_type": "stream",
     "text": [
      "Transcribe: 100%|██████████| 616.33/616.33 [02:48<00:00,  3.65sec/s]\n"
     ]
    },
    {
     "name": "stdout",
     "output_type": "stream",
     "text": [
      "Saved: /content/drive/MyDrive/MSPCORPUS/Transcripciones/MSP-Conversation_0218.wav.json\n",
      "/content/drive/MyDrive/MSPCORPUS/Audios/MSP-Conversation_0260.wav\n"
     ]
    },
    {
     "name": "stderr",
     "output_type": "stream",
     "text": [
      "Transcribe:   0%|          | 0/851.34 [00:00<?, ?sec/s]"
     ]
    },
    {
     "name": "stdout",
     "output_type": "stream",
     "text": [
      "Detected language: english\n"
     ]
    },
    {
     "name": "stderr",
     "output_type": "stream",
     "text": [
      "Transcribe: 100%|██████████| 851.34/851.34 [03:33<00:00,  3.99sec/s]\n"
     ]
    },
    {
     "name": "stdout",
     "output_type": "stream",
     "text": [
      "Saved: /content/drive/MyDrive/MSPCORPUS/Transcripciones/MSP-Conversation_0260.wav.json\n",
      "/content/drive/MyDrive/MSPCORPUS/Audios/MSP-Conversation_1258.wav\n"
     ]
    },
    {
     "name": "stderr",
     "output_type": "stream",
     "text": [
      "Transcribe:   0%|          | 0/1198.54 [00:00<?, ?sec/s]"
     ]
    },
    {
     "name": "stdout",
     "output_type": "stream",
     "text": [
      "Detected language: english\n"
     ]
    },
    {
     "name": "stderr",
     "output_type": "stream",
     "text": [
      "Transcribe: 100%|██████████| 1198.54/1198.54 [04:09<00:00,  4.80sec/s]\n"
     ]
    },
    {
     "name": "stdout",
     "output_type": "stream",
     "text": [
      "Saved: /content/drive/MyDrive/MSPCORPUS/Transcripciones/MSP-Conversation_1258.wav.json\n",
      "/content/drive/MyDrive/MSPCORPUS/Audios/MSP-Conversation_0067.wav\n"
     ]
    },
    {
     "name": "stderr",
     "output_type": "stream",
     "text": [
      "Transcribe:   0%|          | 0/886.86 [00:00<?, ?sec/s]"
     ]
    },
    {
     "name": "stdout",
     "output_type": "stream",
     "text": [
      "Detected language: welsh\n"
     ]
    },
    {
     "name": "stderr",
     "output_type": "stream",
     "text": [
      "Transcribe: 100%|██████████| 886.86/886.86 [08:17<00:00,  1.78sec/s]\n"
     ]
    },
    {
     "name": "stdout",
     "output_type": "stream",
     "text": [
      "Saved: /content/drive/MyDrive/MSPCORPUS/Transcripciones/MSP-Conversation_0067.wav.json\n",
      "/content/drive/MyDrive/MSPCORPUS/Audios/MSP-Conversation_0735.wav\n"
     ]
    },
    {
     "name": "stderr",
     "output_type": "stream",
     "text": [
      "Transcribe:   0%|          | 0/953.56 [00:00<?, ?sec/s]"
     ]
    },
    {
     "name": "stdout",
     "output_type": "stream",
     "text": [
      "Detected language: english\n"
     ]
    },
    {
     "name": "stderr",
     "output_type": "stream",
     "text": [
      "Transcribe: 100%|██████████| 953.56/953.56 [03:40<00:00,  4.33sec/s]\n"
     ]
    },
    {
     "name": "stdout",
     "output_type": "stream",
     "text": [
      "Saved: /content/drive/MyDrive/MSPCORPUS/Transcripciones/MSP-Conversation_0735.wav.json\n",
      "/content/drive/MyDrive/MSPCORPUS/Audios/MSP-Conversation_0657.wav\n"
     ]
    },
    {
     "name": "stderr",
     "output_type": "stream",
     "text": [
      "Transcribe:   0%|          | 0/622.15 [00:00<?, ?sec/s]"
     ]
    },
    {
     "name": "stdout",
     "output_type": "stream",
     "text": [
      "Detected language: english\n"
     ]
    },
    {
     "name": "stderr",
     "output_type": "stream",
     "text": [
      "Transcribe: 100%|█████████▉| 621.04/622.15 [02:22<00:00,  4.36sec/s]\n"
     ]
    },
    {
     "name": "stdout",
     "output_type": "stream",
     "text": [
      "Saved: /content/drive/MyDrive/MSPCORPUS/Transcripciones/MSP-Conversation_0657.wav.json\n",
      "/content/drive/MyDrive/MSPCORPUS/Audios/MSP-Conversation_0792.wav\n"
     ]
    },
    {
     "name": "stderr",
     "output_type": "stream",
     "text": [
      "Transcribe:   0%|          | 0/1183.82 [00:00<?, ?sec/s]"
     ]
    },
    {
     "name": "stdout",
     "output_type": "stream",
     "text": [
      "Detected language: english\n"
     ]
    },
    {
     "name": "stderr",
     "output_type": "stream",
     "text": [
      "Transcribe: 100%|██████████| 1183.82/1183.82 [04:24<00:00,  4.48sec/s]\n"
     ]
    },
    {
     "name": "stdout",
     "output_type": "stream",
     "text": [
      "Saved: /content/drive/MyDrive/MSPCORPUS/Transcripciones/MSP-Conversation_0792.wav.json\n",
      "/content/drive/MyDrive/MSPCORPUS/Audios/MSP-Conversation_2250.wav\n"
     ]
    },
    {
     "name": "stderr",
     "output_type": "stream",
     "text": [
      "Transcribe:   0%|          | 0/1175.6 [00:00<?, ?sec/s]"
     ]
    },
    {
     "name": "stdout",
     "output_type": "stream",
     "text": [
      "Detected language: english\n"
     ]
    },
    {
     "name": "stderr",
     "output_type": "stream",
     "text": [
      "Transcribe: 100%|██████████| 1175.6/1175.6 [05:33<00:00,  3.52sec/s]\n"
     ]
    },
    {
     "name": "stdout",
     "output_type": "stream",
     "text": [
      "Saved: /content/drive/MyDrive/MSPCORPUS/Transcripciones/MSP-Conversation_2250.wav.json\n",
      "/content/drive/MyDrive/MSPCORPUS/Audios/MSP-Conversation_0269.wav\n"
     ]
    },
    {
     "name": "stderr",
     "output_type": "stream",
     "text": [
      "Transcribe:   0%|          | 0/740.8 [00:00<?, ?sec/s]"
     ]
    },
    {
     "name": "stdout",
     "output_type": "stream",
     "text": [
      "Detected language: english\n"
     ]
    },
    {
     "name": "stderr",
     "output_type": "stream",
     "text": [
      "Transcribe: 100%|██████████| 740.8/740.8 [03:05<00:00,  3.99sec/s]\n"
     ]
    },
    {
     "name": "stdout",
     "output_type": "stream",
     "text": [
      "Saved: /content/drive/MyDrive/MSPCORPUS/Transcripciones/MSP-Conversation_0269.wav.json\n",
      "/content/drive/MyDrive/MSPCORPUS/Audios/MSP-Conversation_0184.wav\n"
     ]
    },
    {
     "name": "stderr",
     "output_type": "stream",
     "text": [
      "Transcribe:   0%|          | 0/998.02 [00:00<?, ?sec/s]"
     ]
    },
    {
     "name": "stdout",
     "output_type": "stream",
     "text": [
      "Detected language: english\n"
     ]
    },
    {
     "name": "stderr",
     "output_type": "stream",
     "text": [
      "Transcribe: 100%|██████████| 998.02/998.02 [03:29<00:00,  4.77sec/s]\n"
     ]
    },
    {
     "name": "stdout",
     "output_type": "stream",
     "text": [
      "Saved: /content/drive/MyDrive/MSPCORPUS/Transcripciones/MSP-Conversation_0184.wav.json\n",
      "/content/drive/MyDrive/MSPCORPUS/Audios/MSP-Conversation_0748.wav\n"
     ]
    },
    {
     "name": "stderr",
     "output_type": "stream",
     "text": [
      "Transcribe:   0%|          | 0/625.34 [00:00<?, ?sec/s]"
     ]
    },
    {
     "name": "stdout",
     "output_type": "stream",
     "text": [
      "Detected language: english\n"
     ]
    },
    {
     "name": "stderr",
     "output_type": "stream",
     "text": [
      "Transcribe: 100%|██████████| 625.34/625.34 [02:14<00:00,  4.65sec/s]\n"
     ]
    },
    {
     "name": "stdout",
     "output_type": "stream",
     "text": [
      "Saved: /content/drive/MyDrive/MSPCORPUS/Transcripciones/MSP-Conversation_0748.wav.json\n",
      "/content/drive/MyDrive/MSPCORPUS/Audios/MSP-Conversation_1512.wav\n"
     ]
    },
    {
     "name": "stderr",
     "output_type": "stream",
     "text": [
      "Transcribe:   0%|          | 0/1159.18 [00:00<?, ?sec/s]"
     ]
    },
    {
     "name": "stdout",
     "output_type": "stream",
     "text": [
      "Detected language: english\n"
     ]
    },
    {
     "name": "stderr",
     "output_type": "stream",
     "text": [
      "Transcribe: 100%|██████████| 1159.18/1159.18 [03:33<00:00,  5.43sec/s]\n"
     ]
    },
    {
     "name": "stdout",
     "output_type": "stream",
     "text": [
      "Saved: /content/drive/MyDrive/MSPCORPUS/Transcripciones/MSP-Conversation_1512.wav.json\n",
      "/content/drive/MyDrive/MSPCORPUS/Audios/MSP-Conversation_1116.wav\n"
     ]
    },
    {
     "name": "stderr",
     "output_type": "stream",
     "text": [
      "Transcribe:   0%|          | 0/906.25 [00:00<?, ?sec/s]"
     ]
    },
    {
     "name": "stdout",
     "output_type": "stream",
     "text": [
      "Detected language: english\n"
     ]
    },
    {
     "name": "stderr",
     "output_type": "stream",
     "text": [
      "Transcribe: 100%|██████████| 906.25/906.25 [03:08<00:00,  4.81sec/s]\n"
     ]
    },
    {
     "name": "stdout",
     "output_type": "stream",
     "text": [
      "Saved: /content/drive/MyDrive/MSPCORPUS/Transcripciones/MSP-Conversation_1116.wav.json\n",
      "/content/drive/MyDrive/MSPCORPUS/Audios/MSP-Conversation_0952.wav\n"
     ]
    },
    {
     "name": "stderr",
     "output_type": "stream",
     "text": [
      "Transcribe:   0%|          | 0/910.3 [00:00<?, ?sec/s]"
     ]
    },
    {
     "name": "stdout",
     "output_type": "stream",
     "text": [
      "Detected language: english\n"
     ]
    },
    {
     "name": "stderr",
     "output_type": "stream",
     "text": [
      "Transcribe: 100%|██████████| 910.3/910.3 [02:59<00:00,  5.07sec/s]\n"
     ]
    },
    {
     "name": "stdout",
     "output_type": "stream",
     "text": [
      "Saved: /content/drive/MyDrive/MSPCORPUS/Transcripciones/MSP-Conversation_0952.wav.json\n",
      "/content/drive/MyDrive/MSPCORPUS/Audios/MSP-Conversation_0498.wav\n"
     ]
    },
    {
     "name": "stderr",
     "output_type": "stream",
     "text": [
      "Transcribe:   0%|          | 0/651.72 [00:00<?, ?sec/s]"
     ]
    },
    {
     "name": "stdout",
     "output_type": "stream",
     "text": [
      "Detected language: english\n"
     ]
    },
    {
     "name": "stderr",
     "output_type": "stream",
     "text": [
      "Transcribe: 100%|██████████| 651.72/651.72 [01:58<00:00,  5.50sec/s]\n"
     ]
    },
    {
     "name": "stdout",
     "output_type": "stream",
     "text": [
      "Saved: /content/drive/MyDrive/MSPCORPUS/Transcripciones/MSP-Conversation_0498.wav.json\n",
      "/content/drive/MyDrive/MSPCORPUS/Audios/MSP-Conversation_2277.wav\n"
     ]
    },
    {
     "name": "stderr",
     "output_type": "stream",
     "text": [
      "Transcribe:   0%|          | 0/1207.67 [00:00<?, ?sec/s]"
     ]
    },
    {
     "name": "stdout",
     "output_type": "stream",
     "text": [
      "Detected language: english\n"
     ]
    },
    {
     "name": "stderr",
     "output_type": "stream",
     "text": [
      "Transcribe: 100%|██████████| 1207.67/1207.67 [05:56<00:00,  3.39sec/s]\n"
     ]
    },
    {
     "name": "stdout",
     "output_type": "stream",
     "text": [
      "Saved: /content/drive/MyDrive/MSPCORPUS/Transcripciones/MSP-Conversation_2277.wav.json\n",
      "/content/drive/MyDrive/MSPCORPUS/Audios/MSP-Conversation_0681.wav\n"
     ]
    },
    {
     "name": "stderr",
     "output_type": "stream",
     "text": [
      "Transcribe:   0%|          | 0/1192.84 [00:00<?, ?sec/s]"
     ]
    },
    {
     "name": "stdout",
     "output_type": "stream",
     "text": [
      "Detected language: english\n"
     ]
    },
    {
     "name": "stderr",
     "output_type": "stream",
     "text": [
      "Transcribe: 100%|██████████| 1192.84/1192.84 [04:22<00:00,  4.54sec/s]\n"
     ]
    },
    {
     "name": "stdout",
     "output_type": "stream",
     "text": [
      "Saved: /content/drive/MyDrive/MSPCORPUS/Transcripciones/MSP-Conversation_0681.wav.json\n",
      "/content/drive/MyDrive/MSPCORPUS/Audios/MSP-Conversation_0094.wav\n"
     ]
    },
    {
     "name": "stderr",
     "output_type": "stream",
     "text": [
      "Transcribe:   0%|          | 0/884.16 [00:00<?, ?sec/s]"
     ]
    },
    {
     "name": "stdout",
     "output_type": "stream",
     "text": [
      "Detected language: english\n"
     ]
    },
    {
     "name": "stderr",
     "output_type": "stream",
     "text": [
      "Transcribe: 100%|██████████| 884.16/884.16 [03:16<00:00,  4.51sec/s]\n"
     ]
    },
    {
     "name": "stdout",
     "output_type": "stream",
     "text": [
      "Saved: /content/drive/MyDrive/MSPCORPUS/Transcripciones/MSP-Conversation_0094.wav.json\n",
      "/content/drive/MyDrive/MSPCORPUS/Audios/MSP-Conversation_2198.wav\n"
     ]
    },
    {
     "name": "stderr",
     "output_type": "stream",
     "text": [
      "Transcribe:   0%|          | 0/941.05 [00:00<?, ?sec/s]"
     ]
    },
    {
     "name": "stdout",
     "output_type": "stream",
     "text": [
      "Detected language: english\n"
     ]
    },
    {
     "name": "stderr",
     "output_type": "stream",
     "text": [
      "Transcribe: 100%|██████████| 941.05/941.05 [02:33<00:00,  6.11sec/s]\n"
     ]
    },
    {
     "name": "stdout",
     "output_type": "stream",
     "text": [
      "Saved: /content/drive/MyDrive/MSPCORPUS/Transcripciones/MSP-Conversation_2198.wav.json\n",
      "/content/drive/MyDrive/MSPCORPUS/Audios/MSP-Conversation_1523.wav\n"
     ]
    },
    {
     "name": "stderr",
     "output_type": "stream",
     "text": [
      "Transcribe:   0%|          | 0/1081.38 [00:00<?, ?sec/s]"
     ]
    },
    {
     "name": "stdout",
     "output_type": "stream",
     "text": [
      "Detected language: english\n"
     ]
    },
    {
     "name": "stderr",
     "output_type": "stream",
     "text": [
      "Transcribe: 100%|██████████| 1081.38/1081.38 [04:15<00:00,  4.24sec/s]\n"
     ]
    },
    {
     "name": "stdout",
     "output_type": "stream",
     "text": [
      "Saved: /content/drive/MyDrive/MSPCORPUS/Transcripciones/MSP-Conversation_1523.wav.json\n",
      "/content/drive/MyDrive/MSPCORPUS/Audios/MSP-Conversation_0021.wav\n"
     ]
    },
    {
     "name": "stderr",
     "output_type": "stream",
     "text": [
      "Transcribe:   0%|          | 0/1138.0 [00:00<?, ?sec/s]"
     ]
    },
    {
     "name": "stdout",
     "output_type": "stream",
     "text": [
      "Detected language: english\n"
     ]
    },
    {
     "name": "stderr",
     "output_type": "stream",
     "text": [
      "Transcribe: 100%|██████████| 1138.0/1138.0 [03:48<00:00,  4.98sec/s]\n"
     ]
    },
    {
     "name": "stdout",
     "output_type": "stream",
     "text": [
      "Saved: /content/drive/MyDrive/MSPCORPUS/Transcripciones/MSP-Conversation_0021.wav.json\n",
      "/content/drive/MyDrive/MSPCORPUS/Audios/MSP-Conversation_0646.wav\n"
     ]
    },
    {
     "name": "stderr",
     "output_type": "stream",
     "text": [
      "Transcribe:   0%|          | 0/607.11 [00:00<?, ?sec/s]"
     ]
    },
    {
     "name": "stdout",
     "output_type": "stream",
     "text": [
      "Detected language: english\n"
     ]
    },
    {
     "name": "stderr",
     "output_type": "stream",
     "text": [
      "Transcribe: 100%|██████████| 607.11/607.11 [01:51<00:00,  5.46sec/s]\n"
     ]
    },
    {
     "name": "stdout",
     "output_type": "stream",
     "text": [
      "Saved: /content/drive/MyDrive/MSPCORPUS/Transcripciones/MSP-Conversation_0646.wav.json\n",
      "/content/drive/MyDrive/MSPCORPUS/Audios/MSP-Conversation_0637.wav\n"
     ]
    },
    {
     "name": "stderr",
     "output_type": "stream",
     "text": [
      "Transcribe:   0%|          | 0/1175.59 [00:00<?, ?sec/s]"
     ]
    },
    {
     "name": "stdout",
     "output_type": "stream",
     "text": [
      "Detected language: english\n"
     ]
    },
    {
     "name": "stderr",
     "output_type": "stream",
     "text": [
      "Transcribe: 100%|██████████| 1175.59/1175.59 [04:34<00:00,  4.29sec/s]\n"
     ]
    },
    {
     "name": "stdout",
     "output_type": "stream",
     "text": [
      "Saved: /content/drive/MyDrive/MSPCORPUS/Transcripciones/MSP-Conversation_0637.wav.json\n",
      "/content/drive/MyDrive/MSPCORPUS/Audios/MSP-Conversation_0590.wav\n"
     ]
    },
    {
     "name": "stderr",
     "output_type": "stream",
     "text": [
      "Transcribe:   0%|          | 0/613.47 [00:00<?, ?sec/s]"
     ]
    },
    {
     "name": "stdout",
     "output_type": "stream",
     "text": [
      "Detected language: english\n"
     ]
    },
    {
     "name": "stderr",
     "output_type": "stream",
     "text": [
      "Transcribe: 100%|██████████| 613.47/613.47 [02:44<00:00,  3.74sec/s]\n"
     ]
    },
    {
     "name": "stdout",
     "output_type": "stream",
     "text": [
      "Saved: /content/drive/MyDrive/MSPCORPUS/Transcripciones/MSP-Conversation_0590.wav.json\n",
      "/content/drive/MyDrive/MSPCORPUS/Audios/MSP-Conversation_0081.wav\n"
     ]
    },
    {
     "name": "stderr",
     "output_type": "stream",
     "text": [
      "Transcribe:   0%|          | 0/874.01 [00:00<?, ?sec/s]"
     ]
    },
    {
     "name": "stdout",
     "output_type": "stream",
     "text": [
      "Detected language: english\n"
     ]
    },
    {
     "name": "stderr",
     "output_type": "stream",
     "text": [
      "Transcribe: 100%|██████████| 874.01/874.01 [03:25<00:00,  4.25sec/s]\n"
     ]
    },
    {
     "name": "stdout",
     "output_type": "stream",
     "text": [
      "Saved: /content/drive/MyDrive/MSPCORPUS/Transcripciones/MSP-Conversation_0081.wav.json\n",
      "/content/drive/MyDrive/MSPCORPUS/Audios/MSP-Conversation_2249.wav\n"
     ]
    },
    {
     "name": "stderr",
     "output_type": "stream",
     "text": [
      "Transcribe:   0%|          | 0/969.76 [00:00<?, ?sec/s]"
     ]
    },
    {
     "name": "stdout",
     "output_type": "stream",
     "text": [
      "Detected language: english\n"
     ]
    },
    {
     "name": "stderr",
     "output_type": "stream",
     "text": [
      "Transcribe: 100%|██████████| 969.76/969.76 [03:56<00:00,  4.10sec/s]\n"
     ]
    },
    {
     "name": "stdout",
     "output_type": "stream",
     "text": [
      "Saved: /content/drive/MyDrive/MSPCORPUS/Transcripciones/MSP-Conversation_2249.wav.json\n",
      "/content/drive/MyDrive/MSPCORPUS/Audios/MSP-Conversation_0962.wav\n"
     ]
    },
    {
     "name": "stderr",
     "output_type": "stream",
     "text": [
      "Transcribe:   0%|          | 0/1169.46 [00:00<?, ?sec/s]"
     ]
    },
    {
     "name": "stdout",
     "output_type": "stream",
     "text": [
      "Detected language: maori\n"
     ]
    },
    {
     "name": "stderr",
     "output_type": "stream",
     "text": [
      "Transcribe: 100%|██████████| 1169.46/1169.46 [04:27<00:00,  4.37sec/s]\n"
     ]
    },
    {
     "name": "stdout",
     "output_type": "stream",
     "text": [
      "Saved: /content/drive/MyDrive/MSPCORPUS/Transcripciones/MSP-Conversation_0962.wav.json\n",
      "/content/drive/MyDrive/MSPCORPUS/Audios/MSP-Conversation_0653.wav\n"
     ]
    },
    {
     "name": "stderr",
     "output_type": "stream",
     "text": [
      "Transcribe:   0%|          | 0/603.72 [00:00<?, ?sec/s]"
     ]
    },
    {
     "name": "stdout",
     "output_type": "stream",
     "text": [
      "Detected language: english\n"
     ]
    },
    {
     "name": "stderr",
     "output_type": "stream",
     "text": [
      "Transcribe: 100%|██████████| 603.72/603.72 [01:53<00:00,  5.33sec/s]\n"
     ]
    },
    {
     "name": "stdout",
     "output_type": "stream",
     "text": [
      "Saved: /content/drive/MyDrive/MSPCORPUS/Transcripciones/MSP-Conversation_0653.wav.json\n",
      "/content/drive/MyDrive/MSPCORPUS/Audios/MSP-Conversation_0172.wav\n"
     ]
    },
    {
     "name": "stderr",
     "output_type": "stream",
     "text": [
      "Transcribe:   0%|          | 0/666.0 [00:00<?, ?sec/s]"
     ]
    },
    {
     "name": "stdout",
     "output_type": "stream",
     "text": [
      "Detected language: english\n"
     ]
    },
    {
     "name": "stderr",
     "output_type": "stream",
     "text": [
      "Transcribe: 100%|██████████| 666.0/666.0 [02:40<00:00,  4.15sec/s]\n"
     ]
    },
    {
     "name": "stdout",
     "output_type": "stream",
     "text": [
      "Saved: /content/drive/MyDrive/MSPCORPUS/Transcripciones/MSP-Conversation_0172.wav.json\n",
      "/content/drive/MyDrive/MSPCORPUS/Audios/MSP-Conversation_0714.wav\n"
     ]
    },
    {
     "name": "stderr",
     "output_type": "stream",
     "text": [
      "Transcribe:   0%|          | 0/615.79 [00:00<?, ?sec/s]"
     ]
    },
    {
     "name": "stdout",
     "output_type": "stream",
     "text": [
      "Detected language: english\n"
     ]
    },
    {
     "name": "stderr",
     "output_type": "stream",
     "text": [
      "Transcribe: 100%|██████████| 615.79/615.79 [02:25<00:00,  4.22sec/s]\n"
     ]
    },
    {
     "name": "stdout",
     "output_type": "stream",
     "text": [
      "Saved: /content/drive/MyDrive/MSPCORPUS/Transcripciones/MSP-Conversation_0714.wav.json\n",
      "/content/drive/MyDrive/MSPCORPUS/Audios/MSP-Conversation_0227.wav\n"
     ]
    },
    {
     "name": "stderr",
     "output_type": "stream",
     "text": [
      "Transcribe:   0%|          | 0/848.0 [00:00<?, ?sec/s]"
     ]
    },
    {
     "name": "stdout",
     "output_type": "stream",
     "text": [
      "Detected language: english\n"
     ]
    },
    {
     "name": "stderr",
     "output_type": "stream",
     "text": [
      "Transcribe: 100%|██████████| 848.0/848.0 [03:13<00:00,  4.39sec/s]\n"
     ]
    },
    {
     "name": "stdout",
     "output_type": "stream",
     "text": [
      "Saved: /content/drive/MyDrive/MSPCORPUS/Transcripciones/MSP-Conversation_0227.wav.json\n",
      "/content/drive/MyDrive/MSPCORPUS/Audios/MSP-Conversation_0043.wav\n"
     ]
    },
    {
     "name": "stderr",
     "output_type": "stream",
     "text": [
      "Transcribe:   0%|          | 0/622.27 [00:00<?, ?sec/s]"
     ]
    },
    {
     "name": "stdout",
     "output_type": "stream",
     "text": [
      "Detected language: english\n"
     ]
    },
    {
     "name": "stderr",
     "output_type": "stream",
     "text": [
      "Transcribe: 100%|██████████| 622.27/622.27 [02:35<00:00,  4.00sec/s]\n"
     ]
    },
    {
     "name": "stdout",
     "output_type": "stream",
     "text": [
      "Saved: /content/drive/MyDrive/MSPCORPUS/Transcripciones/MSP-Conversation_0043.wav.json\n",
      "/content/drive/MyDrive/MSPCORPUS/Audios/MSP-Conversation_0475.wav\n"
     ]
    },
    {
     "name": "stderr",
     "output_type": "stream",
     "text": [
      "Transcribe:   0%|          | 0/635.37 [00:00<?, ?sec/s]"
     ]
    },
    {
     "name": "stdout",
     "output_type": "stream",
     "text": [
      "Detected language: english\n"
     ]
    },
    {
     "name": "stderr",
     "output_type": "stream",
     "text": [
      "Transcribe: 100%|██████████| 635.37/635.37 [02:43<00:00,  3.89sec/s]\n"
     ]
    },
    {
     "name": "stdout",
     "output_type": "stream",
     "text": [
      "Saved: /content/drive/MyDrive/MSPCORPUS/Transcripciones/MSP-Conversation_0475.wav.json\n",
      "/content/drive/MyDrive/MSPCORPUS/Audios/MSP-Conversation_0231.wav\n"
     ]
    },
    {
     "name": "stderr",
     "output_type": "stream",
     "text": [
      "Transcribe:   0%|          | 0/702.35 [00:00<?, ?sec/s]"
     ]
    },
    {
     "name": "stdout",
     "output_type": "stream",
     "text": [
      "Detected language: english\n"
     ]
    },
    {
     "name": "stderr",
     "output_type": "stream",
     "text": [
      "Transcribe: 100%|██████████| 702.35/702.35 [02:44<00:00,  4.28sec/s]\n"
     ]
    },
    {
     "name": "stdout",
     "output_type": "stream",
     "text": [
      "Saved: /content/drive/MyDrive/MSPCORPUS/Transcripciones/MSP-Conversation_0231.wav.json\n",
      "/content/drive/MyDrive/MSPCORPUS/Audios/MSP-Conversation_0147.wav\n"
     ]
    },
    {
     "name": "stderr",
     "output_type": "stream",
     "text": [
      "Transcribe:   0%|          | 0/712.1 [00:00<?, ?sec/s]"
     ]
    },
    {
     "name": "stdout",
     "output_type": "stream",
     "text": [
      "Detected language: english\n"
     ]
    },
    {
     "name": "stderr",
     "output_type": "stream",
     "text": [
      "Transcribe: 100%|██████████| 712.1/712.1 [02:27<00:00,  4.82sec/s]\n"
     ]
    },
    {
     "name": "stdout",
     "output_type": "stream",
     "text": [
      "Saved: /content/drive/MyDrive/MSPCORPUS/Transcripciones/MSP-Conversation_0147.wav.json\n",
      "/content/drive/MyDrive/MSPCORPUS/Audios/MSP-Conversation_1421.wav\n"
     ]
    },
    {
     "name": "stderr",
     "output_type": "stream",
     "text": [
      "Transcribe:   0%|          | 0/1199.37 [00:00<?, ?sec/s]"
     ]
    },
    {
     "name": "stdout",
     "output_type": "stream",
     "text": [
      "Detected language: english\n"
     ]
    },
    {
     "name": "stderr",
     "output_type": "stream",
     "text": [
      "Transcribe: 100%|██████████| 1199.37/1199.37 [05:03<00:00,  3.95sec/s]\n"
     ]
    },
    {
     "name": "stdout",
     "output_type": "stream",
     "text": [
      "Saved: /content/drive/MyDrive/MSPCORPUS/Transcripciones/MSP-Conversation_1421.wav.json\n",
      "/content/drive/MyDrive/MSPCORPUS/Audios/MSP-Conversation_0746.wav\n"
     ]
    },
    {
     "name": "stderr",
     "output_type": "stream",
     "text": [
      "Transcribe:   0%|          | 0/603.06 [00:00<?, ?sec/s]"
     ]
    },
    {
     "name": "stdout",
     "output_type": "stream",
     "text": [
      "Detected language: english\n"
     ]
    },
    {
     "name": "stderr",
     "output_type": "stream",
     "text": [
      "Transcribe: 100%|█████████▉| 602.4/603.06 [02:19<00:00,  4.33sec/s]\n"
     ]
    },
    {
     "name": "stdout",
     "output_type": "stream",
     "text": [
      "Saved: /content/drive/MyDrive/MSPCORPUS/Transcripciones/MSP-Conversation_0746.wav.json\n",
      "/content/drive/MyDrive/MSPCORPUS/Audios/MSP-Conversation_1356.wav\n"
     ]
    },
    {
     "name": "stderr",
     "output_type": "stream",
     "text": [
      "Transcribe:   0%|          | 0/1199.59 [00:00<?, ?sec/s]"
     ]
    },
    {
     "name": "stdout",
     "output_type": "stream",
     "text": [
      "Detected language: english\n"
     ]
    },
    {
     "name": "stderr",
     "output_type": "stream",
     "text": [
      "Transcribe: 100%|██████████| 1199.59/1199.59 [04:10<00:00,  4.79sec/s]\n"
     ]
    },
    {
     "name": "stdout",
     "output_type": "stream",
     "text": [
      "Saved: /content/drive/MyDrive/MSPCORPUS/Transcripciones/MSP-Conversation_1356.wav.json\n",
      "/content/drive/MyDrive/MSPCORPUS/Audios/MSP-Conversation_0821.wav\n"
     ]
    },
    {
     "name": "stderr",
     "output_type": "stream",
     "text": [
      "Transcribe:   0%|          | 0/1186.38 [00:00<?, ?sec/s]"
     ]
    },
    {
     "name": "stdout",
     "output_type": "stream",
     "text": [
      "Detected language: english\n"
     ]
    },
    {
     "name": "stderr",
     "output_type": "stream",
     "text": [
      "Transcribe: 100%|██████████| 1186.38/1186.38 [03:37<00:00,  5.44sec/s]\n"
     ]
    },
    {
     "name": "stdout",
     "output_type": "stream",
     "text": [
      "Saved: /content/drive/MyDrive/MSPCORPUS/Transcripciones/MSP-Conversation_0821.wav.json\n",
      "/content/drive/MyDrive/MSPCORPUS/Audios/MSP-Conversation_0522.wav\n"
     ]
    },
    {
     "name": "stderr",
     "output_type": "stream",
     "text": [
      "Transcribe:   0%|          | 0/703.13 [00:00<?, ?sec/s]"
     ]
    },
    {
     "name": "stdout",
     "output_type": "stream",
     "text": [
      "Detected language: english\n"
     ]
    },
    {
     "name": "stderr",
     "output_type": "stream",
     "text": [
      "Transcribe: 100%|██████████| 703.13/703.13 [03:13<00:00,  3.64sec/s]\n"
     ]
    },
    {
     "name": "stdout",
     "output_type": "stream",
     "text": [
      "Saved: /content/drive/MyDrive/MSPCORPUS/Transcripciones/MSP-Conversation_0522.wav.json\n",
      "/content/drive/MyDrive/MSPCORPUS/Audios/MSP-Conversation_1960.wav\n"
     ]
    },
    {
     "name": "stderr",
     "output_type": "stream",
     "text": [
      "Transcribe:   0%|          | 0/713.48 [00:00<?, ?sec/s]"
     ]
    },
    {
     "name": "stdout",
     "output_type": "stream",
     "text": [
      "Detected language: english\n"
     ]
    },
    {
     "name": "stderr",
     "output_type": "stream",
     "text": [
      "Transcribe: 100%|█████████▉| 713.3/713.48 [02:33<00:00,  4.66sec/s]\n"
     ]
    },
    {
     "name": "stdout",
     "output_type": "stream",
     "text": [
      "Saved: /content/drive/MyDrive/MSPCORPUS/Transcripciones/MSP-Conversation_1960.wav.json\n",
      "/content/drive/MyDrive/MSPCORPUS/Audios/MSP-Conversation_1710.wav\n"
     ]
    },
    {
     "name": "stderr",
     "output_type": "stream",
     "text": [
      "Transcribe:   0%|          | 0/952.37 [00:00<?, ?sec/s]"
     ]
    },
    {
     "name": "stdout",
     "output_type": "stream",
     "text": [
      "Detected language: english\n"
     ]
    },
    {
     "name": "stderr",
     "output_type": "stream",
     "text": [
      "Transcribe: 100%|██████████| 952.37/952.37 [02:26<00:00,  6.51sec/s]\n"
     ]
    },
    {
     "name": "stdout",
     "output_type": "stream",
     "text": [
      "Saved: /content/drive/MyDrive/MSPCORPUS/Transcripciones/MSP-Conversation_1710.wav.json\n",
      "/content/drive/MyDrive/MSPCORPUS/Audios/MSP-Conversation_0251.wav\n"
     ]
    },
    {
     "name": "stderr",
     "output_type": "stream",
     "text": [
      "Transcribe:   0%|          | 0/1189.3 [00:00<?, ?sec/s]"
     ]
    },
    {
     "name": "stdout",
     "output_type": "stream",
     "text": [
      "Detected language: english\n"
     ]
    },
    {
     "name": "stderr",
     "output_type": "stream",
     "text": [
      "Transcribe: 100%|██████████| 1189.3/1189.3 [04:43<00:00,  4.20sec/s]\n"
     ]
    },
    {
     "name": "stdout",
     "output_type": "stream",
     "text": [
      "Saved: /content/drive/MyDrive/MSPCORPUS/Transcripciones/MSP-Conversation_0251.wav.json\n",
      "/content/drive/MyDrive/MSPCORPUS/Audios/MSP-Conversation_0869.wav\n"
     ]
    },
    {
     "name": "stderr",
     "output_type": "stream",
     "text": [
      "Transcribe:   0%|          | 0/617.08 [00:00<?, ?sec/s]"
     ]
    },
    {
     "name": "stdout",
     "output_type": "stream",
     "text": [
      "Detected language: english\n"
     ]
    },
    {
     "name": "stderr",
     "output_type": "stream",
     "text": [
      "Transcribe: 100%|██████████| 617.08/617.08 [01:46<00:00,  5.82sec/s]\n"
     ]
    },
    {
     "name": "stdout",
     "output_type": "stream",
     "text": [
      "Saved: /content/drive/MyDrive/MSPCORPUS/Transcripciones/MSP-Conversation_0869.wav.json\n",
      "/content/drive/MyDrive/MSPCORPUS/Audios/MSP-Conversation_0087.wav\n"
     ]
    },
    {
     "name": "stderr",
     "output_type": "stream",
     "text": [
      "Transcribe:   0%|          | 0/981.58 [00:00<?, ?sec/s]"
     ]
    },
    {
     "name": "stdout",
     "output_type": "stream",
     "text": [
      "Detected language: english\n"
     ]
    },
    {
     "name": "stderr",
     "output_type": "stream",
     "text": [
      "Transcribe: 100%|██████████| 981.58/981.58 [04:04<00:00,  4.02sec/s]\n"
     ]
    },
    {
     "name": "stdout",
     "output_type": "stream",
     "text": [
      "Saved: /content/drive/MyDrive/MSPCORPUS/Transcripciones/MSP-Conversation_0087.wav.json\n",
      "/content/drive/MyDrive/MSPCORPUS/Audios/MSP-Conversation_0900.wav\n"
     ]
    },
    {
     "name": "stderr",
     "output_type": "stream",
     "text": [
      "Transcribe:   0%|          | 0/744.44 [00:00<?, ?sec/s]"
     ]
    },
    {
     "name": "stdout",
     "output_type": "stream",
     "text": [
      "Detected language: english\n"
     ]
    },
    {
     "name": "stderr",
     "output_type": "stream",
     "text": [
      "Transcribe: 100%|██████████| 744.44/744.44 [02:35<00:00,  4.78sec/s]\n"
     ]
    },
    {
     "name": "stdout",
     "output_type": "stream",
     "text": [
      "Saved: /content/drive/MyDrive/MSPCORPUS/Transcripciones/MSP-Conversation_0900.wav.json\n",
      "/content/drive/MyDrive/MSPCORPUS/Audios/MSP-Conversation_1599.wav\n"
     ]
    },
    {
     "name": "stderr",
     "output_type": "stream",
     "text": [
      "Transcribe:   0%|          | 0/811.0 [00:00<?, ?sec/s]"
     ]
    },
    {
     "name": "stdout",
     "output_type": "stream",
     "text": [
      "Detected language: english\n"
     ]
    },
    {
     "name": "stderr",
     "output_type": "stream",
     "text": [
      "Transcribe: 100%|██████████| 811.0/811.0 [02:30<00:00,  5.37sec/s]\n"
     ]
    },
    {
     "name": "stdout",
     "output_type": "stream",
     "text": [
      "Saved: /content/drive/MyDrive/MSPCORPUS/Transcripciones/MSP-Conversation_1599.wav.json\n",
      "/content/drive/MyDrive/MSPCORPUS/Audios/MSP-Conversation_1560.wav\n"
     ]
    },
    {
     "name": "stderr",
     "output_type": "stream",
     "text": [
      "Transcribe:   0%|          | 0/654.5 [00:00<?, ?sec/s]"
     ]
    },
    {
     "name": "stdout",
     "output_type": "stream",
     "text": [
      "Detected language: english\n"
     ]
    },
    {
     "name": "stderr",
     "output_type": "stream",
     "text": [
      "Transcribe: 100%|██████████| 654.5/654.5 [02:37<00:00,  4.16sec/s]\n"
     ]
    },
    {
     "name": "stdout",
     "output_type": "stream",
     "text": [
      "Saved: /content/drive/MyDrive/MSPCORPUS/Transcripciones/MSP-Conversation_1560.wav.json\n",
      "/content/drive/MyDrive/MSPCORPUS/Audios/MSP-Conversation_0544.wav\n"
     ]
    },
    {
     "name": "stderr",
     "output_type": "stream",
     "text": [
      "Transcribe:   0%|          | 0/1191.1 [00:00<?, ?sec/s]"
     ]
    },
    {
     "name": "stdout",
     "output_type": "stream",
     "text": [
      "Detected language: english\n"
     ]
    },
    {
     "name": "stderr",
     "output_type": "stream",
     "text": [
      "Transcribe: 100%|██████████| 1191.1/1191.1 [05:15<00:00,  3.77sec/s]\n"
     ]
    },
    {
     "name": "stdout",
     "output_type": "stream",
     "text": [
      "Saved: /content/drive/MyDrive/MSPCORPUS/Transcripciones/MSP-Conversation_0544.wav.json\n",
      "/content/drive/MyDrive/MSPCORPUS/Audios/MSP-Conversation_0770.wav\n"
     ]
    },
    {
     "name": "stderr",
     "output_type": "stream",
     "text": [
      "Transcribe:   0%|          | 0/830.72 [00:00<?, ?sec/s]"
     ]
    },
    {
     "name": "stdout",
     "output_type": "stream",
     "text": [
      "Detected language: english\n"
     ]
    },
    {
     "name": "stderr",
     "output_type": "stream",
     "text": [
      "Transcribe: 100%|██████████| 830.72/830.72 [03:29<00:00,  3.97sec/s]\n"
     ]
    },
    {
     "name": "stdout",
     "output_type": "stream",
     "text": [
      "Saved: /content/drive/MyDrive/MSPCORPUS/Transcripciones/MSP-Conversation_0770.wav.json\n",
      "/content/drive/MyDrive/MSPCORPUS/Audios/MSP-Conversation_0597.wav\n"
     ]
    },
    {
     "name": "stderr",
     "output_type": "stream",
     "text": [
      "Transcribe:   0%|          | 0/1142.43 [00:00<?, ?sec/s]"
     ]
    },
    {
     "name": "stdout",
     "output_type": "stream",
     "text": [
      "Detected language: english\n"
     ]
    },
    {
     "name": "stderr",
     "output_type": "stream",
     "text": [
      "Transcribe: 100%|██████████| 1142.43/1142.43 [05:01<00:00,  3.79sec/s]\n"
     ]
    },
    {
     "name": "stdout",
     "output_type": "stream",
     "text": [
      "Saved: /content/drive/MyDrive/MSPCORPUS/Transcripciones/MSP-Conversation_0597.wav.json\n",
      "/content/drive/MyDrive/MSPCORPUS/Audios/MSP-Conversation_1151.wav\n"
     ]
    },
    {
     "name": "stderr",
     "output_type": "stream",
     "text": [
      "Transcribe:   0%|          | 0/1159.82 [00:00<?, ?sec/s]"
     ]
    },
    {
     "name": "stdout",
     "output_type": "stream",
     "text": [
      "Detected language: english\n"
     ]
    },
    {
     "name": "stderr",
     "output_type": "stream",
     "text": [
      "Transcribe: 100%|██████████| 1159.82/1159.82 [05:15<00:00,  3.68sec/s]\n"
     ]
    },
    {
     "name": "stdout",
     "output_type": "stream",
     "text": [
      "Saved: /content/drive/MyDrive/MSPCORPUS/Transcripciones/MSP-Conversation_1151.wav.json\n",
      "/content/drive/MyDrive/MSPCORPUS/Audios/MSP-Conversation_1021.wav\n"
     ]
    },
    {
     "name": "stderr",
     "output_type": "stream",
     "text": [
      "Transcribe:   0%|          | 0/638.95 [00:00<?, ?sec/s]"
     ]
    },
    {
     "name": "stdout",
     "output_type": "stream",
     "text": [
      "Detected language: english\n"
     ]
    },
    {
     "name": "stderr",
     "output_type": "stream",
     "text": [
      "Transcribe: 100%|██████████| 638.95/638.95 [02:42<00:00,  3.93sec/s]\n"
     ]
    },
    {
     "name": "stdout",
     "output_type": "stream",
     "text": [
      "Saved: /content/drive/MyDrive/MSPCORPUS/Transcripciones/MSP-Conversation_1021.wav.json\n",
      "/content/drive/MyDrive/MSPCORPUS/Audios/MSP-Conversation_2245.wav\n"
     ]
    },
    {
     "name": "stderr",
     "output_type": "stream",
     "text": [
      "Transcribe:   0%|          | 0/1197.35 [00:00<?, ?sec/s]"
     ]
    },
    {
     "name": "stdout",
     "output_type": "stream",
     "text": [
      "Detected language: english\n"
     ]
    },
    {
     "name": "stderr",
     "output_type": "stream",
     "text": [
      "Transcribe: 100%|██████████| 1197.35/1197.35 [04:35<00:00,  4.34sec/s]\n"
     ]
    },
    {
     "name": "stdout",
     "output_type": "stream",
     "text": [
      "Saved: /content/drive/MyDrive/MSPCORPUS/Transcripciones/MSP-Conversation_2245.wav.json\n",
      "/content/drive/MyDrive/MSPCORPUS/Audios/MSP-Conversation_0706.wav\n"
     ]
    },
    {
     "name": "stderr",
     "output_type": "stream",
     "text": [
      "Transcribe:   0%|          | 0/1045.22 [00:00<?, ?sec/s]"
     ]
    },
    {
     "name": "stdout",
     "output_type": "stream",
     "text": [
      "Detected language: english\n"
     ]
    },
    {
     "name": "stderr",
     "output_type": "stream",
     "text": [
      "Transcribe: 100%|██████████| 1045.22/1045.22 [04:26<00:00,  3.92sec/s]\n"
     ]
    },
    {
     "name": "stdout",
     "output_type": "stream",
     "text": [
      "Saved: /content/drive/MyDrive/MSPCORPUS/Transcripciones/MSP-Conversation_0706.wav.json\n",
      "/content/drive/MyDrive/MSPCORPUS/Audios/MSP-Conversation_2100.wav\n"
     ]
    },
    {
     "name": "stderr",
     "output_type": "stream",
     "text": [
      "Transcribe:   0%|          | 0/953.91 [00:00<?, ?sec/s]"
     ]
    },
    {
     "name": "stdout",
     "output_type": "stream",
     "text": [
      "Detected language: english\n"
     ]
    },
    {
     "name": "stderr",
     "output_type": "stream",
     "text": [
      "Transcribe: 100%|██████████| 953.91/953.91 [03:18<00:00,  4.82sec/s]\n"
     ]
    },
    {
     "name": "stdout",
     "output_type": "stream",
     "text": [
      "Saved: /content/drive/MyDrive/MSPCORPUS/Transcripciones/MSP-Conversation_2100.wav.json\n",
      "/content/drive/MyDrive/MSPCORPUS/Audios/MSP-Conversation_0202.wav\n"
     ]
    },
    {
     "name": "stderr",
     "output_type": "stream",
     "text": [
      "Transcribe:   0%|          | 0/605.33 [00:00<?, ?sec/s]"
     ]
    },
    {
     "name": "stdout",
     "output_type": "stream",
     "text": [
      "Detected language: english\n"
     ]
    },
    {
     "name": "stderr",
     "output_type": "stream",
     "text": [
      "Transcribe: 100%|██████████| 605.33/605.33 [02:02<00:00,  4.93sec/s]\n"
     ]
    },
    {
     "name": "stdout",
     "output_type": "stream",
     "text": [
      "Saved: /content/drive/MyDrive/MSPCORPUS/Transcripciones/MSP-Conversation_0202.wav.json\n",
      "/content/drive/MyDrive/MSPCORPUS/Audios/MSP-Conversation_0489.wav\n"
     ]
    },
    {
     "name": "stderr",
     "output_type": "stream",
     "text": [
      "Transcribe:   0%|          | 0/623.35 [00:00<?, ?sec/s]"
     ]
    },
    {
     "name": "stdout",
     "output_type": "stream",
     "text": [
      "Detected language: english\n"
     ]
    },
    {
     "name": "stderr",
     "output_type": "stream",
     "text": [
      "Transcribe: 100%|██████████| 623.35/623.35 [02:03<00:00,  5.05sec/s]\n"
     ]
    },
    {
     "name": "stdout",
     "output_type": "stream",
     "text": [
      "Saved: /content/drive/MyDrive/MSPCORPUS/Transcripciones/MSP-Conversation_0489.wav.json\n",
      "/content/drive/MyDrive/MSPCORPUS/Audios/MSP-Conversation_0103.wav\n"
     ]
    },
    {
     "name": "stderr",
     "output_type": "stream",
     "text": [
      "Transcribe:   0%|          | 0/1200.0 [00:00<?, ?sec/s]"
     ]
    },
    {
     "name": "stdout",
     "output_type": "stream",
     "text": [
      "Detected language: english\n"
     ]
    },
    {
     "name": "stderr",
     "output_type": "stream",
     "text": [
      "Transcribe: 100%|█████████▉| 1197.84/1200.0 [05:46<00:00,  3.46sec/s]\n"
     ]
    },
    {
     "name": "stdout",
     "output_type": "stream",
     "text": [
      "Saved: /content/drive/MyDrive/MSPCORPUS/Transcripciones/MSP-Conversation_0103.wav.json\n",
      "/content/drive/MyDrive/MSPCORPUS/Audios/MSP-Conversation_0297.wav\n"
     ]
    },
    {
     "name": "stderr",
     "output_type": "stream",
     "text": [
      "Transcribe:   0%|          | 0/612.29 [00:00<?, ?sec/s]"
     ]
    },
    {
     "name": "stdout",
     "output_type": "stream",
     "text": [
      "Detected language: english\n"
     ]
    },
    {
     "name": "stderr",
     "output_type": "stream",
     "text": [
      "Transcribe: 100%|██████████| 612.29/612.29 [02:16<00:00,  4.49sec/s]\n"
     ]
    },
    {
     "name": "stdout",
     "output_type": "stream",
     "text": [
      "Saved: /content/drive/MyDrive/MSPCORPUS/Transcripciones/MSP-Conversation_0297.wav.json\n",
      "/content/drive/MyDrive/MSPCORPUS/Audios/MSP-Conversation_1657.wav\n"
     ]
    },
    {
     "name": "stderr",
     "output_type": "stream",
     "text": [
      "Transcribe:   0%|          | 0/1162.44 [00:00<?, ?sec/s]"
     ]
    },
    {
     "name": "stdout",
     "output_type": "stream",
     "text": [
      "Detected language: english\n"
     ]
    },
    {
     "name": "stderr",
     "output_type": "stream",
     "text": [
      "Transcribe: 100%|██████████| 1162.44/1162.44 [03:35<00:00,  5.38sec/s]\n"
     ]
    },
    {
     "name": "stdout",
     "output_type": "stream",
     "text": [
      "Saved: /content/drive/MyDrive/MSPCORPUS/Transcripciones/MSP-Conversation_1657.wav.json\n",
      "/content/drive/MyDrive/MSPCORPUS/Audios/MSP-Conversation_1545.wav\n"
     ]
    },
    {
     "name": "stderr",
     "output_type": "stream",
     "text": [
      "Transcribe:   0%|          | 0/621.45 [00:00<?, ?sec/s]"
     ]
    },
    {
     "name": "stdout",
     "output_type": "stream",
     "text": [
      "Detected language: english\n"
     ]
    },
    {
     "name": "stderr",
     "output_type": "stream",
     "text": [
      "Transcribe: 100%|██████████| 621.45/621.45 [01:38<00:00,  6.33sec/s]\n"
     ]
    },
    {
     "name": "stdout",
     "output_type": "stream",
     "text": [
      "Saved: /content/drive/MyDrive/MSPCORPUS/Transcripciones/MSP-Conversation_1545.wav.json\n",
      "/content/drive/MyDrive/MSPCORPUS/Audios/MSP-Conversation_0420.wav\n"
     ]
    },
    {
     "name": "stderr",
     "output_type": "stream",
     "text": [
      "Transcribe:   0%|          | 0/1163.59 [00:00<?, ?sec/s]"
     ]
    },
    {
     "name": "stdout",
     "output_type": "stream",
     "text": [
      "Detected language: english\n"
     ]
    },
    {
     "name": "stderr",
     "output_type": "stream",
     "text": [
      "Transcribe: 100%|██████████| 1163.59/1163.59 [05:36<00:00,  3.46sec/s]\n"
     ]
    },
    {
     "name": "stdout",
     "output_type": "stream",
     "text": [
      "Saved: /content/drive/MyDrive/MSPCORPUS/Transcripciones/MSP-Conversation_0420.wav.json\n",
      "/content/drive/MyDrive/MSPCORPUS/Audios/MSP-Conversation_0207.wav\n"
     ]
    },
    {
     "name": "stderr",
     "output_type": "stream",
     "text": [
      "Transcribe:   0%|          | 0/624.93 [00:00<?, ?sec/s]"
     ]
    },
    {
     "name": "stdout",
     "output_type": "stream",
     "text": [
      "Detected language: english\n"
     ]
    },
    {
     "name": "stderr",
     "output_type": "stream",
     "text": [
      "Transcribe: 100%|█████████▉| 624.9/624.93 [02:46<00:00,  3.75sec/s]\n"
     ]
    },
    {
     "name": "stdout",
     "output_type": "stream",
     "text": [
      "Saved: /content/drive/MyDrive/MSPCORPUS/Transcripciones/MSP-Conversation_0207.wav.json\n",
      "/content/drive/MyDrive/MSPCORPUS/Audios/MSP-Conversation_0905.wav\n"
     ]
    },
    {
     "name": "stderr",
     "output_type": "stream",
     "text": [
      "Transcribe:   0%|          | 0/957.3 [00:00<?, ?sec/s]"
     ]
    },
    {
     "name": "stdout",
     "output_type": "stream",
     "text": [
      "Detected language: english\n"
     ]
    },
    {
     "name": "stderr",
     "output_type": "stream",
     "text": [
      "Transcribe: 100%|██████████| 957.3/957.3 [03:17<00:00,  4.84sec/s]\n"
     ]
    },
    {
     "name": "stdout",
     "output_type": "stream",
     "text": [
      "Saved: /content/drive/MyDrive/MSPCORPUS/Transcripciones/MSP-Conversation_0905.wav.json\n",
      "/content/drive/MyDrive/MSPCORPUS/Audios/MSP-Conversation_1896.wav\n"
     ]
    },
    {
     "name": "stderr",
     "output_type": "stream",
     "text": [
      "Transcribe:   0%|          | 0/908.09 [00:00<?, ?sec/s]"
     ]
    },
    {
     "name": "stdout",
     "output_type": "stream",
     "text": [
      "Detected language: english\n"
     ]
    },
    {
     "name": "stderr",
     "output_type": "stream",
     "text": [
      "Transcribe: 100%|██████████| 908.09/908.09 [03:47<00:00,  4.00sec/s]\n"
     ]
    },
    {
     "name": "stdout",
     "output_type": "stream",
     "text": [
      "Saved: /content/drive/MyDrive/MSPCORPUS/Transcripciones/MSP-Conversation_1896.wav.json\n",
      "/content/drive/MyDrive/MSPCORPUS/Audios/MSP-Conversation_0802.wav\n"
     ]
    },
    {
     "name": "stderr",
     "output_type": "stream",
     "text": [
      "Transcribe:   0%|          | 0/675.77 [00:00<?, ?sec/s]"
     ]
    },
    {
     "name": "stdout",
     "output_type": "stream",
     "text": [
      "Detected language: english\n"
     ]
    },
    {
     "name": "stderr",
     "output_type": "stream",
     "text": [
      "Transcribe: 100%|██████████| 675.77/675.77 [02:23<00:00,  4.71sec/s]\n"
     ]
    },
    {
     "name": "stdout",
     "output_type": "stream",
     "text": [
      "Saved: /content/drive/MyDrive/MSPCORPUS/Transcripciones/MSP-Conversation_0802.wav.json\n",
      "/content/drive/MyDrive/MSPCORPUS/Audios/MSP-Conversation_0893.wav\n"
     ]
    },
    {
     "name": "stderr",
     "output_type": "stream",
     "text": [
      "Transcribe:   0%|          | 0/1192.01 [00:00<?, ?sec/s]"
     ]
    },
    {
     "name": "stdout",
     "output_type": "stream",
     "text": [
      "Detected language: english\n"
     ]
    },
    {
     "name": "stderr",
     "output_type": "stream",
     "text": [
      "Transcribe: 100%|█████████▉| 1191.32/1192.01 [06:13<00:00,  3.19sec/s]\n"
     ]
    },
    {
     "name": "stdout",
     "output_type": "stream",
     "text": [
      "Saved: /content/drive/MyDrive/MSPCORPUS/Transcripciones/MSP-Conversation_0893.wav.json\n",
      "/content/drive/MyDrive/MSPCORPUS/Audios/MSP-Conversation_0504.wav\n"
     ]
    },
    {
     "name": "stderr",
     "output_type": "stream",
     "text": [
      "Transcribe:   0%|          | 0/572.62 [00:00<?, ?sec/s]"
     ]
    },
    {
     "name": "stdout",
     "output_type": "stream",
     "text": [
      "Detected language: english\n"
     ]
    },
    {
     "name": "stderr",
     "output_type": "stream",
     "text": [
      "Transcribe: 100%|██████████| 572.62/572.62 [01:58<00:00,  4.82sec/s]\n"
     ]
    },
    {
     "name": "stdout",
     "output_type": "stream",
     "text": [
      "Saved: /content/drive/MyDrive/MSPCORPUS/Transcripciones/MSP-Conversation_0504.wav.json\n",
      "/content/drive/MyDrive/MSPCORPUS/Audios/MSP-Conversation_0563.wav\n"
     ]
    },
    {
     "name": "stderr",
     "output_type": "stream",
     "text": [
      "Transcribe:   0%|          | 0/1198.14 [00:00<?, ?sec/s]"
     ]
    },
    {
     "name": "stdout",
     "output_type": "stream",
     "text": [
      "Detected language: english\n"
     ]
    },
    {
     "name": "stderr",
     "output_type": "stream",
     "text": [
      "Transcribe: 100%|██████████| 1198.14/1198.14 [03:38<00:00,  5.48sec/s]\n"
     ]
    },
    {
     "name": "stdout",
     "output_type": "stream",
     "text": [
      "Saved: /content/drive/MyDrive/MSPCORPUS/Transcripciones/MSP-Conversation_0563.wav.json\n",
      "/content/drive/MyDrive/MSPCORPUS/Audios/MSP-Conversation_1892.wav\n"
     ]
    },
    {
     "name": "stderr",
     "output_type": "stream",
     "text": [
      "Transcribe:   0%|          | 0/923.26 [00:00<?, ?sec/s]"
     ]
    },
    {
     "name": "stdout",
     "output_type": "stream",
     "text": [
      "Detected language: english\n"
     ]
    },
    {
     "name": "stderr",
     "output_type": "stream",
     "text": [
      "Transcribe: 100%|██████████| 923.26/923.26 [03:04<00:00,  5.02sec/s]\n"
     ]
    },
    {
     "name": "stdout",
     "output_type": "stream",
     "text": [
      "Saved: /content/drive/MyDrive/MSPCORPUS/Transcripciones/MSP-Conversation_1892.wav.json\n",
      "/content/drive/MyDrive/MSPCORPUS/Audios/MSP-Conversation_0672.wav\n"
     ]
    },
    {
     "name": "stderr",
     "output_type": "stream",
     "text": [
      "Transcribe:   0%|          | 0/901.79 [00:00<?, ?sec/s]"
     ]
    },
    {
     "name": "stdout",
     "output_type": "stream",
     "text": [
      "Detected language: english\n"
     ]
    },
    {
     "name": "stderr",
     "output_type": "stream",
     "text": [
      "Transcribe: 100%|██████████| 901.79/901.79 [03:27<00:00,  4.36sec/s]\n"
     ]
    },
    {
     "name": "stdout",
     "output_type": "stream",
     "text": [
      "Saved: /content/drive/MyDrive/MSPCORPUS/Transcripciones/MSP-Conversation_0672.wav.json\n",
      "/content/drive/MyDrive/MSPCORPUS/Audios/MSP-Conversation_1406.wav\n"
     ]
    },
    {
     "name": "stderr",
     "output_type": "stream",
     "text": [
      "Transcribe:   0%|          | 0/669.94 [00:00<?, ?sec/s]"
     ]
    },
    {
     "name": "stdout",
     "output_type": "stream",
     "text": [
      "Detected language: english\n"
     ]
    },
    {
     "name": "stderr",
     "output_type": "stream",
     "text": [
      "Transcribe: 100%|██████████| 669.94/669.94 [02:09<00:00,  5.17sec/s]\n"
     ]
    },
    {
     "name": "stdout",
     "output_type": "stream",
     "text": [
      "Saved: /content/drive/MyDrive/MSPCORPUS/Transcripciones/MSP-Conversation_1406.wav.json\n",
      "/content/drive/MyDrive/MSPCORPUS/Audios/MSP-Conversation_1536.wav\n"
     ]
    },
    {
     "name": "stderr",
     "output_type": "stream",
     "text": [
      "Transcribe:   0%|          | 0/1197.77 [00:00<?, ?sec/s]"
     ]
    },
    {
     "name": "stdout",
     "output_type": "stream",
     "text": [
      "Detected language: english\n"
     ]
    },
    {
     "name": "stderr",
     "output_type": "stream",
     "text": [
      "Transcribe: 100%|█████████▉| 1195.74/1197.77 [05:28<00:00,  3.64sec/s]\n"
     ]
    },
    {
     "name": "stdout",
     "output_type": "stream",
     "text": [
      "Saved: /content/drive/MyDrive/MSPCORPUS/Transcripciones/MSP-Conversation_1536.wav.json\n",
      "/content/drive/MyDrive/MSPCORPUS/Audios/MSP-Conversation_0340.wav\n"
     ]
    },
    {
     "name": "stderr",
     "output_type": "stream",
     "text": [
      "Transcribe:   0%|          | 0/1189.6 [00:00<?, ?sec/s]"
     ]
    },
    {
     "name": "stdout",
     "output_type": "stream",
     "text": [
      "Detected language: english\n"
     ]
    },
    {
     "name": "stderr",
     "output_type": "stream",
     "text": [
      "Transcribe: 100%|██████████| 1189.6/1189.6 [03:49<00:00,  5.18sec/s]\n"
     ]
    },
    {
     "name": "stdout",
     "output_type": "stream",
     "text": [
      "Saved: /content/drive/MyDrive/MSPCORPUS/Transcripciones/MSP-Conversation_0340.wav.json\n",
      "/content/drive/MyDrive/MSPCORPUS/Audios/MSP-Conversation_0397.wav\n"
     ]
    },
    {
     "name": "stderr",
     "output_type": "stream",
     "text": [
      "Transcribe:   0%|          | 0/623.46 [00:00<?, ?sec/s]"
     ]
    },
    {
     "name": "stdout",
     "output_type": "stream",
     "text": [
      "Detected language: english\n"
     ]
    },
    {
     "name": "stderr",
     "output_type": "stream",
     "text": [
      "Transcribe: 100%|██████████| 623.46/623.46 [02:26<00:00,  4.25sec/s]\n"
     ]
    },
    {
     "name": "stdout",
     "output_type": "stream",
     "text": [
      "Saved: /content/drive/MyDrive/MSPCORPUS/Transcripciones/MSP-Conversation_0397.wav.json\n",
      "/content/drive/MyDrive/MSPCORPUS/Audios/MSP-Conversation_0278.wav\n"
     ]
    },
    {
     "name": "stderr",
     "output_type": "stream",
     "text": [
      "Transcribe:   0%|          | 0/616.35 [00:00<?, ?sec/s]"
     ]
    },
    {
     "name": "stdout",
     "output_type": "stream",
     "text": [
      "Detected language: english\n"
     ]
    },
    {
     "name": "stderr",
     "output_type": "stream",
     "text": [
      "Transcribe: 100%|██████████| 616.35/616.35 [02:26<00:00,  4.20sec/s]\n"
     ]
    },
    {
     "name": "stdout",
     "output_type": "stream",
     "text": [
      "Saved: /content/drive/MyDrive/MSPCORPUS/Transcripciones/MSP-Conversation_0278.wav.json\n",
      "/content/drive/MyDrive/MSPCORPUS/Audios/MSP-Conversation_1642.wav\n"
     ]
    },
    {
     "name": "stderr",
     "output_type": "stream",
     "text": [
      "Transcribe:   0%|          | 0/737.89 [00:00<?, ?sec/s]"
     ]
    },
    {
     "name": "stdout",
     "output_type": "stream",
     "text": [
      "Detected language: english\n"
     ]
    },
    {
     "name": "stderr",
     "output_type": "stream",
     "text": [
      "Transcribe: 100%|██████████| 737.89/737.89 [02:17<00:00,  5.38sec/s]\n"
     ]
    },
    {
     "name": "stdout",
     "output_type": "stream",
     "text": [
      "Saved: /content/drive/MyDrive/MSPCORPUS/Transcripciones/MSP-Conversation_1642.wav.json\n",
      "/content/drive/MyDrive/MSPCORPUS/Audios/MSP-Conversation_2214.wav\n"
     ]
    },
    {
     "name": "stderr",
     "output_type": "stream",
     "text": [
      "Transcribe:   0%|          | 0/645.95 [00:00<?, ?sec/s]"
     ]
    },
    {
     "name": "stdout",
     "output_type": "stream",
     "text": [
      "Detected language: english\n"
     ]
    },
    {
     "name": "stderr",
     "output_type": "stream",
     "text": [
      "Transcribe: 100%|██████████| 645.95/645.95 [02:23<00:00,  4.49sec/s]\n"
     ]
    },
    {
     "name": "stdout",
     "output_type": "stream",
     "text": [
      "Saved: /content/drive/MyDrive/MSPCORPUS/Transcripciones/MSP-Conversation_2214.wav.json\n",
      "/content/drive/MyDrive/MSPCORPUS/Audios/MSP-Conversation_1154.wav\n"
     ]
    },
    {
     "name": "stderr",
     "output_type": "stream",
     "text": [
      "Transcribe:   0%|          | 0/654.55 [00:00<?, ?sec/s]"
     ]
    },
    {
     "name": "stdout",
     "output_type": "stream",
     "text": [
      "Detected language: english\n"
     ]
    },
    {
     "name": "stderr",
     "output_type": "stream",
     "text": [
      "Transcribe: 100%|██████████| 654.55/654.55 [01:46<00:00,  6.17sec/s]\n"
     ]
    },
    {
     "name": "stdout",
     "output_type": "stream",
     "text": [
      "Saved: /content/drive/MyDrive/MSPCORPUS/Transcripciones/MSP-Conversation_1154.wav.json\n",
      "/content/drive/MyDrive/MSPCORPUS/Audios/MSP-Conversation_0101.wav\n"
     ]
    },
    {
     "name": "stderr",
     "output_type": "stream",
     "text": [
      "Transcribe:   0%|          | 0/1190.61 [00:00<?, ?sec/s]"
     ]
    },
    {
     "name": "stdout",
     "output_type": "stream",
     "text": [
      "Detected language: english\n"
     ]
    },
    {
     "name": "stderr",
     "output_type": "stream",
     "text": [
      "Transcribe: 100%|██████████| 1190.61/1190.61 [02:18<00:00,  8.63sec/s]\n"
     ]
    },
    {
     "name": "stdout",
     "output_type": "stream",
     "text": [
      "Saved: /content/drive/MyDrive/MSPCORPUS/Transcripciones/MSP-Conversation_0101.wav.json\n",
      "/content/drive/MyDrive/MSPCORPUS/Audios/MSP-Conversation_0035.wav\n"
     ]
    },
    {
     "name": "stderr",
     "output_type": "stream",
     "text": [
      "Transcribe:   0%|          | 0/677.0 [00:00<?, ?sec/s]"
     ]
    },
    {
     "name": "stdout",
     "output_type": "stream",
     "text": [
      "Detected language: english\n"
     ]
    },
    {
     "name": "stderr",
     "output_type": "stream",
     "text": [
      "Transcribe: 100%|██████████| 677.0/677.0 [01:42<00:00,  6.59sec/s]\n"
     ]
    },
    {
     "name": "stdout",
     "output_type": "stream",
     "text": [
      "Saved: /content/drive/MyDrive/MSPCORPUS/Transcripciones/MSP-Conversation_0035.wav.json\n",
      "/content/drive/MyDrive/MSPCORPUS/Audios/MSP-Conversation_0600.wav\n"
     ]
    },
    {
     "name": "stderr",
     "output_type": "stream",
     "text": [
      "Transcribe:   0%|          | 0/922.36 [00:00<?, ?sec/s]"
     ]
    },
    {
     "name": "stdout",
     "output_type": "stream",
     "text": [
      "Detected language: english\n"
     ]
    },
    {
     "name": "stderr",
     "output_type": "stream",
     "text": [
      "Transcribe: 100%|█████████▉| 921.66/922.36 [04:16<00:00,  3.59sec/s]\n"
     ]
    },
    {
     "name": "stdout",
     "output_type": "stream",
     "text": [
      "Saved: /content/drive/MyDrive/MSPCORPUS/Transcripciones/MSP-Conversation_0600.wav.json\n",
      "/content/drive/MyDrive/MSPCORPUS/Audios/MSP-Conversation_0538.wav\n"
     ]
    },
    {
     "name": "stderr",
     "output_type": "stream",
     "text": [
      "Transcribe:   0%|          | 0/918.62 [00:00<?, ?sec/s]"
     ]
    },
    {
     "name": "stdout",
     "output_type": "stream",
     "text": [
      "Detected language: english\n"
     ]
    },
    {
     "name": "stderr",
     "output_type": "stream",
     "text": [
      "Transcribe: 100%|██████████| 918.62/918.62 [02:38<00:00,  5.79sec/s]\n"
     ]
    },
    {
     "name": "stdout",
     "output_type": "stream",
     "text": [
      "Saved: /content/drive/MyDrive/MSPCORPUS/Transcripciones/MSP-Conversation_0538.wav.json\n",
      "/content/drive/MyDrive/MSPCORPUS/Audios/MSP-Conversation_0715.wav\n"
     ]
    },
    {
     "name": "stderr",
     "output_type": "stream",
     "text": [
      "Transcribe:   0%|          | 0/1192.66 [00:00<?, ?sec/s]"
     ]
    },
    {
     "name": "stdout",
     "output_type": "stream",
     "text": [
      "Detected language: english\n"
     ]
    },
    {
     "name": "stderr",
     "output_type": "stream",
     "text": [
      "Transcribe: 100%|██████████| 1192.66/1192.66 [04:47<00:00,  4.15sec/s]\n"
     ]
    },
    {
     "name": "stdout",
     "output_type": "stream",
     "text": [
      "Saved: /content/drive/MyDrive/MSPCORPUS/Transcripciones/MSP-Conversation_0715.wav.json\n",
      "/content/drive/MyDrive/MSPCORPUS/Audios/MSP-Conversation_2008.wav\n"
     ]
    },
    {
     "name": "stderr",
     "output_type": "stream",
     "text": [
      "Transcribe:   0%|          | 0/931.03 [00:00<?, ?sec/s]"
     ]
    },
    {
     "name": "stdout",
     "output_type": "stream",
     "text": [
      "Detected language: english\n"
     ]
    },
    {
     "name": "stderr",
     "output_type": "stream",
     "text": [
      "Transcribe: 100%|██████████| 931.03/931.03 [02:37<00:00,  5.89sec/s]\n"
     ]
    },
    {
     "name": "stdout",
     "output_type": "stream",
     "text": [
      "Saved: /content/drive/MyDrive/MSPCORPUS/Transcripciones/MSP-Conversation_2008.wav.json\n",
      "/content/drive/MyDrive/MSPCORPUS/Audios/MSP-Conversation_0079.wav\n"
     ]
    },
    {
     "name": "stderr",
     "output_type": "stream",
     "text": [
      "Transcribe:   0%|          | 0/801.21 [00:00<?, ?sec/s]"
     ]
    },
    {
     "name": "stdout",
     "output_type": "stream",
     "text": [
      "Detected language: english\n"
     ]
    },
    {
     "name": "stderr",
     "output_type": "stream",
     "text": [
      "Transcribe: 100%|██████████| 801.21/801.21 [02:47<00:00,  4.77sec/s]\n"
     ]
    },
    {
     "name": "stdout",
     "output_type": "stream",
     "text": [
      "Saved: /content/drive/MyDrive/MSPCORPUS/Transcripciones/MSP-Conversation_0079.wav.json\n",
      "/content/drive/MyDrive/MSPCORPUS/Audios/MSP-Conversation_2193.wav\n"
     ]
    },
    {
     "name": "stderr",
     "output_type": "stream",
     "text": [
      "Transcribe:   0%|          | 0/654.33 [00:00<?, ?sec/s]"
     ]
    },
    {
     "name": "stdout",
     "output_type": "stream",
     "text": [
      "Detected language: english\n"
     ]
    },
    {
     "name": "stderr",
     "output_type": "stream",
     "text": [
      "Transcribe: 100%|██████████| 654.33/654.33 [02:46<00:00,  3.93sec/s]\n"
     ]
    },
    {
     "name": "stdout",
     "output_type": "stream",
     "text": [
      "Saved: /content/drive/MyDrive/MSPCORPUS/Transcripciones/MSP-Conversation_2193.wav.json\n",
      "/content/drive/MyDrive/MSPCORPUS/Audios/MSP-Conversation_0823.wav\n"
     ]
    },
    {
     "name": "stderr",
     "output_type": "stream",
     "text": [
      "Transcribe:   0%|          | 0/1199.43 [00:00<?, ?sec/s]"
     ]
    },
    {
     "name": "stdout",
     "output_type": "stream",
     "text": [
      "Detected language: english\n"
     ]
    },
    {
     "name": "stderr",
     "output_type": "stream",
     "text": [
      "Transcribe: 100%|██████████| 1199.43/1199.43 [04:22<00:00,  4.58sec/s]\n"
     ]
    },
    {
     "name": "stdout",
     "output_type": "stream",
     "text": [
      "Saved: /content/drive/MyDrive/MSPCORPUS/Transcripciones/MSP-Conversation_0823.wav.json\n",
      "/content/drive/MyDrive/MSPCORPUS/Audios/MSP-Conversation_1184.wav\n"
     ]
    },
    {
     "name": "stderr",
     "output_type": "stream",
     "text": [
      "Transcribe:   0%|          | 0/648.49 [00:00<?, ?sec/s]"
     ]
    },
    {
     "name": "stdout",
     "output_type": "stream",
     "text": [
      "Detected language: english\n"
     ]
    },
    {
     "name": "stderr",
     "output_type": "stream",
     "text": [
      "Transcribe: 100%|██████████| 648.49/648.49 [02:24<00:00,  4.49sec/s]\n"
     ]
    },
    {
     "name": "stdout",
     "output_type": "stream",
     "text": [
      "Saved: /content/drive/MyDrive/MSPCORPUS/Transcripciones/MSP-Conversation_1184.wav.json\n",
      "/content/drive/MyDrive/MSPCORPUS/Audios/MSP-Conversation_1186.wav\n"
     ]
    },
    {
     "name": "stderr",
     "output_type": "stream",
     "text": [
      "Transcribe:   0%|          | 0/702.57 [00:00<?, ?sec/s]"
     ]
    },
    {
     "name": "stdout",
     "output_type": "stream",
     "text": [
      "Detected language: english\n"
     ]
    },
    {
     "name": "stderr",
     "output_type": "stream",
     "text": [
      "Transcribe: 100%|██████████| 702.57/702.57 [00:41<00:00, 17.04sec/s]\n"
     ]
    },
    {
     "name": "stdout",
     "output_type": "stream",
     "text": [
      "Saved: /content/drive/MyDrive/MSPCORPUS/Transcripciones/MSP-Conversation_1186.wav.json\n",
      "/content/drive/MyDrive/MSPCORPUS/Audios/MSP-Conversation_0690.wav\n"
     ]
    },
    {
     "name": "stderr",
     "output_type": "stream",
     "text": [
      "Transcribe:   0%|          | 0/918.28 [00:00<?, ?sec/s]"
     ]
    },
    {
     "name": "stdout",
     "output_type": "stream",
     "text": [
      "Detected language: english\n"
     ]
    },
    {
     "name": "stderr",
     "output_type": "stream",
     "text": [
      "Transcribe: 100%|██████████| 918.28/918.28 [03:27<00:00,  4.42sec/s]\n"
     ]
    },
    {
     "name": "stdout",
     "output_type": "stream",
     "text": [
      "Saved: /content/drive/MyDrive/MSPCORPUS/Transcripciones/MSP-Conversation_0690.wav.json\n",
      "/content/drive/MyDrive/MSPCORPUS/Audios/MSP-Conversation_0166.wav\n"
     ]
    },
    {
     "name": "stderr",
     "output_type": "stream",
     "text": [
      "Transcribe:   0%|          | 0/652.77 [00:00<?, ?sec/s]"
     ]
    },
    {
     "name": "stdout",
     "output_type": "stream",
     "text": [
      "Detected language: english\n"
     ]
    },
    {
     "name": "stderr",
     "output_type": "stream",
     "text": [
      "Transcribe: 100%|█████████▉| 651.68/652.77 [02:00<00:00,  5.43sec/s]\n"
     ]
    },
    {
     "name": "stdout",
     "output_type": "stream",
     "text": [
      "Saved: /content/drive/MyDrive/MSPCORPUS/Transcripciones/MSP-Conversation_0166.wav.json\n",
      "/content/drive/MyDrive/MSPCORPUS/Audios/MSP-Conversation_1925.wav\n"
     ]
    },
    {
     "name": "stderr",
     "output_type": "stream",
     "text": [
      "Transcribe:   0%|          | 0/607.02 [00:00<?, ?sec/s]"
     ]
    },
    {
     "name": "stdout",
     "output_type": "stream",
     "text": [
      "Detected language: english\n"
     ]
    },
    {
     "name": "stderr",
     "output_type": "stream",
     "text": [
      "Transcribe: 100%|██████████| 607.02/607.02 [01:40<00:00,  6.01sec/s]\n"
     ]
    },
    {
     "name": "stdout",
     "output_type": "stream",
     "text": [
      "Saved: /content/drive/MyDrive/MSPCORPUS/Transcripciones/MSP-Conversation_1925.wav.json\n",
      "/content/drive/MyDrive/MSPCORPUS/Audios/MSP-Conversation_0201.wav\n"
     ]
    },
    {
     "name": "stderr",
     "output_type": "stream",
     "text": [
      "Transcribe:   0%|          | 0/707.56 [00:00<?, ?sec/s]"
     ]
    },
    {
     "name": "stdout",
     "output_type": "stream",
     "text": [
      "Detected language: english\n"
     ]
    },
    {
     "name": "stderr",
     "output_type": "stream",
     "text": [
      "Transcribe: 100%|██████████| 707.56/707.56 [02:43<00:00,  4.32sec/s]\n"
     ]
    },
    {
     "name": "stdout",
     "output_type": "stream",
     "text": [
      "Saved: /content/drive/MyDrive/MSPCORPUS/Transcripciones/MSP-Conversation_0201.wav.json\n",
      "/content/drive/MyDrive/MSPCORPUS/Audios/MSP-Conversation_1992.wav\n"
     ]
    },
    {
     "name": "stderr",
     "output_type": "stream",
     "text": [
      "Transcribe:   0%|          | 0/676.55 [00:00<?, ?sec/s]"
     ]
    },
    {
     "name": "stdout",
     "output_type": "stream",
     "text": [
      "Detected language: english\n"
     ]
    },
    {
     "name": "stderr",
     "output_type": "stream",
     "text": [
      "Transcribe: 100%|██████████| 676.55/676.55 [02:49<00:00,  4.00sec/s]\n"
     ]
    },
    {
     "name": "stdout",
     "output_type": "stream",
     "text": [
      "Saved: /content/drive/MyDrive/MSPCORPUS/Transcripciones/MSP-Conversation_1992.wav.json\n",
      "/content/drive/MyDrive/MSPCORPUS/Audios/MSP-Conversation_1180.wav\n"
     ]
    },
    {
     "name": "stderr",
     "output_type": "stream",
     "text": [
      "Transcribe:   0%|          | 0/1198.21 [00:00<?, ?sec/s]"
     ]
    },
    {
     "name": "stdout",
     "output_type": "stream",
     "text": [
      "Detected language: english\n"
     ]
    },
    {
     "name": "stderr",
     "output_type": "stream",
     "text": [
      "Transcribe: 100%|██████████| 1198.21/1198.21 [03:49<00:00,  5.22sec/s]\n"
     ]
    },
    {
     "name": "stdout",
     "output_type": "stream",
     "text": [
      "Saved: /content/drive/MyDrive/MSPCORPUS/Transcripciones/MSP-Conversation_1180.wav.json\n",
      "/content/drive/MyDrive/MSPCORPUS/Audios/MSP-Conversation_0912.wav\n"
     ]
    },
    {
     "name": "stderr",
     "output_type": "stream",
     "text": [
      "Transcribe:   0%|          | 0/1195.49 [00:00<?, ?sec/s]"
     ]
    },
    {
     "name": "stdout",
     "output_type": "stream",
     "text": [
      "Detected language: english\n"
     ]
    },
    {
     "name": "stderr",
     "output_type": "stream",
     "text": [
      "Transcribe: 100%|██████████| 1195.49/1195.49 [04:51<00:00,  4.10sec/s]\n"
     ]
    },
    {
     "name": "stdout",
     "output_type": "stream",
     "text": [
      "Saved: /content/drive/MyDrive/MSPCORPUS/Transcripciones/MSP-Conversation_0912.wav.json\n",
      "/content/drive/MyDrive/MSPCORPUS/Audios/MSP-Conversation_0281.wav\n"
     ]
    },
    {
     "name": "stderr",
     "output_type": "stream",
     "text": [
      "Transcribe:   0%|          | 0/719.97 [00:00<?, ?sec/s]"
     ]
    },
    {
     "name": "stdout",
     "output_type": "stream",
     "text": [
      "Detected language: english\n"
     ]
    },
    {
     "name": "stderr",
     "output_type": "stream",
     "text": [
      "Transcribe: 100%|██████████| 719.97/719.97 [02:21<00:00,  5.10sec/s]\n"
     ]
    },
    {
     "name": "stdout",
     "output_type": "stream",
     "text": [
      "Saved: /content/drive/MyDrive/MSPCORPUS/Transcripciones/MSP-Conversation_0281.wav.json\n",
      "/content/drive/MyDrive/MSPCORPUS/Audios/MSP-Conversation_1701.wav\n"
     ]
    },
    {
     "name": "stderr",
     "output_type": "stream",
     "text": [
      "Transcribe:   0%|          | 0/914.74 [00:00<?, ?sec/s]"
     ]
    },
    {
     "name": "stdout",
     "output_type": "stream",
     "text": [
      "Detected language: english\n"
     ]
    },
    {
     "name": "stderr",
     "output_type": "stream",
     "text": [
      "Transcribe: 100%|██████████| 914.74/914.74 [03:39<00:00,  4.17sec/s]\n"
     ]
    },
    {
     "name": "stdout",
     "output_type": "stream",
     "text": [
      "Saved: /content/drive/MyDrive/MSPCORPUS/Transcripciones/MSP-Conversation_1701.wav.json\n",
      "/content/drive/MyDrive/MSPCORPUS/Audios/MSP-Conversation_0088.wav\n"
     ]
    },
    {
     "name": "stderr",
     "output_type": "stream",
     "text": [
      "Transcribe:   0%|          | 0/776.0 [00:00<?, ?sec/s]"
     ]
    },
    {
     "name": "stdout",
     "output_type": "stream",
     "text": [
      "Detected language: english\n"
     ]
    },
    {
     "name": "stderr",
     "output_type": "stream",
     "text": [
      "Transcribe: 100%|██████████| 776.0/776.0 [02:41<00:00,  4.80sec/s]\n"
     ]
    },
    {
     "name": "stdout",
     "output_type": "stream",
     "text": [
      "Saved: /content/drive/MyDrive/MSPCORPUS/Transcripciones/MSP-Conversation_0088.wav.json\n",
      "/content/drive/MyDrive/MSPCORPUS/Audios/MSP-Conversation_0782.wav\n"
     ]
    },
    {
     "name": "stderr",
     "output_type": "stream",
     "text": [
      "Transcribe:   0%|          | 0/1198.03 [00:00<?, ?sec/s]"
     ]
    },
    {
     "name": "stdout",
     "output_type": "stream",
     "text": [
      "Detected language: english\n"
     ]
    },
    {
     "name": "stderr",
     "output_type": "stream",
     "text": [
      "Transcribe: 100%|██████████| 1198.03/1198.03 [04:00<00:00,  4.98sec/s]\n"
     ]
    },
    {
     "name": "stdout",
     "output_type": "stream",
     "text": [
      "Saved: /content/drive/MyDrive/MSPCORPUS/Transcripciones/MSP-Conversation_0782.wav.json\n",
      "/content/drive/MyDrive/MSPCORPUS/Audios/MSP-Conversation_0054.wav\n"
     ]
    },
    {
     "name": "stderr",
     "output_type": "stream",
     "text": [
      "Transcribe:   0%|          | 0/889.01 [00:00<?, ?sec/s]"
     ]
    },
    {
     "name": "stdout",
     "output_type": "stream",
     "text": [
      "Detected language: english\n"
     ]
    },
    {
     "name": "stderr",
     "output_type": "stream",
     "text": [
      "Transcribe: 100%|██████████| 889.01/889.01 [03:10<00:00,  4.67sec/s]\n"
     ]
    },
    {
     "name": "stdout",
     "output_type": "stream",
     "text": [
      "Saved: /content/drive/MyDrive/MSPCORPUS/Transcripciones/MSP-Conversation_0054.wav.json\n",
      "/content/drive/MyDrive/MSPCORPUS/Audios/MSP-Conversation_1140.wav\n"
     ]
    },
    {
     "name": "stderr",
     "output_type": "stream",
     "text": [
      "Transcribe:   0%|          | 0/1190.99 [00:00<?, ?sec/s]"
     ]
    },
    {
     "name": "stdout",
     "output_type": "stream",
     "text": [
      "Detected language: english\n"
     ]
    },
    {
     "name": "stderr",
     "output_type": "stream",
     "text": [
      "Transcribe: 100%|██████████| 1190.99/1190.99 [03:58<00:00,  5.00sec/s]\n"
     ]
    },
    {
     "name": "stdout",
     "output_type": "stream",
     "text": [
      "Saved: /content/drive/MyDrive/MSPCORPUS/Transcripciones/MSP-Conversation_1140.wav.json\n",
      "/content/drive/MyDrive/MSPCORPUS/Audios/MSP-Conversation_0791.wav\n"
     ]
    },
    {
     "name": "stderr",
     "output_type": "stream",
     "text": [
      "Transcribe:   0%|          | 0/1180.14 [00:00<?, ?sec/s]"
     ]
    },
    {
     "name": "stdout",
     "output_type": "stream",
     "text": [
      "Detected language: english\n"
     ]
    },
    {
     "name": "stderr",
     "output_type": "stream",
     "text": [
      "Transcribe: 100%|██████████| 1180.14/1180.14 [04:04<00:00,  4.84sec/s]\n"
     ]
    },
    {
     "name": "stdout",
     "output_type": "stream",
     "text": [
      "Saved: /content/drive/MyDrive/MSPCORPUS/Transcripciones/MSP-Conversation_0791.wav.json\n",
      "/content/drive/MyDrive/MSPCORPUS/Audios/MSP-Conversation_0942.wav\n"
     ]
    },
    {
     "name": "stderr",
     "output_type": "stream",
     "text": [
      "Transcribe:   0%|          | 0/605.94 [00:00<?, ?sec/s]"
     ]
    },
    {
     "name": "stdout",
     "output_type": "stream",
     "text": [
      "Detected language: english\n"
     ]
    },
    {
     "name": "stderr",
     "output_type": "stream",
     "text": [
      "Transcribe: 100%|██████████| 605.94/605.94 [01:41<00:00,  5.96sec/s]\n"
     ]
    },
    {
     "name": "stdout",
     "output_type": "stream",
     "text": [
      "Saved: /content/drive/MyDrive/MSPCORPUS/Transcripciones/MSP-Conversation_0942.wav.json\n",
      "/content/drive/MyDrive/MSPCORPUS/Audios/MSP-Conversation_2281.wav\n"
     ]
    },
    {
     "name": "stderr",
     "output_type": "stream",
     "text": [
      "Transcribe:   0%|          | 0/1188.68 [00:00<?, ?sec/s]"
     ]
    },
    {
     "name": "stdout",
     "output_type": "stream",
     "text": [
      "Detected language: english\n"
     ]
    },
    {
     "name": "stderr",
     "output_type": "stream",
     "text": [
      "Transcribe: 100%|██████████| 1188.68/1188.68 [05:37<00:00,  3.53sec/s]\n"
     ]
    },
    {
     "name": "stdout",
     "output_type": "stream",
     "text": [
      "Saved: /content/drive/MyDrive/MSPCORPUS/Transcripciones/MSP-Conversation_2281.wav.json\n",
      "/content/drive/MyDrive/MSPCORPUS/Audios/MSP-Conversation_0114.wav\n"
     ]
    },
    {
     "name": "stderr",
     "output_type": "stream",
     "text": [
      "Transcribe:   0%|          | 0/855.0 [00:00<?, ?sec/s]"
     ]
    },
    {
     "name": "stdout",
     "output_type": "stream",
     "text": [
      "Detected language: english\n"
     ]
    },
    {
     "name": "stderr",
     "output_type": "stream",
     "text": [
      "Transcribe: 100%|██████████| 855.0/855.0 [03:03<00:00,  4.66sec/s]\n"
     ]
    },
    {
     "name": "stdout",
     "output_type": "stream",
     "text": [
      "Saved: /content/drive/MyDrive/MSPCORPUS/Transcripciones/MSP-Conversation_0114.wav.json\n",
      "/content/drive/MyDrive/MSPCORPUS/Audios/MSP-Conversation_1190.wav\n"
     ]
    },
    {
     "name": "stderr",
     "output_type": "stream",
     "text": [
      "Transcribe:   0%|          | 0/681.0 [00:00<?, ?sec/s]"
     ]
    },
    {
     "name": "stdout",
     "output_type": "stream",
     "text": [
      "Detected language: english\n"
     ]
    },
    {
     "name": "stderr",
     "output_type": "stream",
     "text": [
      "Transcribe: 100%|██████████| 681.0/681.0 [02:45<00:00,  4.13sec/s]\n"
     ]
    },
    {
     "name": "stdout",
     "output_type": "stream",
     "text": [
      "Saved: /content/drive/MyDrive/MSPCORPUS/Transcripciones/MSP-Conversation_1190.wav.json\n",
      "/content/drive/MyDrive/MSPCORPUS/Audios/MSP-Conversation_0830.wav\n"
     ]
    },
    {
     "name": "stderr",
     "output_type": "stream",
     "text": [
      "Transcribe:   0%|          | 0/705.87 [00:00<?, ?sec/s]"
     ]
    },
    {
     "name": "stdout",
     "output_type": "stream",
     "text": [
      "Detected language: english\n"
     ]
    },
    {
     "name": "stderr",
     "output_type": "stream",
     "text": [
      "Transcribe: 100%|██████████| 705.87/705.87 [02:38<00:00,  4.44sec/s]\n"
     ]
    },
    {
     "name": "stdout",
     "output_type": "stream",
     "text": [
      "Saved: /content/drive/MyDrive/MSPCORPUS/Transcripciones/MSP-Conversation_0830.wav.json\n",
      "/content/drive/MyDrive/MSPCORPUS/Audios/MSP-Conversation_0319.wav\n"
     ]
    },
    {
     "name": "stderr",
     "output_type": "stream",
     "text": [
      "Transcribe:   0%|          | 0/605.6 [00:00<?, ?sec/s]"
     ]
    },
    {
     "name": "stdout",
     "output_type": "stream",
     "text": [
      "Detected language: english\n"
     ]
    },
    {
     "name": "stderr",
     "output_type": "stream",
     "text": [
      "Transcribe: 100%|██████████| 605.6/605.6 [02:13<00:00,  4.53sec/s]\n"
     ]
    },
    {
     "name": "stdout",
     "output_type": "stream",
     "text": [
      "Saved: /content/drive/MyDrive/MSPCORPUS/Transcripciones/MSP-Conversation_0319.wav.json\n",
      "/content/drive/MyDrive/MSPCORPUS/Audios/MSP-Conversation_1353.wav\n"
     ]
    },
    {
     "name": "stderr",
     "output_type": "stream",
     "text": [
      "Transcribe:   0%|          | 0/725.11 [00:00<?, ?sec/s]"
     ]
    },
    {
     "name": "stdout",
     "output_type": "stream",
     "text": [
      "Detected language: english\n"
     ]
    },
    {
     "name": "stderr",
     "output_type": "stream",
     "text": [
      "Transcribe: 100%|██████████| 725.11/725.11 [02:31<00:00,  4.77sec/s]\n"
     ]
    },
    {
     "name": "stdout",
     "output_type": "stream",
     "text": [
      "Saved: /content/drive/MyDrive/MSPCORPUS/Transcripciones/MSP-Conversation_1353.wav.json\n",
      "/content/drive/MyDrive/MSPCORPUS/Audios/MSP-Conversation_0344.wav\n"
     ]
    },
    {
     "name": "stderr",
     "output_type": "stream",
     "text": [
      "Transcribe:   0%|          | 0/670.17 [00:00<?, ?sec/s]"
     ]
    },
    {
     "name": "stdout",
     "output_type": "stream",
     "text": [
      "Detected language: english\n"
     ]
    },
    {
     "name": "stderr",
     "output_type": "stream",
     "text": [
      "Transcribe: 100%|██████████| 670.17/670.17 [03:10<00:00,  3.53sec/s]\n"
     ]
    },
    {
     "name": "stdout",
     "output_type": "stream",
     "text": [
      "Saved: /content/drive/MyDrive/MSPCORPUS/Transcripciones/MSP-Conversation_0344.wav.json\n",
      "/content/drive/MyDrive/MSPCORPUS/Audios/MSP-Conversation_1198.wav\n"
     ]
    },
    {
     "name": "stderr",
     "output_type": "stream",
     "text": [
      "Transcribe:   0%|          | 0/632.97 [00:00<?, ?sec/s]"
     ]
    },
    {
     "name": "stdout",
     "output_type": "stream",
     "text": [
      "Detected language: english\n"
     ]
    },
    {
     "name": "stderr",
     "output_type": "stream",
     "text": [
      "Transcribe: 100%|██████████| 632.97/632.97 [01:55<00:00,  5.46sec/s]\n"
     ]
    },
    {
     "name": "stdout",
     "output_type": "stream",
     "text": [
      "Saved: /content/drive/MyDrive/MSPCORPUS/Transcripciones/MSP-Conversation_1198.wav.json\n",
      "/content/drive/MyDrive/MSPCORPUS/Audios/MSP-Conversation_0760.wav\n"
     ]
    },
    {
     "name": "stderr",
     "output_type": "stream",
     "text": [
      "Transcribe:   0%|          | 0/601.24 [00:00<?, ?sec/s]"
     ]
    },
    {
     "name": "stdout",
     "output_type": "stream",
     "text": [
      "Detected language: english\n"
     ]
    },
    {
     "name": "stderr",
     "output_type": "stream",
     "text": [
      "Transcribe: 100%|██████████| 601.24/601.24 [02:01<00:00,  4.93sec/s]\n"
     ]
    },
    {
     "name": "stdout",
     "output_type": "stream",
     "text": [
      "Saved: /content/drive/MyDrive/MSPCORPUS/Transcripciones/MSP-Conversation_0760.wav.json\n",
      "/content/drive/MyDrive/MSPCORPUS/Audios/MSP-Conversation_0422.wav\n"
     ]
    },
    {
     "name": "stderr",
     "output_type": "stream",
     "text": [
      "Transcribe:   0%|          | 0/603.0 [00:00<?, ?sec/s]"
     ]
    },
    {
     "name": "stdout",
     "output_type": "stream",
     "text": [
      "Detected language: english\n"
     ]
    },
    {
     "name": "stderr",
     "output_type": "stream",
     "text": [
      "Transcribe: 100%|██████████| 603.0/603.0 [02:25<00:00,  4.14sec/s]\n"
     ]
    },
    {
     "name": "stdout",
     "output_type": "stream",
     "text": [
      "Saved: /content/drive/MyDrive/MSPCORPUS/Transcripciones/MSP-Conversation_0422.wav.json\n",
      "/content/drive/MyDrive/MSPCORPUS/Audios/MSP-Conversation_1040.wav\n"
     ]
    },
    {
     "name": "stderr",
     "output_type": "stream",
     "text": [
      "Transcribe:   0%|          | 0/924.36 [00:00<?, ?sec/s]"
     ]
    },
    {
     "name": "stdout",
     "output_type": "stream",
     "text": [
      "Detected language: english\n"
     ]
    },
    {
     "name": "stderr",
     "output_type": "stream",
     "text": [
      "Transcribe: 100%|██████████| 924.36/924.36 [03:38<00:00,  4.22sec/s]\n"
     ]
    },
    {
     "name": "stdout",
     "output_type": "stream",
     "text": [
      "Saved: /content/drive/MyDrive/MSPCORPUS/Transcripciones/MSP-Conversation_1040.wav.json\n",
      "/content/drive/MyDrive/MSPCORPUS/Audios/MSP-Conversation_0722.wav\n"
     ]
    },
    {
     "name": "stderr",
     "output_type": "stream",
     "text": [
      "Transcribe:   0%|          | 0/671.25 [00:00<?, ?sec/s]"
     ]
    },
    {
     "name": "stdout",
     "output_type": "stream",
     "text": [
      "Detected language: english\n"
     ]
    },
    {
     "name": "stderr",
     "output_type": "stream",
     "text": [
      "Transcribe: 100%|█████████▉| 669.54/671.25 [02:30<00:00,  4.45sec/s]\n"
     ]
    },
    {
     "name": "stdout",
     "output_type": "stream",
     "text": [
      "Saved: /content/drive/MyDrive/MSPCORPUS/Transcripciones/MSP-Conversation_0722.wav.json\n",
      "/content/drive/MyDrive/MSPCORPUS/Audios/MSP-Conversation_0765.wav\n"
     ]
    },
    {
     "name": "stderr",
     "output_type": "stream",
     "text": [
      "Transcribe:   0%|          | 0/635.37 [00:00<?, ?sec/s]"
     ]
    },
    {
     "name": "stdout",
     "output_type": "stream",
     "text": [
      "Detected language: english\n"
     ]
    },
    {
     "name": "stderr",
     "output_type": "stream",
     "text": [
      "Transcribe: 100%|██████████| 635.37/635.37 [02:11<00:00,  4.84sec/s]\n"
     ]
    },
    {
     "name": "stdout",
     "output_type": "stream",
     "text": [
      "Saved: /content/drive/MyDrive/MSPCORPUS/Transcripciones/MSP-Conversation_0765.wav.json\n",
      "/content/drive/MyDrive/MSPCORPUS/Audios/MSP-Conversation_0996.wav\n"
     ]
    },
    {
     "name": "stderr",
     "output_type": "stream",
     "text": [
      "Transcribe:   0%|          | 0/926.0 [00:00<?, ?sec/s]"
     ]
    },
    {
     "name": "stdout",
     "output_type": "stream",
     "text": [
      "Detected language: english\n"
     ]
    },
    {
     "name": "stderr",
     "output_type": "stream",
     "text": [
      "Transcribe: 100%|██████████| 926.0/926.0 [03:21<00:00,  4.61sec/s]\n"
     ]
    },
    {
     "name": "stdout",
     "output_type": "stream",
     "text": [
      "Saved: /content/drive/MyDrive/MSPCORPUS/Transcripciones/MSP-Conversation_0996.wav.json\n",
      "/content/drive/MyDrive/MSPCORPUS/Audios/MSP-Conversation_1170.wav\n"
     ]
    },
    {
     "name": "stderr",
     "output_type": "stream",
     "text": [
      "Transcribe:   0%|          | 0/900.0 [00:00<?, ?sec/s]"
     ]
    },
    {
     "name": "stdout",
     "output_type": "stream",
     "text": [
      "Detected language: english\n"
     ]
    },
    {
     "name": "stderr",
     "output_type": "stream",
     "text": [
      "Transcribe: 100%|██████████| 900.0/900.0 [02:13<00:00,  6.72sec/s]\n"
     ]
    },
    {
     "name": "stdout",
     "output_type": "stream",
     "text": [
      "Saved: /content/drive/MyDrive/MSPCORPUS/Transcripciones/MSP-Conversation_1170.wav.json\n",
      "/content/drive/MyDrive/MSPCORPUS/Audios/MSP-Conversation_0642.wav\n"
     ]
    },
    {
     "name": "stderr",
     "output_type": "stream",
     "text": [
      "Transcribe:   0%|          | 0/1175.91 [00:00<?, ?sec/s]"
     ]
    },
    {
     "name": "stdout",
     "output_type": "stream",
     "text": [
      "Detected language: english\n"
     ]
    },
    {
     "name": "stderr",
     "output_type": "stream",
     "text": [
      "Transcribe: 100%|██████████| 1175.91/1175.91 [03:30<00:00,  5.59sec/s]\n"
     ]
    },
    {
     "name": "stdout",
     "output_type": "stream",
     "text": [
      "Saved: /content/drive/MyDrive/MSPCORPUS/Transcripciones/MSP-Conversation_0642.wav.json\n",
      "/content/drive/MyDrive/MSPCORPUS/Audios/MSP-Conversation_0575.wav\n"
     ]
    },
    {
     "name": "stderr",
     "output_type": "stream",
     "text": [
      "Transcribe:   0%|          | 0/1180.83 [00:00<?, ?sec/s]"
     ]
    },
    {
     "name": "stdout",
     "output_type": "stream",
     "text": [
      "Detected language: english\n"
     ]
    },
    {
     "name": "stderr",
     "output_type": "stream",
     "text": [
      "Transcribe: 100%|██████████| 1180.83/1180.83 [04:33<00:00,  4.31sec/s]\n"
     ]
    },
    {
     "name": "stdout",
     "output_type": "stream",
     "text": [
      "Saved: /content/drive/MyDrive/MSPCORPUS/Transcripciones/MSP-Conversation_0575.wav.json\n",
      "/content/drive/MyDrive/MSPCORPUS/Audios/MSP-Conversation_1159.wav\n"
     ]
    },
    {
     "name": "stderr",
     "output_type": "stream",
     "text": [
      "Transcribe:   0%|          | 0/810.13 [00:00<?, ?sec/s]"
     ]
    },
    {
     "name": "stdout",
     "output_type": "stream",
     "text": [
      "Detected language: english\n"
     ]
    },
    {
     "name": "stderr",
     "output_type": "stream",
     "text": [
      "Transcribe: 100%|██████████| 810.13/810.13 [02:25<00:00,  5.56sec/s]\n"
     ]
    },
    {
     "name": "stdout",
     "output_type": "stream",
     "text": [
      "Saved: /content/drive/MyDrive/MSPCORPUS/Transcripciones/MSP-Conversation_1159.wav.json\n",
      "/content/drive/MyDrive/MSPCORPUS/Audios/MSP-Conversation_0772.wav\n"
     ]
    },
    {
     "name": "stderr",
     "output_type": "stream",
     "text": [
      "Transcribe:   0%|          | 0/690.81 [00:00<?, ?sec/s]"
     ]
    },
    {
     "name": "stdout",
     "output_type": "stream",
     "text": [
      "Detected language: english\n"
     ]
    },
    {
     "name": "stderr",
     "output_type": "stream",
     "text": [
      "Transcribe: 100%|██████████| 690.81/690.81 [02:19<00:00,  4.94sec/s]\n"
     ]
    },
    {
     "name": "stdout",
     "output_type": "stream",
     "text": [
      "Saved: /content/drive/MyDrive/MSPCORPUS/Transcripciones/MSP-Conversation_0772.wav.json\n",
      "/content/drive/MyDrive/MSPCORPUS/Audios/MSP-Conversation_0300.wav\n"
     ]
    },
    {
     "name": "stderr",
     "output_type": "stream",
     "text": [
      "Transcribe:   0%|          | 0/657.0 [00:00<?, ?sec/s]"
     ]
    },
    {
     "name": "stdout",
     "output_type": "stream",
     "text": [
      "Detected language: english\n"
     ]
    },
    {
     "name": "stderr",
     "output_type": "stream",
     "text": [
      "Transcribe: 100%|██████████| 657.0/657.0 [03:26<00:00,  3.19sec/s]\n"
     ]
    },
    {
     "name": "stdout",
     "output_type": "stream",
     "text": [
      "Saved: /content/drive/MyDrive/MSPCORPUS/Transcripciones/MSP-Conversation_0300.wav.json\n",
      "/content/drive/MyDrive/MSPCORPUS/Audios/MSP-Conversation_0338.wav\n"
     ]
    },
    {
     "name": "stderr",
     "output_type": "stream",
     "text": [
      "Transcribe:   0%|          | 0/918.44 [00:00<?, ?sec/s]"
     ]
    },
    {
     "name": "stdout",
     "output_type": "stream",
     "text": [
      "Detected language: english\n"
     ]
    },
    {
     "name": "stderr",
     "output_type": "stream",
     "text": [
      "Transcribe: 100%|██████████| 918.44/918.44 [03:15<00:00,  4.69sec/s]\n"
     ]
    },
    {
     "name": "stdout",
     "output_type": "stream",
     "text": [
      "Saved: /content/drive/MyDrive/MSPCORPUS/Transcripciones/MSP-Conversation_0338.wav.json\n",
      "/content/drive/MyDrive/MSPCORPUS/Audios/MSP-Conversation_0683.wav\n"
     ]
    },
    {
     "name": "stderr",
     "output_type": "stream",
     "text": [
      "Transcribe:   0%|          | 0/1179.46 [00:00<?, ?sec/s]"
     ]
    },
    {
     "name": "stdout",
     "output_type": "stream",
     "text": [
      "Detected language: english\n"
     ]
    },
    {
     "name": "stderr",
     "output_type": "stream",
     "text": [
      "Transcribe: 100%|██████████| 1179.46/1179.46 [04:57<00:00,  3.96sec/s]\n"
     ]
    },
    {
     "name": "stdout",
     "output_type": "stream",
     "text": [
      "Saved: /content/drive/MyDrive/MSPCORPUS/Transcripciones/MSP-Conversation_0683.wav.json\n",
      "/content/drive/MyDrive/MSPCORPUS/Audios/MSP-Conversation_0183.wav\n"
     ]
    },
    {
     "name": "stderr",
     "output_type": "stream",
     "text": [
      "Transcribe:   0%|          | 0/660.45 [00:00<?, ?sec/s]"
     ]
    },
    {
     "name": "stdout",
     "output_type": "stream",
     "text": [
      "Detected language: english\n"
     ]
    },
    {
     "name": "stderr",
     "output_type": "stream",
     "text": [
      "Transcribe: 100%|██████████| 660.45/660.45 [01:57<00:00,  5.63sec/s]\n"
     ]
    },
    {
     "name": "stdout",
     "output_type": "stream",
     "text": [
      "Saved: /content/drive/MyDrive/MSPCORPUS/Transcripciones/MSP-Conversation_0183.wav.json\n",
      "/content/drive/MyDrive/MSPCORPUS/Audios/MSP-Conversation_1189.wav\n"
     ]
    },
    {
     "name": "stderr",
     "output_type": "stream",
     "text": [
      "Transcribe:   0%|          | 0/732.83 [00:00<?, ?sec/s]"
     ]
    },
    {
     "name": "stdout",
     "output_type": "stream",
     "text": [
      "Detected language: english\n"
     ]
    },
    {
     "name": "stderr",
     "output_type": "stream",
     "text": [
      "Transcribe: 100%|██████████| 732.83/732.83 [02:21<00:00,  5.17sec/s]"
     ]
    },
    {
     "name": "stdout",
     "output_type": "stream",
     "text": [
      "Saved: /content/drive/MyDrive/MSPCORPUS/Transcripciones/MSP-Conversation_1189.wav.json\n"
     ]
    },
    {
     "name": "stderr",
     "output_type": "stream",
     "text": [
      "\n"
     ]
    }
   ],
   "source": [
    "for audio in directory_files:\n",
    "  print(f'{directory_path}/{audio}')\n",
    "  if f'{audio}.json' not in destination_files:\n",
    "    result = model.transcribe(f'{directory_path}/{audio}')\n",
    "    result.save_as_json(f'drive/MyDrive/MSPCORPUS/Transcripciones/{audio}.json')\n",
    "  else:\n",
    "    print('SKIPPED')"
   ]
  }
 ],
 "metadata": {
  "accelerator": "GPU",
  "colab": {
   "gpuType": "V100",
   "provenance": []
  },
  "hide_input": false,
  "kernelspec": {
   "display_name": "Python 3 (ipykernel)",
   "language": "python",
   "name": "python3"
  },
  "language_info": {
   "codemirror_mode": {
    "name": "ipython",
    "version": 3
   },
   "file_extension": ".py",
   "mimetype": "text/x-python",
   "name": "python",
   "nbconvert_exporter": "python",
   "pygments_lexer": "ipython3",
   "version": "3.9.12"
  },
  "toc": {
   "base_numbering": 1,
   "nav_menu": {},
   "number_sections": true,
   "sideBar": true,
   "skip_h1_title": false,
   "title_cell": "Table of Contents",
   "title_sidebar": "Contents",
   "toc_cell": false,
   "toc_position": {},
   "toc_section_display": true,
   "toc_window_display": false
  }
 },
 "nbformat": 4,
 "nbformat_minor": 1
}
