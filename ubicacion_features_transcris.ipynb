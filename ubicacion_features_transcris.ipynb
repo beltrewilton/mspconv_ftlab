{
  "nbformat": 4,
  "nbformat_minor": 0,
  "metadata": {
    "colab": {
      "provenance": [],
      "authorship_tag": "ABX9TyOMRBTrPFoUsOeTFO9vlXgE"
    },
    "kernelspec": {
      "name": "python3",
      "display_name": "Python 3"
    },
    "language_info": {
      "name": "python"
    }
  },
  "cells": [
    {
      "cell_type": "code",
      "execution_count": null,
      "metadata": {
        "id": "YPBAZs2FLwfG"
      },
      "outputs": [],
      "source": [
        "## Direccion para los features y transcripciones\n",
        "\n",
        "features_wav_2-vec = \"https://drive.google.com/drive/folders/19waUJm8f0D6ZJzh7BdhXKmGHhWBibupi?usp=drive_link\"\n",
        "feature_open_smile = \"https://drive.google.com/drive/folders/1Llvg7SnvA16nU2jRLBX3ltkPX25EwMZf?usp=drive_link\"\n",
        "transcripciones = \"https://drive.google.com/drive/folders/1gvWRmOqxPNcAGnmio29ekiL4TVINsTKR?usp=sharing\""
      ]
    }
  ]
}