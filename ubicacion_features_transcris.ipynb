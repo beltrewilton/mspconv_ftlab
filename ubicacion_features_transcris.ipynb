{
 "cells": [
  {
   "cell_type": "code",
   "execution_count": null,
   "metadata": {
    "id": "YPBAZs2FLwfG"
   },
   "outputs": [],
   "source": [
    "## Direccion para los features y transcripciones\n",
    "\n",
    "features_wav_2-vec = \"https://drive.google.com/drive/folders/19waUJm8f0D6ZJzh7BdhXKmGHhWBibupi?usp=drive_link\"\n",
    "feature_open_smile = \"https://drive.google.com/drive/folders/1Llvg7SnvA16nU2jRLBX3ltkPX25EwMZf?usp=drive_link\"\n",
    "transcripciones = \"https://drive.google.com/drive/folders/1gvWRmOqxPNcAGnmio29ekiL4TVINsTKR?usp=sharing\""
   ]
  }
 ],
 "metadata": {
  "colab": {
   "authorship_tag": "ABX9TyOMRBTrPFoUsOeTFO9vlXgE",
   "provenance": []
  },
  "hide_input": false,
  "kernelspec": {
   "display_name": "Python 3 (ipykernel)",
   "language": "python",
   "name": "python3"
  },
  "language_info": {
   "codemirror_mode": {
    "name": "ipython",
    "version": 3
   },
   "file_extension": ".py",
   "mimetype": "text/x-python",
   "name": "python",
   "nbconvert_exporter": "python",
   "pygments_lexer": "ipython3",
   "version": "3.9.12"
  },
  "toc": {
   "base_numbering": 1,
   "nav_menu": {},
   "number_sections": true,
   "sideBar": true,
   "skip_h1_title": false,
   "title_cell": "Table of Contents",
   "title_sidebar": "Contents",
   "toc_cell": false,
   "toc_position": {},
   "toc_section_display": true,
   "toc_window_display": false
  }
 },
 "nbformat": 4,
 "nbformat_minor": 1
}
